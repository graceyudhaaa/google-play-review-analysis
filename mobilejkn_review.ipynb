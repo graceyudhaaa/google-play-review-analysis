{
 "cells": [
  {
   "cell_type": "markdown",
   "metadata": {},
   "source": [
    "# Rekomendasi Unsupervised Lbl2vec"
   ]
  },
  {
   "cell_type": "code",
   "execution_count": 1,
   "metadata": {},
   "outputs": [],
   "source": [
    "from google_play_scraper import app\n",
    "from google_play_scraper import Sort, reviews\n",
    "import pandas as pd\n",
    "import numpy as np\n",
    "import matplotlib.pyplot as plt\n",
    "\n",
    "from lbl2vec import Lbl2Vec\n",
    "from gensim.utils import simple_preprocess\n",
    "from gensim.models.callbacks import CallbackAny2Vec\n",
    "from gensim.models.doc2vec import TaggedDocument, Doc2Vec\n",
    "from gensim.parsing.preprocessing import strip_tags\n",
    "from sklearn.metrics import silhouette_score, calinski_harabasz_score, davies_bouldin_score\n",
    "from tqdm import tqdm\n",
    "\n",
    "tqdm.pandas()"
   ]
  },
  {
   "cell_type": "code",
   "execution_count": null,
   "metadata": {},
   "outputs": [],
   "source": [
    "result, continuation_token = reviews(\n",
    "    'com.dafturn.mypertamina',\n",
    "    lang='id', \n",
    "    country='id', \n",
    "    sort=Sort.MOST_RELEVANT, \n",
    "    count=114904, \n",
    "    filter_score_with=None\n",
    ")"
   ]
  },
  {
   "cell_type": "code",
   "execution_count": 7,
   "metadata": {},
   "outputs": [],
   "source": [
    "df = pd.DataFrame.from_dict(result)\n",
    "df = df[['userName', 'score','at', 'content']]"
   ]
  },
  {
   "cell_type": "code",
   "execution_count": 2,
   "metadata": {},
   "outputs": [],
   "source": [
    "import re\n",
    "def cleaningulasan(ulasan):\n",
    "  ulasan = re.sub(r'@[A-Za-a0-9]+',' ',ulasan)\n",
    "  ulasan = re.sub(r'#[A-Za-z0-9]+',' ',ulasan)\n",
    "  ulasan = re.sub(r\"http\\S+\",' ',ulasan)\n",
    "  ulasan = re.sub(r'[0-9]+',' ',ulasan)\n",
    "  ulasan = re.sub(r\"[-()\\\"#/@;:<>{}'+=~|.!?,_]\", \" \", ulasan)\n",
    "  ulasan = ulasan.strip(' ')\n",
    "  return ulasan\n",
    "\n",
    "def clearEmoji(ulasan):\n",
    "    return ulasan.encode('ascii', 'ignore').decode('ascii')\n",
    "\n",
    "def replaceTOM(ulasan):\n",
    "    pola = re.compile(r'(.)\\1{2,}', re.DOTALL)\n",
    "    return pola.sub(r'\\1', ulasan)\n",
    "\n",
    "def casefoldingText(ulasan):\n",
    "  ulasan = ulasan.lower()\n",
    "  return ulasan"
   ]
  },
  {
   "cell_type": "code",
   "execution_count": 9,
   "metadata": {},
   "outputs": [],
   "source": [
    "df['Cleaning']= df['content'].apply(cleaningulasan)\n",
    "df['HapusEmoji']= df['Cleaning'].apply(clearEmoji)\n",
    "df['3/Lebih']= df['HapusEmoji'].apply(replaceTOM)\n",
    "df['CaseFolding']= df['3/Lebih'].apply(casefoldingText)"
   ]
  },
  {
   "cell_type": "code",
   "execution_count": 10,
   "metadata": {},
   "outputs": [],
   "source": [
    "def convertToSlangword(ulasan):\n",
    "    kamusSlang = eval(open(\"NLP_bahasa_resources\\combined_slang_words.txt\").read())\n",
    "    content = []\n",
    "    for kata in ulasan.split():\n",
    "        try:\n",
    "            content.append(kamusSlang[kata])\n",
    "        except:\n",
    "            content.append(kata)\n",
    "    ulasan = ' '.join(content)\n",
    "    return ulasan\n",
    "\n",
    "df['Formalisasi'] = df['CaseFolding'].apply(convertToSlangword)"
   ]
  },
  {
   "cell_type": "code",
   "execution_count": 2,
   "metadata": {},
   "outputs": [],
   "source": [
    "df = pd.read_csv('review_mobile_jkn_processed.csv')"
   ]
  },
  {
   "cell_type": "code",
   "execution_count": 21,
   "metadata": {},
   "outputs": [],
   "source": [
    "positive = pd.read_csv('InSet\\positive.tsv', sep='\\t', index_col='word')\n",
    "negative = pd.read_csv('InSet\\\\negative.tsv', sep='\\t', index_col='word')\n",
    "\n",
    "# inset = pd.concat([positive, negative]).to_dict()['weight']\n",
    "positive = positive.to_dict()['weight']\n",
    "negative = negative.to_dict()['weight']"
   ]
  },
  {
   "cell_type": "code",
   "execution_count": 22,
   "metadata": {},
   "outputs": [
    {
     "name": "stderr",
     "output_type": "stream",
     "text": [
      "100%|██████████| 114904/114904 [00:02<00:00, 44064.64it/s] \n"
     ]
    }
   ],
   "source": [
    "def sentiment_score(ulasan):\n",
    "    inset_positive_score = 0\n",
    "    inset_negative_score = 0\n",
    "\n",
    "    for kata in str(ulasan).split():\n",
    "        try:\n",
    "            inset_positive_score += positive[kata]\n",
    "        except:\n",
    "            inset_positive_score += 0\n",
    "        \n",
    "        try:\n",
    "            inset_negative_score += negative[kata]\n",
    "        except:\n",
    "            inset_negative_score += 0\n",
    "\n",
    "    return inset_positive_score + inset_negative_score\n",
    "\n",
    "df['sentiment_score'] = df['CaseFolding'].progress_apply(sentiment_score)"
   ]
  },
  {
   "cell_type": "code",
   "execution_count": 4,
   "metadata": {},
   "outputs": [
    {
     "data": {
      "text/html": [
       "<div>\n",
       "<style scoped>\n",
       "    .dataframe tbody tr th:only-of-type {\n",
       "        vertical-align: middle;\n",
       "    }\n",
       "\n",
       "    .dataframe tbody tr th {\n",
       "        vertical-align: top;\n",
       "    }\n",
       "\n",
       "    .dataframe thead th {\n",
       "        text-align: right;\n",
       "    }\n",
       "</style>\n",
       "<table border=\"1\" class=\"dataframe\">\n",
       "  <thead>\n",
       "    <tr style=\"text-align: right;\">\n",
       "      <th></th>\n",
       "      <th>userName</th>\n",
       "      <th>score</th>\n",
       "      <th>at</th>\n",
       "      <th>content</th>\n",
       "      <th>Formalisasi</th>\n",
       "      <th>sentiment_score</th>\n",
       "    </tr>\n",
       "  </thead>\n",
       "  <tbody>\n",
       "    <tr>\n",
       "      <th>0</th>\n",
       "      <td>Setiawan Jodi</td>\n",
       "      <td>1</td>\n",
       "      <td>2022-10-03 05:19:36</td>\n",
       "      <td>Saat login kode capchta tidak muncul jaringan ...</td>\n",
       "      <td>saat login kode capchta tidak muncul jaringan ...</td>\n",
       "      <td>-23</td>\n",
       "    </tr>\n",
       "    <tr>\n",
       "      <th>1</th>\n",
       "      <td>Sri Astuti</td>\n",
       "      <td>1</td>\n",
       "      <td>2022-09-27 04:34:32</td>\n",
       "      <td>Aplikasi yg gak jelas, hal yg mudah dibuat jd ...</td>\n",
       "      <td>aplikasi yang gak jelas hal yang mudah dibuat ...</td>\n",
       "      <td>0</td>\n",
       "    </tr>\n",
       "    <tr>\n",
       "      <th>2</th>\n",
       "      <td>Pratiwi R</td>\n",
       "      <td>2</td>\n",
       "      <td>2022-10-03 07:16:04</td>\n",
       "      <td>Aplikasi nya kurang bagus versi sekarang... Ma...</td>\n",
       "      <td>aplikasi nya kurang bagus versi sekarang mau l...</td>\n",
       "      <td>-10</td>\n",
       "    </tr>\n",
       "    <tr>\n",
       "      <th>3</th>\n",
       "      <td>adnan maulana</td>\n",
       "      <td>5</td>\n",
       "      <td>2022-10-03 00:47:33</td>\n",
       "      <td>Kekurangannya, tidak seluruh Bank tersedia unt...</td>\n",
       "      <td>kekurangannya tidak seluruh bank tersedia untu...</td>\n",
       "      <td>12</td>\n",
       "    </tr>\n",
       "    <tr>\n",
       "      <th>4</th>\n",
       "      <td>Indria Mandala Putri</td>\n",
       "      <td>1</td>\n",
       "      <td>2022-10-03 09:50:28</td>\n",
       "      <td>Di satu sisi aplikasi ini bagus dan memudahkan...</td>\n",
       "      <td>di satu sisi aplikasi ini bagus dan memudahkan...</td>\n",
       "      <td>-17</td>\n",
       "    </tr>\n",
       "    <tr>\n",
       "      <th>...</th>\n",
       "      <td>...</td>\n",
       "      <td>...</td>\n",
       "      <td>...</td>\n",
       "      <td>...</td>\n",
       "      <td>...</td>\n",
       "      <td>...</td>\n",
       "    </tr>\n",
       "    <tr>\n",
       "      <th>124592</th>\n",
       "      <td>Pengguna Google</td>\n",
       "      <td>5</td>\n",
       "      <td>2016-10-28 11:48:57</td>\n",
       "      <td>Ok</td>\n",
       "      <td>ok</td>\n",
       "      <td>4</td>\n",
       "    </tr>\n",
       "    <tr>\n",
       "      <th>124593</th>\n",
       "      <td>Suprapto Rtku</td>\n",
       "      <td>5</td>\n",
       "      <td>2022-06-08 04:17:08</td>\n",
       "      <td>Setiyasih Setiyasih</td>\n",
       "      <td>setiyasih setiyasih</td>\n",
       "      <td>0</td>\n",
       "    </tr>\n",
       "    <tr>\n",
       "      <th>124594</th>\n",
       "      <td>Pengguna Google</td>\n",
       "      <td>5</td>\n",
       "      <td>2016-07-29 14:12:34</td>\n",
       "      <td>Good</td>\n",
       "      <td>good</td>\n",
       "      <td>5</td>\n",
       "    </tr>\n",
       "    <tr>\n",
       "      <th>124595</th>\n",
       "      <td>Pengguna Google</td>\n",
       "      <td>5</td>\n",
       "      <td>2016-10-27 12:12:42</td>\n",
       "      <td>Good</td>\n",
       "      <td>good</td>\n",
       "      <td>5</td>\n",
       "    </tr>\n",
       "    <tr>\n",
       "      <th>124596</th>\n",
       "      <td>Ratih Sukma</td>\n",
       "      <td>5</td>\n",
       "      <td>2022-10-12 10:09:56</td>\n",
       "      <td>Data Langsung terubah secara real time (pindah...</td>\n",
       "      <td>data langsung terubah secara real time pindah ...</td>\n",
       "      <td>6</td>\n",
       "    </tr>\n",
       "  </tbody>\n",
       "</table>\n",
       "<p>124597 rows × 6 columns</p>\n",
       "</div>"
      ],
      "text/plain": [
       "                    userName  score                   at  \\\n",
       "0              Setiawan Jodi      1  2022-10-03 05:19:36   \n",
       "1                 Sri Astuti      1  2022-09-27 04:34:32   \n",
       "2                  Pratiwi R      2  2022-10-03 07:16:04   \n",
       "3              adnan maulana      5  2022-10-03 00:47:33   \n",
       "4       Indria Mandala Putri      1  2022-10-03 09:50:28   \n",
       "...                      ...    ...                  ...   \n",
       "124592       Pengguna Google      5  2016-10-28 11:48:57   \n",
       "124593         Suprapto Rtku      5  2022-06-08 04:17:08   \n",
       "124594       Pengguna Google      5  2016-07-29 14:12:34   \n",
       "124595       Pengguna Google      5  2016-10-27 12:12:42   \n",
       "124596           Ratih Sukma      5  2022-10-12 10:09:56   \n",
       "\n",
       "                                                  content  \\\n",
       "0       Saat login kode capchta tidak muncul jaringan ...   \n",
       "1       Aplikasi yg gak jelas, hal yg mudah dibuat jd ...   \n",
       "2       Aplikasi nya kurang bagus versi sekarang... Ma...   \n",
       "3       Kekurangannya, tidak seluruh Bank tersedia unt...   \n",
       "4       Di satu sisi aplikasi ini bagus dan memudahkan...   \n",
       "...                                                   ...   \n",
       "124592                                                 Ok   \n",
       "124593                                Setiyasih Setiyasih   \n",
       "124594                                               Good   \n",
       "124595                                               Good   \n",
       "124596  Data Langsung terubah secara real time (pindah...   \n",
       "\n",
       "                                              Formalisasi  sentiment_score  \n",
       "0       saat login kode capchta tidak muncul jaringan ...              -23  \n",
       "1       aplikasi yang gak jelas hal yang mudah dibuat ...                0  \n",
       "2       aplikasi nya kurang bagus versi sekarang mau l...              -10  \n",
       "3       kekurangannya tidak seluruh bank tersedia untu...               12  \n",
       "4       di satu sisi aplikasi ini bagus dan memudahkan...              -17  \n",
       "...                                                   ...              ...  \n",
       "124592                                                 ok                4  \n",
       "124593                                setiyasih setiyasih                0  \n",
       "124594                                               good                5  \n",
       "124595                                               good                5  \n",
       "124596  data langsung terubah secara real time pindah ...                6  \n",
       "\n",
       "[124597 rows x 6 columns]"
      ]
     },
     "execution_count": 4,
     "metadata": {},
     "output_type": "execute_result"
    }
   ],
   "source": [
    "df = df[['userName', 'score','at', 'content', 'Formalisasi', 'sentiment_score']]\n",
    "df"
   ]
  },
  {
   "cell_type": "markdown",
   "metadata": {},
   "source": [
    "## Value Count by Score"
   ]
  },
  {
   "cell_type": "code",
   "execution_count": 45,
   "metadata": {},
   "outputs": [
    {
     "data": {
      "image/png": "[encoded data removed]",
      "text/plain": [
       "<Figure size 640x480 with 1 Axes>"
      ]
     },
     "metadata": {},
     "output_type": "display_data"
    }
   ],
   "source": [
    "ax = df['score'].value_counts().sort_index().plot(kind='barh')\n",
    "ax.bar_label(ax.containers[0], padding=5)\n",
    "ax.set_xlim(right=70000)\n",
    "\n",
    "plt.show()"
   ]
  },
  {
   "cell_type": "code",
   "execution_count": 24,
   "metadata": {},
   "outputs": [],
   "source": [
    "# df.to_csv('review_mypertamina.csv', index=False)"
   ]
  },
  {
   "cell_type": "code",
   "execution_count": 25,
   "metadata": {},
   "outputs": [],
   "source": [
    "# df = pd.read_csv('review_mypertamina.csv')"
   ]
  },
  {
   "cell_type": "code",
   "execution_count": 5,
   "metadata": {},
   "outputs": [],
   "source": [
    "labels = pd.read_csv('label_keyword_jkn (1).csv',sep=';')\n",
    "labels['keywords'] = labels['keywords'].apply(lambda x: x.lower().split(' '))\n",
    "labels['number_of_keywords'] = labels['keywords'].apply(lambda row: len(row))"
   ]
  },
  {
   "cell_type": "code",
   "execution_count": 23,
   "metadata": {},
   "outputs": [
    {
     "data": {
      "text/html": [
       "<div>\n",
       "<style scoped>\n",
       "    .dataframe tbody tr th:only-of-type {\n",
       "        vertical-align: middle;\n",
       "    }\n",
       "\n",
       "    .dataframe tbody tr th {\n",
       "        vertical-align: top;\n",
       "    }\n",
       "\n",
       "    .dataframe thead th {\n",
       "        text-align: right;\n",
       "    }\n",
       "</style>\n",
       "<table border=\"1\" class=\"dataframe\">\n",
       "  <thead>\n",
       "    <tr style=\"text-align: right;\">\n",
       "      <th></th>\n",
       "      <th>class_index</th>\n",
       "      <th>class_name</th>\n",
       "      <th>keywords</th>\n",
       "      <th>number_of_keywords</th>\n",
       "    </tr>\n",
       "  </thead>\n",
       "  <tbody>\n",
       "    <tr>\n",
       "      <th>0</th>\n",
       "      <td>1</td>\n",
       "      <td>user_experience</td>\n",
       "      <td>[ribet, menyulitkan, mempermudah, mudah, kuran...</td>\n",
       "      <td>26</td>\n",
       "    </tr>\n",
       "    <tr>\n",
       "      <th>1</th>\n",
       "      <td>2</td>\n",
       "      <td>server</td>\n",
       "      <td>[server, time, out, loading, gangguan]</td>\n",
       "      <td>5</td>\n",
       "    </tr>\n",
       "    <tr>\n",
       "      <th>2</th>\n",
       "      <td>3</td>\n",
       "      <td>payment</td>\n",
       "      <td>[bank, bayar, pembayaran, auto, debit, autodeb...</td>\n",
       "      <td>9</td>\n",
       "    </tr>\n",
       "    <tr>\n",
       "      <th>3</th>\n",
       "      <td>5</td>\n",
       "      <td>authentication_and_account</td>\n",
       "      <td>[edit, profile, password, login, email, masuk,...</td>\n",
       "      <td>24</td>\n",
       "    </tr>\n",
       "    <tr>\n",
       "      <th>4</th>\n",
       "      <td>7</td>\n",
       "      <td>faskes</td>\n",
       "      <td>[faskes, pribadi, kartu, bpjs]</td>\n",
       "      <td>4</td>\n",
       "    </tr>\n",
       "  </tbody>\n",
       "</table>\n",
       "</div>"
      ],
      "text/plain": [
       "   class_index                  class_name  \\\n",
       "0            1             user_experience   \n",
       "1            2                      server   \n",
       "2            3                     payment   \n",
       "3            5  authentication_and_account   \n",
       "4            7                      faskes   \n",
       "\n",
       "                                            keywords  number_of_keywords  \n",
       "0  [ribet, menyulitkan, mempermudah, mudah, kuran...                  26  \n",
       "1             [server, time, out, loading, gangguan]                   5  \n",
       "2  [bank, bayar, pembayaran, auto, debit, autodeb...                   9  \n",
       "3  [edit, profile, password, login, email, masuk,...                  24  \n",
       "4                     [faskes, pribadi, kartu, bpjs]                   4  "
      ]
     },
     "execution_count": 23,
     "metadata": {},
     "output_type": "execute_result"
    }
   ],
   "source": [
    "labels"
   ]
  },
  {
   "cell_type": "code",
   "execution_count": 5,
   "metadata": {},
   "outputs": [],
   "source": [
    "def tokenize(doc):\n",
    "    return simple_preprocess(strip_tags(doc), deacc=True, min_len=2, max_len=15)"
   ]
  },
  {
   "cell_type": "code",
   "execution_count": 33,
   "metadata": {},
   "outputs": [
    {
     "data": {
      "text/html": [
       "<div>\n",
       "<style scoped>\n",
       "    .dataframe tbody tr th:only-of-type {\n",
       "        vertical-align: middle;\n",
       "    }\n",
       "\n",
       "    .dataframe tbody tr th {\n",
       "        vertical-align: top;\n",
       "    }\n",
       "\n",
       "    .dataframe thead th {\n",
       "        text-align: right;\n",
       "    }\n",
       "</style>\n",
       "<table border=\"1\" class=\"dataframe\">\n",
       "  <thead>\n",
       "    <tr style=\"text-align: right;\">\n",
       "      <th></th>\n",
       "      <th>userName</th>\n",
       "      <th>score</th>\n",
       "      <th>at</th>\n",
       "      <th>content</th>\n",
       "      <th>Formalisasi</th>\n",
       "      <th>sentiment_score</th>\n",
       "      <th>tagged_docs</th>\n",
       "      <th>doc_key</th>\n",
       "    </tr>\n",
       "  </thead>\n",
       "  <tbody>\n",
       "    <tr>\n",
       "      <th>0</th>\n",
       "      <td>Setiawan Jodi</td>\n",
       "      <td>1</td>\n",
       "      <td>2022-10-03 05:19:36</td>\n",
       "      <td>Saat login kode capchta tidak muncul jaringan ...</td>\n",
       "      <td>saat login kode capchta tidak muncul jaringan ...</td>\n",
       "      <td>-23</td>\n",
       "      <td>([saat, login, kode, capchta, tidak, muncul, j...</td>\n",
       "      <td>0</td>\n",
       "    </tr>\n",
       "    <tr>\n",
       "      <th>1</th>\n",
       "      <td>Sri Astuti</td>\n",
       "      <td>1</td>\n",
       "      <td>2022-09-27 04:34:32</td>\n",
       "      <td>Aplikasi yg gak jelas, hal yg mudah dibuat jd ...</td>\n",
       "      <td>aplikasi yang gak jelas hal yang mudah dibuat ...</td>\n",
       "      <td>0</td>\n",
       "      <td>([aplikasi, yang, gak, jelas, hal, yang, mudah...</td>\n",
       "      <td>1</td>\n",
       "    </tr>\n",
       "    <tr>\n",
       "      <th>2</th>\n",
       "      <td>Pratiwi R</td>\n",
       "      <td>2</td>\n",
       "      <td>2022-10-03 07:16:04</td>\n",
       "      <td>Aplikasi nya kurang bagus versi sekarang... Ma...</td>\n",
       "      <td>aplikasi nya kurang bagus versi sekarang mau l...</td>\n",
       "      <td>-10</td>\n",
       "      <td>([aplikasi, nya, kurang, bagus, versi, sekaran...</td>\n",
       "      <td>2</td>\n",
       "    </tr>\n",
       "    <tr>\n",
       "      <th>3</th>\n",
       "      <td>adnan maulana</td>\n",
       "      <td>5</td>\n",
       "      <td>2022-10-03 00:47:33</td>\n",
       "      <td>Kekurangannya, tidak seluruh Bank tersedia unt...</td>\n",
       "      <td>kekurangannya tidak seluruh bank tersedia untu...</td>\n",
       "      <td>12</td>\n",
       "      <td>([kekurangannya, tidak, seluruh, bank, tersedi...</td>\n",
       "      <td>3</td>\n",
       "    </tr>\n",
       "    <tr>\n",
       "      <th>4</th>\n",
       "      <td>Indria Mandala Putri</td>\n",
       "      <td>1</td>\n",
       "      <td>2022-10-03 09:50:28</td>\n",
       "      <td>Di satu sisi aplikasi ini bagus dan memudahkan...</td>\n",
       "      <td>di satu sisi aplikasi ini bagus dan memudahkan...</td>\n",
       "      <td>-17</td>\n",
       "      <td>([di, satu, sisi, aplikasi, ini, bagus, dan, m...</td>\n",
       "      <td>4</td>\n",
       "    </tr>\n",
       "  </tbody>\n",
       "</table>\n",
       "</div>"
      ],
      "text/plain": [
       "               userName  score                   at  \\\n",
       "0         Setiawan Jodi      1  2022-10-03 05:19:36   \n",
       "1            Sri Astuti      1  2022-09-27 04:34:32   \n",
       "2             Pratiwi R      2  2022-10-03 07:16:04   \n",
       "3         adnan maulana      5  2022-10-03 00:47:33   \n",
       "4  Indria Mandala Putri      1  2022-10-03 09:50:28   \n",
       "\n",
       "                                             content  \\\n",
       "0  Saat login kode capchta tidak muncul jaringan ...   \n",
       "1  Aplikasi yg gak jelas, hal yg mudah dibuat jd ...   \n",
       "2  Aplikasi nya kurang bagus versi sekarang... Ma...   \n",
       "3  Kekurangannya, tidak seluruh Bank tersedia unt...   \n",
       "4  Di satu sisi aplikasi ini bagus dan memudahkan...   \n",
       "\n",
       "                                         Formalisasi  sentiment_score  \\\n",
       "0  saat login kode capchta tidak muncul jaringan ...              -23   \n",
       "1  aplikasi yang gak jelas hal yang mudah dibuat ...                0   \n",
       "2  aplikasi nya kurang bagus versi sekarang mau l...              -10   \n",
       "3  kekurangannya tidak seluruh bank tersedia untu...               12   \n",
       "4  di satu sisi aplikasi ini bagus dan memudahkan...              -17   \n",
       "\n",
       "                                         tagged_docs doc_key  \n",
       "0  ([saat, login, kode, capchta, tidak, muncul, j...       0  \n",
       "1  ([aplikasi, yang, gak, jelas, hal, yang, mudah...       1  \n",
       "2  ([aplikasi, nya, kurang, bagus, versi, sekaran...       2  \n",
       "3  ([kekurangannya, tidak, seluruh, bank, tersedi...       3  \n",
       "4  ([di, satu, sisi, aplikasi, ini, bagus, dan, m...       4  "
      ]
     },
     "execution_count": 33,
     "metadata": {},
     "output_type": "execute_result"
    }
   ],
   "source": [
    "df.head()"
   ]
  },
  {
   "cell_type": "code",
   "execution_count": 34,
   "metadata": {},
   "outputs": [],
   "source": [
    "# sum(df['Formalisasi'].isna())"
   ]
  },
  {
   "cell_type": "code",
   "execution_count": 6,
   "metadata": {},
   "outputs": [
    {
     "name": "stderr",
     "output_type": "stream",
     "text": [
      "100%|██████████| 124597/124597 [00:10<00:00, 11432.89it/s]\n"
     ]
    }
   ],
   "source": [
    "df['Formalisasi'] = df['Formalisasi'].fillna('').astype(str)\n",
    "df['tagged_docs'] = df.progress_apply(lambda row: TaggedDocument(tokenize(row['Formalisasi']), [str(row.name)]), axis=1)"
   ]
  },
  {
   "cell_type": "code",
   "execution_count": 9,
   "metadata": {},
   "outputs": [
    {
     "data": {
      "text/html": [
       "<div>\n",
       "<style scoped>\n",
       "    .dataframe tbody tr th:only-of-type {\n",
       "        vertical-align: middle;\n",
       "    }\n",
       "\n",
       "    .dataframe tbody tr th {\n",
       "        vertical-align: top;\n",
       "    }\n",
       "\n",
       "    .dataframe thead th {\n",
       "        text-align: right;\n",
       "    }\n",
       "</style>\n",
       "<table border=\"1\" class=\"dataframe\">\n",
       "  <thead>\n",
       "    <tr style=\"text-align: right;\">\n",
       "      <th></th>\n",
       "      <th>userName</th>\n",
       "      <th>score</th>\n",
       "      <th>at</th>\n",
       "      <th>content</th>\n",
       "      <th>Cleaning</th>\n",
       "      <th>HapusEmoji</th>\n",
       "      <th>3/Lebih</th>\n",
       "      <th>CaseFolding</th>\n",
       "      <th>Formalisasi</th>\n",
       "      <th>sentiment_score</th>\n",
       "      <th>tagged_docs</th>\n",
       "    </tr>\n",
       "  </thead>\n",
       "  <tbody>\n",
       "    <tr>\n",
       "      <th>0</th>\n",
       "      <td>Setiawan Jodi</td>\n",
       "      <td>1</td>\n",
       "      <td>2022-10-03 05:19:36</td>\n",
       "      <td>Saat login kode capchta tidak muncul jaringan ...</td>\n",
       "      <td>Saat login kode capchta tidak muncul jaringan ...</td>\n",
       "      <td>Saat login kode capchta tidak muncul jaringan ...</td>\n",
       "      <td>Saat login kode capchta tidak muncul jaringan ...</td>\n",
       "      <td>saat login kode capchta tidak muncul jaringan ...</td>\n",
       "      <td>saat login kode capchta tidak muncul jaringan ...</td>\n",
       "      <td>-23</td>\n",
       "      <td>([saat, login, kode, capchta, tidak, muncul, j...</td>\n",
       "    </tr>\n",
       "    <tr>\n",
       "      <th>1</th>\n",
       "      <td>Sri Astuti</td>\n",
       "      <td>1</td>\n",
       "      <td>2022-09-27 04:34:32</td>\n",
       "      <td>Aplikasi yg gak jelas, hal yg mudah dibuat jd ...</td>\n",
       "      <td>Aplikasi yg gak jelas  hal yg mudah dibuat jd ...</td>\n",
       "      <td>Aplikasi yg gak jelas  hal yg mudah dibuat jd ...</td>\n",
       "      <td>Aplikasi yg gak jelas  hal yg mudah dibuat jd ...</td>\n",
       "      <td>aplikasi yg gak jelas  hal yg mudah dibuat jd ...</td>\n",
       "      <td>aplikasi yang gak jelas hal yang mudah dibuat ...</td>\n",
       "      <td>0</td>\n",
       "      <td>([aplikasi, yang, gak, jelas, hal, yang, mudah...</td>\n",
       "    </tr>\n",
       "    <tr>\n",
       "      <th>2</th>\n",
       "      <td>Pratiwi R</td>\n",
       "      <td>2</td>\n",
       "      <td>2022-10-03 07:16:04</td>\n",
       "      <td>Aplikasi nya kurang bagus versi sekarang... Ma...</td>\n",
       "      <td>Aplikasi nya kurang bagus versi sekarang    Ma...</td>\n",
       "      <td>Aplikasi nya kurang bagus versi sekarang    Ma...</td>\n",
       "      <td>Aplikasi nya kurang bagus versi sekarang Mau l...</td>\n",
       "      <td>aplikasi nya kurang bagus versi sekarang mau l...</td>\n",
       "      <td>aplikasi nya kurang bagus versi sekarang mau l...</td>\n",
       "      <td>-10</td>\n",
       "      <td>([aplikasi, nya, kurang, bagus, versi, sekaran...</td>\n",
       "    </tr>\n",
       "    <tr>\n",
       "      <th>3</th>\n",
       "      <td>adnan maulana</td>\n",
       "      <td>5</td>\n",
       "      <td>2022-10-03 00:47:33</td>\n",
       "      <td>Kekurangannya, tidak seluruh Bank tersedia unt...</td>\n",
       "      <td>Kekurangannya  tidak seluruh Bank tersedia unt...</td>\n",
       "      <td>Kekurangannya  tidak seluruh Bank tersedia unt...</td>\n",
       "      <td>Kekurangannya  tidak seluruh Bank tersedia unt...</td>\n",
       "      <td>kekurangannya  tidak seluruh bank tersedia unt...</td>\n",
       "      <td>kekurangannya tidak seluruh bank tersedia untu...</td>\n",
       "      <td>12</td>\n",
       "      <td>([kekurangannya, tidak, seluruh, bank, tersedi...</td>\n",
       "    </tr>\n",
       "    <tr>\n",
       "      <th>4</th>\n",
       "      <td>Indria Mandala Putri</td>\n",
       "      <td>1</td>\n",
       "      <td>2022-10-03 09:50:28</td>\n",
       "      <td>Di satu sisi aplikasi ini bagus dan memudahkan...</td>\n",
       "      <td>Di satu sisi aplikasi ini bagus dan memudahkan...</td>\n",
       "      <td>Di satu sisi aplikasi ini bagus dan memudahkan...</td>\n",
       "      <td>Di satu sisi aplikasi ini bagus dan memudahkan...</td>\n",
       "      <td>di satu sisi aplikasi ini bagus dan memudahkan...</td>\n",
       "      <td>di satu sisi aplikasi ini bagus dan memudahkan...</td>\n",
       "      <td>-17</td>\n",
       "      <td>([di, satu, sisi, aplikasi, ini, bagus, dan, m...</td>\n",
       "    </tr>\n",
       "  </tbody>\n",
       "</table>\n",
       "</div>"
      ],
      "text/plain": [
       "               userName  score                   at  \\\n",
       "0         Setiawan Jodi      1  2022-10-03 05:19:36   \n",
       "1            Sri Astuti      1  2022-09-27 04:34:32   \n",
       "2             Pratiwi R      2  2022-10-03 07:16:04   \n",
       "3         adnan maulana      5  2022-10-03 00:47:33   \n",
       "4  Indria Mandala Putri      1  2022-10-03 09:50:28   \n",
       "\n",
       "                                             content  \\\n",
       "0  Saat login kode capchta tidak muncul jaringan ...   \n",
       "1  Aplikasi yg gak jelas, hal yg mudah dibuat jd ...   \n",
       "2  Aplikasi nya kurang bagus versi sekarang... Ma...   \n",
       "3  Kekurangannya, tidak seluruh Bank tersedia unt...   \n",
       "4  Di satu sisi aplikasi ini bagus dan memudahkan...   \n",
       "\n",
       "                                            Cleaning  \\\n",
       "0  Saat login kode capchta tidak muncul jaringan ...   \n",
       "1  Aplikasi yg gak jelas  hal yg mudah dibuat jd ...   \n",
       "2  Aplikasi nya kurang bagus versi sekarang    Ma...   \n",
       "3  Kekurangannya  tidak seluruh Bank tersedia unt...   \n",
       "4  Di satu sisi aplikasi ini bagus dan memudahkan...   \n",
       "\n",
       "                                          HapusEmoji  \\\n",
       "0  Saat login kode capchta tidak muncul jaringan ...   \n",
       "1  Aplikasi yg gak jelas  hal yg mudah dibuat jd ...   \n",
       "2  Aplikasi nya kurang bagus versi sekarang    Ma...   \n",
       "3  Kekurangannya  tidak seluruh Bank tersedia unt...   \n",
       "4  Di satu sisi aplikasi ini bagus dan memudahkan...   \n",
       "\n",
       "                                             3/Lebih  \\\n",
       "0  Saat login kode capchta tidak muncul jaringan ...   \n",
       "1  Aplikasi yg gak jelas  hal yg mudah dibuat jd ...   \n",
       "2  Aplikasi nya kurang bagus versi sekarang Mau l...   \n",
       "3  Kekurangannya  tidak seluruh Bank tersedia unt...   \n",
       "4  Di satu sisi aplikasi ini bagus dan memudahkan...   \n",
       "\n",
       "                                         CaseFolding  \\\n",
       "0  saat login kode capchta tidak muncul jaringan ...   \n",
       "1  aplikasi yg gak jelas  hal yg mudah dibuat jd ...   \n",
       "2  aplikasi nya kurang bagus versi sekarang mau l...   \n",
       "3  kekurangannya  tidak seluruh bank tersedia unt...   \n",
       "4  di satu sisi aplikasi ini bagus dan memudahkan...   \n",
       "\n",
       "                                         Formalisasi  sentiment_score  \\\n",
       "0  saat login kode capchta tidak muncul jaringan ...              -23   \n",
       "1  aplikasi yang gak jelas hal yang mudah dibuat ...                0   \n",
       "2  aplikasi nya kurang bagus versi sekarang mau l...              -10   \n",
       "3  kekurangannya tidak seluruh bank tersedia untu...               12   \n",
       "4  di satu sisi aplikasi ini bagus dan memudahkan...              -17   \n",
       "\n",
       "                                         tagged_docs  \n",
       "0  ([saat, login, kode, capchta, tidak, muncul, j...  \n",
       "1  ([aplikasi, yang, gak, jelas, hal, yang, mudah...  \n",
       "2  ([aplikasi, nya, kurang, bagus, versi, sekaran...  \n",
       "3  ([kekurangannya, tidak, seluruh, bank, tersedi...  \n",
       "4  ([di, satu, sisi, aplikasi, ini, bagus, dan, m...  "
      ]
     },
     "execution_count": 9,
     "metadata": {},
     "output_type": "execute_result"
    }
   ],
   "source": [
    "df.head()"
   ]
  },
  {
   "cell_type": "code",
   "execution_count": 7,
   "metadata": {},
   "outputs": [],
   "source": [
    "df['doc_key'] = df.index.astype(str)"
   ]
  },
  {
   "cell_type": "code",
   "execution_count": 27,
   "metadata": {},
   "outputs": [
    {
     "name": "stdout",
     "output_type": "stream",
     "text": [
      "Epoch #1 start\n",
      "Epoch #1 end\n",
      "Epoch #2 start\n",
      "Epoch #2 end\n",
      "Epoch #3 start\n",
      "Epoch #3 end\n",
      "Epoch #4 start\n",
      "Epoch #4 end\n",
      "Epoch #5 start\n",
      "Epoch #5 end\n",
      "Epoch #6 start\n",
      "Epoch #6 end\n",
      "Epoch #7 start\n",
      "Epoch #7 end\n",
      "Epoch #8 start\n",
      "Epoch #8 end\n",
      "Epoch #9 start\n",
      "Epoch #9 end\n",
      "Epoch #10 start\n",
      "Epoch #10 end\n",
      "Epoch #11 start\n",
      "Epoch #11 end\n",
      "Epoch #12 start\n",
      "Epoch #12 end\n",
      "Epoch #13 start\n",
      "Epoch #13 end\n",
      "Epoch #14 start\n",
      "Epoch #14 end\n",
      "Epoch #15 start\n",
      "Epoch #15 end\n",
      "Epoch #16 start\n",
      "Epoch #16 end\n",
      "Epoch #17 start\n",
      "Epoch #17 end\n",
      "Epoch #18 start\n",
      "Epoch #18 end\n",
      "Epoch #19 start\n",
      "Epoch #19 end\n",
      "Epoch #20 start\n",
      "Epoch #20 end\n",
      "Epoch #21 start\n",
      "Epoch #21 end\n",
      "Epoch #22 start\n",
      "Epoch #22 end\n",
      "Epoch #23 start\n",
      "Epoch #23 end\n",
      "Epoch #24 start\n",
      "Epoch #24 end\n",
      "Epoch #25 start\n",
      "Epoch #25 end\n",
      "Epoch #26 start\n",
      "Epoch #26 end\n",
      "Epoch #27 start\n",
      "Epoch #27 end\n",
      "Epoch #28 start\n",
      "Epoch #28 end\n",
      "Epoch #29 start\n",
      "Epoch #29 end\n",
      "Epoch #30 start\n",
      "Epoch #30 end\n",
      "Epoch #31 start\n",
      "Epoch #31 end\n",
      "Epoch #32 start\n",
      "Epoch #32 end\n",
      "Epoch #33 start\n",
      "Epoch #33 end\n",
      "Epoch #34 start\n",
      "Epoch #34 end\n",
      "Epoch #35 start\n",
      "Epoch #35 end\n",
      "Epoch #36 start\n",
      "Epoch #36 end\n",
      "Epoch #37 start\n",
      "Epoch #37 end\n",
      "Epoch #38 start\n",
      "Epoch #38 end\n",
      "Epoch #39 start\n",
      "Epoch #39 end\n",
      "Epoch #40 start\n",
      "Epoch #40 end\n",
      "Epoch #41 start\n",
      "Epoch #41 end\n",
      "Epoch #42 start\n",
      "Epoch #42 end\n",
      "Epoch #43 start\n",
      "Epoch #43 end\n",
      "Epoch #44 start\n",
      "Epoch #44 end\n",
      "Epoch #45 start\n",
      "Epoch #45 end\n",
      "Epoch #46 start\n",
      "Epoch #46 end\n",
      "Epoch #47 start\n",
      "Epoch #47 end\n",
      "Epoch #48 start\n",
      "Epoch #48 end\n",
      "Epoch #49 start\n",
      "Epoch #49 end\n",
      "Epoch #50 start\n",
      "Epoch #50 end\n",
      "Epoch #51 start\n",
      "Epoch #51 end\n",
      "Epoch #52 start\n",
      "Epoch #52 end\n",
      "Epoch #53 start\n",
      "Epoch #53 end\n",
      "Epoch #54 start\n",
      "Epoch #54 end\n",
      "Epoch #55 start\n",
      "Epoch #55 end\n",
      "Epoch #56 start\n",
      "Epoch #56 end\n",
      "Epoch #57 start\n",
      "Epoch #57 end\n",
      "Epoch #58 start\n",
      "Epoch #58 end\n",
      "Epoch #59 start\n",
      "Epoch #59 end\n",
      "Epoch #60 start\n",
      "Epoch #60 end\n",
      "Epoch #61 start\n",
      "Epoch #61 end\n",
      "Epoch #62 start\n",
      "Epoch #62 end\n",
      "Epoch #63 start\n",
      "Epoch #63 end\n",
      "Epoch #64 start\n",
      "Epoch #64 end\n",
      "Epoch #65 start\n",
      "Epoch #65 end\n",
      "Epoch #66 start\n",
      "Epoch #66 end\n",
      "Epoch #67 start\n",
      "Epoch #67 end\n",
      "Epoch #68 start\n",
      "Epoch #68 end\n",
      "Epoch #69 start\n",
      "Epoch #69 end\n",
      "Epoch #70 start\n",
      "Epoch #70 end\n",
      "Epoch #71 start\n",
      "Epoch #71 end\n",
      "Epoch #72 start\n",
      "Epoch #72 end\n",
      "Epoch #73 start\n",
      "Epoch #73 end\n",
      "Epoch #74 start\n",
      "Epoch #74 end\n",
      "Epoch #75 start\n",
      "Epoch #75 end\n",
      "Epoch #76 start\n",
      "Epoch #76 end\n",
      "Epoch #77 start\n",
      "Epoch #77 end\n",
      "Epoch #78 start\n",
      "Epoch #78 end\n",
      "Epoch #79 start\n",
      "Epoch #79 end\n",
      "Epoch #80 start\n",
      "Epoch #80 end\n",
      "Epoch #81 start\n",
      "Epoch #81 end\n",
      "Epoch #82 start\n",
      "Epoch #82 end\n",
      "Epoch #83 start\n",
      "Epoch #83 end\n",
      "Epoch #84 start\n",
      "Epoch #84 end\n",
      "Epoch #85 start\n",
      "Epoch #85 end\n",
      "Epoch #86 start\n",
      "Epoch #86 end\n",
      "Epoch #87 start\n",
      "Epoch #87 end\n",
      "Epoch #88 start\n",
      "Epoch #88 end\n",
      "Epoch #89 start\n",
      "Epoch #89 end\n",
      "Epoch #90 start\n",
      "Epoch #90 end\n",
      "Epoch #91 start\n",
      "Epoch #91 end\n",
      "Epoch #92 start\n",
      "Epoch #92 end\n",
      "Epoch #93 start\n",
      "Epoch #93 end\n",
      "Epoch #94 start\n",
      "Epoch #94 end\n",
      "Epoch #95 start\n",
      "Epoch #95 end\n",
      "Epoch #96 start\n",
      "Epoch #96 end\n",
      "Epoch #97 start\n",
      "Epoch #97 end\n",
      "Epoch #98 start\n",
      "Epoch #98 end\n",
      "Epoch #99 start\n",
      "Epoch #99 end\n",
      "Epoch #100 start\n",
      "Epoch #100 end\n"
     ]
    }
   ],
   "source": [
    "class EpochLogger(CallbackAny2Vec):\n",
    "    '''Callback to log information about training'''\n",
    "\n",
    "    def __init__(self):\n",
    "        self.epoch = 1\n",
    "\n",
    "    def on_epoch_begin(self, model):\n",
    "        print(\"Epoch #{} start\".format(self.epoch))\n",
    "\n",
    "    def on_epoch_end(self, model):\n",
    "        print(\"Epoch #{} end\".format(self.epoch))\n",
    "        self.epoch += 1\n",
    "\n",
    "epoch_logger = EpochLogger()\n",
    "\n",
    "doc2vec_model = Doc2Vec(documents=df['tagged_docs'], dbow_words=1, dm=1, alpha=0.001, vector_size=300 ,epochs=100, callbacks=[epoch_logger])"
   ]
  },
  {
   "cell_type": "code",
   "execution_count": 10,
   "metadata": {},
   "outputs": [],
   "source": [
    "doc2vec_model = Doc2Vec.load('doc2vec_mobileJKN_model')"
   ]
  },
  {
   "cell_type": "code",
   "execution_count": 35,
   "metadata": {},
   "outputs": [],
   "source": [
    "doc2vec_model.save('doc2vec_mobileJKN_model')"
   ]
  },
  {
   "cell_type": "code",
   "execution_count": 123,
   "metadata": {},
   "outputs": [
    {
     "name": "stderr",
     "output_type": "stream",
     "text": [
      "2022-10-20 11:43:12,131 - Lbl2Vec - INFO - Load document and word embeddings\n",
      "2022-10-20 11:43:12,134 - Lbl2Vec - INFO - Train label embeddings\n"
     ]
    }
   ],
   "source": [
    "Lbl2Vec_model = Lbl2Vec(keywords_list=list(labels.keywords),  doc2vec_model=doc2vec_model, label_names=list(labels.class_name), similarity_threshold=0.70, min_count=100, min_num_docs=170, epochs=100, clean_outlier=False)\n",
    "\n",
    "Lbl2Vec_model.fit()"
   ]
  },
  {
   "cell_type": "code",
   "execution_count": 124,
   "metadata": {},
   "outputs": [
    {
     "name": "stderr",
     "output_type": "stream",
     "text": [
      "2022-10-20 11:43:14,951 - Lbl2Vec - INFO - Get document embeddings from model\n",
      "2022-10-20 11:43:15,114 - Lbl2Vec - INFO - Calculate document<->label similarities\n"
     ]
    }
   ],
   "source": [
    "model_docs_lbl_similarities = Lbl2Vec_model.predict_model_docs()"
   ]
  },
  {
   "cell_type": "code",
   "execution_count": 125,
   "metadata": {},
   "outputs": [],
   "source": [
    "model_docs_lbl_similarities = model_docs_lbl_similarities.merge(df, left_on='doc_key', right_on='doc_key')#[['content','most_similar_label']]"
   ]
  },
  {
   "cell_type": "code",
   "execution_count": 126,
   "metadata": {},
   "outputs": [
    {
     "data": {
      "text/html": [
       "<div>\n",
       "<style scoped>\n",
       "    .dataframe tbody tr th:only-of-type {\n",
       "        vertical-align: middle;\n",
       "    }\n",
       "\n",
       "    .dataframe tbody tr th {\n",
       "        vertical-align: top;\n",
       "    }\n",
       "\n",
       "    .dataframe thead th {\n",
       "        text-align: right;\n",
       "    }\n",
       "</style>\n",
       "<table border=\"1\" class=\"dataframe\">\n",
       "  <thead>\n",
       "    <tr style=\"text-align: right;\">\n",
       "      <th></th>\n",
       "      <th>content</th>\n",
       "      <th>most_similar_label</th>\n",
       "    </tr>\n",
       "  </thead>\n",
       "  <tbody>\n",
       "    <tr>\n",
       "      <th>0</th>\n",
       "      <td>Saat login kode capchta tidak muncul jaringan ...</td>\n",
       "      <td>authentication_and_account</td>\n",
       "    </tr>\n",
       "    <tr>\n",
       "      <th>1</th>\n",
       "      <td>Aplikasi yg gak jelas, hal yg mudah dibuat jd ...</td>\n",
       "      <td>authentication_and_account</td>\n",
       "    </tr>\n",
       "    <tr>\n",
       "      <th>2</th>\n",
       "      <td>Aplikasi nya kurang bagus versi sekarang... Ma...</td>\n",
       "      <td>authentication_and_account</td>\n",
       "    </tr>\n",
       "    <tr>\n",
       "      <th>3</th>\n",
       "      <td>Kekurangannya, tidak seluruh Bank tersedia unt...</td>\n",
       "      <td>faskes</td>\n",
       "    </tr>\n",
       "    <tr>\n",
       "      <th>4</th>\n",
       "      <td>Di satu sisi aplikasi ini bagus dan memudahkan...</td>\n",
       "      <td>server</td>\n",
       "    </tr>\n",
       "    <tr>\n",
       "      <th>...</th>\n",
       "      <td>...</td>\n",
       "      <td>...</td>\n",
       "    </tr>\n",
       "    <tr>\n",
       "      <th>124592</th>\n",
       "      <td>Ok</td>\n",
       "      <td>user_experience</td>\n",
       "    </tr>\n",
       "    <tr>\n",
       "      <th>124593</th>\n",
       "      <td>Setiyasih Setiyasih</td>\n",
       "      <td>payment</td>\n",
       "    </tr>\n",
       "    <tr>\n",
       "      <th>124594</th>\n",
       "      <td>Good</td>\n",
       "      <td>server</td>\n",
       "    </tr>\n",
       "    <tr>\n",
       "      <th>124595</th>\n",
       "      <td>Good</td>\n",
       "      <td>server</td>\n",
       "    </tr>\n",
       "    <tr>\n",
       "      <th>124596</th>\n",
       "      <td>Data Langsung terubah secara real time (pindah...</td>\n",
       "      <td>server</td>\n",
       "    </tr>\n",
       "  </tbody>\n",
       "</table>\n",
       "<p>124597 rows × 2 columns</p>\n",
       "</div>"
      ],
      "text/plain": [
       "                                                  content  \\\n",
       "0       Saat login kode capchta tidak muncul jaringan ...   \n",
       "1       Aplikasi yg gak jelas, hal yg mudah dibuat jd ...   \n",
       "2       Aplikasi nya kurang bagus versi sekarang... Ma...   \n",
       "3       Kekurangannya, tidak seluruh Bank tersedia unt...   \n",
       "4       Di satu sisi aplikasi ini bagus dan memudahkan...   \n",
       "...                                                   ...   \n",
       "124592                                                 Ok   \n",
       "124593                                Setiyasih Setiyasih   \n",
       "124594                                               Good   \n",
       "124595                                               Good   \n",
       "124596  Data Langsung terubah secara real time (pindah...   \n",
       "\n",
       "                most_similar_label  \n",
       "0       authentication_and_account  \n",
       "1       authentication_and_account  \n",
       "2       authentication_and_account  \n",
       "3                           faskes  \n",
       "4                           server  \n",
       "...                            ...  \n",
       "124592             user_experience  \n",
       "124593                     payment  \n",
       "124594                      server  \n",
       "124595                      server  \n",
       "124596                      server  \n",
       "\n",
       "[124597 rows x 2 columns]"
      ]
     },
     "execution_count": 126,
     "metadata": {},
     "output_type": "execute_result"
    }
   ],
   "source": [
    "model_docs_lbl_similarities[['content', 'most_similar_label']]"
   ]
  },
  {
   "cell_type": "code",
   "execution_count": 127,
   "metadata": {},
   "outputs": [
    {
     "data": {
      "image/png": "[encoded data removed]",
      "text/plain": [
       "<Figure size 640x480 with 1 Axes>"
      ]
     },
     "metadata": {},
     "output_type": "display_data"
    }
   ],
   "source": [
    "ax = model_docs_lbl_similarities['most_similar_label'].value_counts().plot(kind='bar')\n",
    "ax.bar_label((ax.containers[0]))\n",
    "\n",
    "plt.show()"
   ]
  },
  {
   "cell_type": "code",
   "execution_count": 128,
   "metadata": {},
   "outputs": [],
   "source": [
    "sentiment_dict = {}\n",
    "for i in model_docs_lbl_similarities.iterrows():\n",
    "    sentiment_dict[i[1]['most_similar_label']] = sentiment_dict.get(i[1]['most_similar_label'], 0) + i[1]['sentiment_score']\n",
    "    # break"
   ]
  },
  {
   "cell_type": "code",
   "execution_count": 129,
   "metadata": {},
   "outputs": [],
   "source": [
    "sentiment_df = pd.DataFrame([val for _, val in sentiment_dict.items()], index=sentiment_dict.keys(), columns=['sentiment_score'])"
   ]
  },
  {
   "cell_type": "code",
   "execution_count": 130,
   "metadata": {},
   "outputs": [
    {
     "data": {
      "image/png": "[encoded data removed]",
      "text/plain": [
       "<Figure size 640x480 with 1 Axes>"
      ]
     },
     "metadata": {},
     "output_type": "display_data"
    }
   ],
   "source": [
    "ax = sentiment_df.sort_values('sentiment_score').plot.bar()\n",
    "ax.bar_label((ax.containers[0]))\n",
    "\n",
    "plt.show()"
   ]
  },
  {
   "cell_type": "code",
   "execution_count": 12,
   "metadata": {},
   "outputs": [],
   "source": [
    "model_docs_lbl_similarities.to_csv('model_docs_lbl_similarities.csv', index=False)"
   ]
  },
  {
   "cell_type": "code",
   "execution_count": 67,
   "metadata": {},
   "outputs": [],
   "source": [
    "model_docs_lbl_similarities[['most_similar_label', 'content']].to_csv('content_label_comparison.csv', index=False)"
   ]
  },
  {
   "cell_type": "code",
   "execution_count": 137,
   "metadata": {},
   "outputs": [],
   "source": [
    "Lbl2Vec_model.save('Lbl2Vec_model')"
   ]
  },
  {
   "cell_type": "code",
   "execution_count": 3,
   "metadata": {},
   "outputs": [],
   "source": [
    "Lbl2Vec_model = Lbl2Vec.load('Lbl2Vec_model')"
   ]
  },
  {
   "cell_type": "code",
   "execution_count": null,
   "metadata": {},
   "outputs": [],
   "source": [
    "Lbl2Vec_model.doc2vec_model.dv.vectors"
   ]
  },
  {
   "cell_type": "code",
   "execution_count": 11,
   "metadata": {},
   "outputs": [
    {
     "data": {
      "text/html": [
       "<div>\n",
       "<style scoped>\n",
       "    .dataframe tbody tr th:only-of-type {\n",
       "        vertical-align: middle;\n",
       "    }\n",
       "\n",
       "    .dataframe tbody tr th {\n",
       "        vertical-align: top;\n",
       "    }\n",
       "\n",
       "    .dataframe thead th {\n",
       "        text-align: right;\n",
       "    }\n",
       "</style>\n",
       "<table border=\"1\" class=\"dataframe\">\n",
       "  <thead>\n",
       "    <tr style=\"text-align: right;\">\n",
       "      <th></th>\n",
       "      <th>doc_key</th>\n",
       "      <th>most_similar_label</th>\n",
       "      <th>highest_similarity_score</th>\n",
       "      <th>user_experience</th>\n",
       "      <th>server</th>\n",
       "      <th>payment</th>\n",
       "      <th>authentication_and_account</th>\n",
       "      <th>faskes</th>\n",
       "      <th>userName</th>\n",
       "      <th>score</th>\n",
       "      <th>at</th>\n",
       "      <th>content</th>\n",
       "      <th>Cleaning</th>\n",
       "      <th>HapusEmoji</th>\n",
       "      <th>3/Lebih</th>\n",
       "      <th>CaseFolding</th>\n",
       "      <th>Formalisasi</th>\n",
       "      <th>sentiment_score</th>\n",
       "      <th>tagged_docs</th>\n",
       "    </tr>\n",
       "  </thead>\n",
       "  <tbody>\n",
       "    <tr>\n",
       "      <th>0</th>\n",
       "      <td>0</td>\n",
       "      <td>authentication_and_account</td>\n",
       "      <td>0.397597</td>\n",
       "      <td>-0.228221</td>\n",
       "      <td>-0.040829</td>\n",
       "      <td>-0.284972</td>\n",
       "      <td>0.397597</td>\n",
       "      <td>-0.239553</td>\n",
       "      <td>Setiawan Jodi</td>\n",
       "      <td>1</td>\n",
       "      <td>2022-10-03 05:19:36</td>\n",
       "      <td>Saat login kode capchta tidak muncul jaringan ...</td>\n",
       "      <td>Saat login kode capchta tidak muncul jaringan ...</td>\n",
       "      <td>Saat login kode capchta tidak muncul jaringan ...</td>\n",
       "      <td>Saat login kode capchta tidak muncul jaringan ...</td>\n",
       "      <td>saat login kode capchta tidak muncul jaringan ...</td>\n",
       "      <td>saat login kode capchta tidak muncul jaringan ...</td>\n",
       "      <td>-23</td>\n",
       "      <td>TaggedDocument&lt;['saat', 'login', 'kode', 'capc...</td>\n",
       "    </tr>\n",
       "    <tr>\n",
       "      <th>1</th>\n",
       "      <td>1</td>\n",
       "      <td>authentication_and_account</td>\n",
       "      <td>0.400477</td>\n",
       "      <td>-0.171505</td>\n",
       "      <td>-0.275439</td>\n",
       "      <td>-0.224857</td>\n",
       "      <td>0.400477</td>\n",
       "      <td>0.163774</td>\n",
       "      <td>Sri Astuti</td>\n",
       "      <td>1</td>\n",
       "      <td>2022-09-27 04:34:32</td>\n",
       "      <td>Aplikasi yg gak jelas, hal yg mudah dibuat jd ...</td>\n",
       "      <td>Aplikasi yg gak jelas  hal yg mudah dibuat jd ...</td>\n",
       "      <td>Aplikasi yg gak jelas  hal yg mudah dibuat jd ...</td>\n",
       "      <td>Aplikasi yg gak jelas  hal yg mudah dibuat jd ...</td>\n",
       "      <td>aplikasi yg gak jelas  hal yg mudah dibuat jd ...</td>\n",
       "      <td>aplikasi yang gak jelas hal yang mudah dibuat ...</td>\n",
       "      <td>0</td>\n",
       "      <td>TaggedDocument&lt;['aplikasi', 'yang', 'gak', 'je...</td>\n",
       "    </tr>\n",
       "    <tr>\n",
       "      <th>2</th>\n",
       "      <td>2</td>\n",
       "      <td>authentication_and_account</td>\n",
       "      <td>0.236454</td>\n",
       "      <td>0.100648</td>\n",
       "      <td>0.110374</td>\n",
       "      <td>-0.173836</td>\n",
       "      <td>0.236454</td>\n",
       "      <td>-0.059742</td>\n",
       "      <td>Pratiwi R</td>\n",
       "      <td>2</td>\n",
       "      <td>2022-10-03 07:16:04</td>\n",
       "      <td>Aplikasi nya kurang bagus versi sekarang... Ma...</td>\n",
       "      <td>Aplikasi nya kurang bagus versi sekarang    Ma...</td>\n",
       "      <td>Aplikasi nya kurang bagus versi sekarang    Ma...</td>\n",
       "      <td>Aplikasi nya kurang bagus versi sekarang Mau l...</td>\n",
       "      <td>aplikasi nya kurang bagus versi sekarang mau l...</td>\n",
       "      <td>aplikasi nya kurang bagus versi sekarang mau l...</td>\n",
       "      <td>-10</td>\n",
       "      <td>TaggedDocument&lt;['aplikasi', 'nya', 'kurang', '...</td>\n",
       "    </tr>\n",
       "    <tr>\n",
       "      <th>3</th>\n",
       "      <td>3</td>\n",
       "      <td>faskes</td>\n",
       "      <td>0.290748</td>\n",
       "      <td>-0.167004</td>\n",
       "      <td>-0.280194</td>\n",
       "      <td>0.102101</td>\n",
       "      <td>-0.054915</td>\n",
       "      <td>0.290748</td>\n",
       "      <td>adnan maulana</td>\n",
       "      <td>5</td>\n",
       "      <td>2022-10-03 00:47:33</td>\n",
       "      <td>Kekurangannya, tidak seluruh Bank tersedia unt...</td>\n",
       "      <td>Kekurangannya  tidak seluruh Bank tersedia unt...</td>\n",
       "      <td>Kekurangannya  tidak seluruh Bank tersedia unt...</td>\n",
       "      <td>Kekurangannya  tidak seluruh Bank tersedia unt...</td>\n",
       "      <td>kekurangannya  tidak seluruh bank tersedia unt...</td>\n",
       "      <td>kekurangannya tidak seluruh bank tersedia untu...</td>\n",
       "      <td>12</td>\n",
       "      <td>TaggedDocument&lt;['kekurangannya', 'tidak', 'sel...</td>\n",
       "    </tr>\n",
       "    <tr>\n",
       "      <th>4</th>\n",
       "      <td>4</td>\n",
       "      <td>server</td>\n",
       "      <td>0.253248</td>\n",
       "      <td>0.077883</td>\n",
       "      <td>0.253248</td>\n",
       "      <td>0.240120</td>\n",
       "      <td>-0.076451</td>\n",
       "      <td>-0.140412</td>\n",
       "      <td>Indria Mandala Putri</td>\n",
       "      <td>1</td>\n",
       "      <td>2022-10-03 09:50:28</td>\n",
       "      <td>Di satu sisi aplikasi ini bagus dan memudahkan...</td>\n",
       "      <td>Di satu sisi aplikasi ini bagus dan memudahkan...</td>\n",
       "      <td>Di satu sisi aplikasi ini bagus dan memudahkan...</td>\n",
       "      <td>Di satu sisi aplikasi ini bagus dan memudahkan...</td>\n",
       "      <td>di satu sisi aplikasi ini bagus dan memudahkan...</td>\n",
       "      <td>di satu sisi aplikasi ini bagus dan memudahkan...</td>\n",
       "      <td>-17</td>\n",
       "      <td>TaggedDocument&lt;['di', 'satu', 'sisi', 'aplikas...</td>\n",
       "    </tr>\n",
       "  </tbody>\n",
       "</table>\n",
       "</div>"
      ],
      "text/plain": [
       "   doc_key          most_similar_label  highest_similarity_score  \\\n",
       "0        0  authentication_and_account                  0.397597   \n",
       "1        1  authentication_and_account                  0.400477   \n",
       "2        2  authentication_and_account                  0.236454   \n",
       "3        3                      faskes                  0.290748   \n",
       "4        4                      server                  0.253248   \n",
       "\n",
       "   user_experience    server   payment  authentication_and_account    faskes  \\\n",
       "0        -0.228221 -0.040829 -0.284972                    0.397597 -0.239553   \n",
       "1        -0.171505 -0.275439 -0.224857                    0.400477  0.163774   \n",
       "2         0.100648  0.110374 -0.173836                    0.236454 -0.059742   \n",
       "3        -0.167004 -0.280194  0.102101                   -0.054915  0.290748   \n",
       "4         0.077883  0.253248  0.240120                   -0.076451 -0.140412   \n",
       "\n",
       "               userName  score                   at  \\\n",
       "0         Setiawan Jodi      1  2022-10-03 05:19:36   \n",
       "1            Sri Astuti      1  2022-09-27 04:34:32   \n",
       "2             Pratiwi R      2  2022-10-03 07:16:04   \n",
       "3         adnan maulana      5  2022-10-03 00:47:33   \n",
       "4  Indria Mandala Putri      1  2022-10-03 09:50:28   \n",
       "\n",
       "                                             content  \\\n",
       "0  Saat login kode capchta tidak muncul jaringan ...   \n",
       "1  Aplikasi yg gak jelas, hal yg mudah dibuat jd ...   \n",
       "2  Aplikasi nya kurang bagus versi sekarang... Ma...   \n",
       "3  Kekurangannya, tidak seluruh Bank tersedia unt...   \n",
       "4  Di satu sisi aplikasi ini bagus dan memudahkan...   \n",
       "\n",
       "                                            Cleaning  \\\n",
       "0  Saat login kode capchta tidak muncul jaringan ...   \n",
       "1  Aplikasi yg gak jelas  hal yg mudah dibuat jd ...   \n",
       "2  Aplikasi nya kurang bagus versi sekarang    Ma...   \n",
       "3  Kekurangannya  tidak seluruh Bank tersedia unt...   \n",
       "4  Di satu sisi aplikasi ini bagus dan memudahkan...   \n",
       "\n",
       "                                          HapusEmoji  \\\n",
       "0  Saat login kode capchta tidak muncul jaringan ...   \n",
       "1  Aplikasi yg gak jelas  hal yg mudah dibuat jd ...   \n",
       "2  Aplikasi nya kurang bagus versi sekarang    Ma...   \n",
       "3  Kekurangannya  tidak seluruh Bank tersedia unt...   \n",
       "4  Di satu sisi aplikasi ini bagus dan memudahkan...   \n",
       "\n",
       "                                             3/Lebih  \\\n",
       "0  Saat login kode capchta tidak muncul jaringan ...   \n",
       "1  Aplikasi yg gak jelas  hal yg mudah dibuat jd ...   \n",
       "2  Aplikasi nya kurang bagus versi sekarang Mau l...   \n",
       "3  Kekurangannya  tidak seluruh Bank tersedia unt...   \n",
       "4  Di satu sisi aplikasi ini bagus dan memudahkan...   \n",
       "\n",
       "                                         CaseFolding  \\\n",
       "0  saat login kode capchta tidak muncul jaringan ...   \n",
       "1  aplikasi yg gak jelas  hal yg mudah dibuat jd ...   \n",
       "2  aplikasi nya kurang bagus versi sekarang mau l...   \n",
       "3  kekurangannya  tidak seluruh bank tersedia unt...   \n",
       "4  di satu sisi aplikasi ini bagus dan memudahkan...   \n",
       "\n",
       "                                         Formalisasi  sentiment_score  \\\n",
       "0  saat login kode capchta tidak muncul jaringan ...              -23   \n",
       "1  aplikasi yang gak jelas hal yang mudah dibuat ...                0   \n",
       "2  aplikasi nya kurang bagus versi sekarang mau l...              -10   \n",
       "3  kekurangannya tidak seluruh bank tersedia untu...               12   \n",
       "4  di satu sisi aplikasi ini bagus dan memudahkan...              -17   \n",
       "\n",
       "                                         tagged_docs  \n",
       "0  TaggedDocument<['saat', 'login', 'kode', 'capc...  \n",
       "1  TaggedDocument<['aplikasi', 'yang', 'gak', 'je...  \n",
       "2  TaggedDocument<['aplikasi', 'nya', 'kurang', '...  \n",
       "3  TaggedDocument<['kekurangannya', 'tidak', 'sel...  \n",
       "4  TaggedDocument<['di', 'satu', 'sisi', 'aplikas...  "
      ]
     },
     "execution_count": 11,
     "metadata": {},
     "output_type": "execute_result"
    }
   ],
   "source": [
    "model_docs_lbl_similarities = pd.read_csv('model_docs_lbl_similarities.csv')\n",
    "model_docs_lbl_similarities.head()"
   ]
  },
  {
   "cell_type": "code",
   "execution_count": 131,
   "metadata": {},
   "outputs": [],
   "source": [
    "lbl2vec_silhouette_score = silhouette_score(Lbl2Vec_model.doc2vec_model.dv.vectors, model_docs_lbl_similarities.most_similar_label)\n",
    "lbl2vec_calinski_harabasz_score = calinski_harabasz_score(Lbl2Vec_model.doc2vec_model.dv.vectors, model_docs_lbl_similarities.most_similar_label)\n",
    "lbl2vec_davies_bouldin_score = davies_bouldin_score(Lbl2Vec_model.doc2vec_model.dv.vectors, model_docs_lbl_similarities.most_similar_label)"
   ]
  },
  {
   "cell_type": "code",
   "execution_count": 139,
   "metadata": {},
   "outputs": [
    {
     "data": {
      "text/plain": [
       "0.015476633"
      ]
     },
     "execution_count": 139,
     "metadata": {},
     "output_type": "execute_result"
    }
   ],
   "source": [
    "lbl2vec_silhouette_score"
   ]
  },
  {
   "cell_type": "code",
   "execution_count": 133,
   "metadata": {},
   "outputs": [
    {
     "data": {
      "text/plain": [
       "2784.215782046256"
      ]
     },
     "execution_count": 133,
     "metadata": {},
     "output_type": "execute_result"
    }
   ],
   "source": [
    "lbl2vec_calinski_harabasz_score"
   ]
  },
  {
   "cell_type": "code",
   "execution_count": 134,
   "metadata": {},
   "outputs": [
    {
     "data": {
      "text/plain": [
       "5.288807317006151"
      ]
     },
     "execution_count": 134,
     "metadata": {},
     "output_type": "execute_result"
    }
   ],
   "source": [
    "lbl2vec_davies_bouldin_score"
   ]
  },
  {
   "cell_type": "code",
   "execution_count": null,
   "metadata": {},
   "outputs": [],
   "source": []
  },
  {
   "cell_type": "code",
   "execution_count": null,
   "metadata": {},
   "outputs": [],
   "source": []
  },
  {
   "cell_type": "code",
   "execution_count": 21,
   "metadata": {},
   "outputs": [
    {
     "data": {
      "text/plain": [
       "4.662145567091938"
      ]
     },
     "execution_count": 21,
     "metadata": {},
     "output_type": "execute_result"
    }
   ],
   "source": [
    "lbl2vec_davies_bouldin_score"
   ]
  },
  {
   "cell_type": "code",
   "execution_count": 18,
   "metadata": {},
   "outputs": [
    {
     "data": {
      "text/plain": [
       "2857.417641914363"
      ]
     },
     "execution_count": 18,
     "metadata": {},
     "output_type": "execute_result"
    }
   ],
   "source": [
    "lbl2vec_calinski_harabasz_score"
   ]
  },
  {
   "cell_type": "code",
   "execution_count": 17,
   "metadata": {},
   "outputs": [
    {
     "data": {
      "text/plain": [
       "0.0997697"
      ]
     },
     "execution_count": 17,
     "metadata": {},
     "output_type": "execute_result"
    }
   ],
   "source": [
    "lbl2vec_silhouette_score"
   ]
  }
 ],
 "metadata": {
  "kernelspec": {
   "display_name": "Python 3.10.7 ('.venv': venv)",
   "language": "python",
   "name": "python3"
  },
  "language_info": {
   "codemirror_mode": {
    "name": "ipython",
    "version": 3
   },
   "file_extension": ".py",
   "mimetype": "text/x-python",
   "name": "python",
   "nbconvert_exporter": "python",
   "pygments_lexer": "ipython3",
   "version": "3.10.7"
  },
  "orig_nbformat": 4,
  "vscode": {
   "interpreter": {
    "hash": "d3760f00dc84a561d1b0937ee5b78e6d76c755235379a04e757565e20c39e883"
   }
  }
 },
 "nbformat": 4,
 "nbformat_minor": 2
}
