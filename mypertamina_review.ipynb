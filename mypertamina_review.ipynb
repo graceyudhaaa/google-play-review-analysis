{
 "cells": [
  {
   "cell_type": "code",
   "execution_count": 1,
   "metadata": {},
   "outputs": [],
   "source": [
    "from google_play_scraper import app\n",
    "from google_play_scraper import Sort, reviews\n",
    "import pandas as pd\n",
    "import numpy as np\n",
    "\n",
    "from lbl2vec import Lbl2Vec\n",
    "from gensim.utils import simple_preprocess\n",
    "from gensim.models.doc2vec import TaggedDocument, Doc2Vec\n",
    "from gensim.parsing.preprocessing import strip_tags\n",
    "from sklearn.metrics import f1_score"
   ]
  },
  {
   "cell_type": "code",
   "execution_count": 6,
   "metadata": {},
   "outputs": [],
   "source": [
    "result, continuation_token = reviews(\n",
    "    'com.dafturn.mypertamina',\n",
    "    lang='id', \n",
    "    country='id', \n",
    "    sort=Sort.MOST_RELEVANT, \n",
    "    count=30000, \n",
    "    filter_score_with=None\n",
    ")"
   ]
  },
  {
   "cell_type": "code",
   "execution_count": 7,
   "metadata": {},
   "outputs": [],
   "source": [
    "df = pd.DataFrame.from_dict(result)\n",
    "df = df[['userName', 'score','at', 'content']]"
   ]
  },
  {
   "cell_type": "code",
   "execution_count": 8,
   "metadata": {},
   "outputs": [],
   "source": [
    "import re\n",
    "def cleaningulasan(ulasan):\n",
    "  ulasan = re.sub(r'@[A-Za-a0-9]+',' ',ulasan)\n",
    "  ulasan = re.sub(r'#[A-Za-z0-9]+',' ',ulasan)\n",
    "  ulasan = re.sub(r\"http\\S+\",' ',ulasan)\n",
    "  ulasan = re.sub(r'[0-9]+',' ',ulasan)\n",
    "  ulasan = re.sub(r\"[-()\\\"#/@;:<>{}'+=~|.!?,_]\", \" \", ulasan)\n",
    "  ulasan = ulasan.strip(' ')\n",
    "  return ulasan\n",
    "\n",
    "def clearEmoji(ulasan):\n",
    "    return ulasan.encode('ascii', 'ignore').decode('ascii')\n",
    "\n",
    "def replaceTOM(ulasan):\n",
    "    pola = re.compile(r'(.)\\1{2,}', re.DOTALL)\n",
    "    return pola.sub(r'\\1', ulasan)\n",
    "\n",
    "def casefoldingText(ulasan):\n",
    "  ulasan = ulasan.lower()\n",
    "  return ulasan"
   ]
  },
  {
   "cell_type": "code",
   "execution_count": 9,
   "metadata": {},
   "outputs": [],
   "source": [
    "df['Cleaning']= df['content'].apply(cleaningulasan)\n",
    "df['HapusEmoji']= df['Cleaning'].apply(clearEmoji)\n",
    "df['3/Lebih']= df['HapusEmoji'].apply(replaceTOM)\n",
    "df['CaseFolding']= df['3/Lebih'].apply(casefoldingText)"
   ]
  },
  {
   "cell_type": "code",
   "execution_count": 10,
   "metadata": {},
   "outputs": [],
   "source": [
    "def convertToSlangword(ulasan):\n",
    "    kamusSlang = eval(open(\"NLP_bahasa_resources-master\\combined_slang_words.txt\").read())\n",
    "    content = []\n",
    "    for kata in ulasan.split():\n",
    "        try:\n",
    "            content.append(kamusSlang[kata])\n",
    "        except:\n",
    "            content.append(kata)\n",
    "    ulasan = ' '.join(content)\n",
    "    return ulasan\n",
    "\n",
    "df['Formalisasi'] = df['CaseFolding'].apply(convertToSlangword)"
   ]
  },
  {
   "cell_type": "code",
   "execution_count": 11,
   "metadata": {},
   "outputs": [],
   "source": [
    "positive = pd.read_csv('InSet-master\\positive.tsv', sep='\\t', index_col='word')\n",
    "negative = pd.read_csv('InSet-master\\\\negative.tsv', sep='\\t', index_col='word')\n",
    "\n",
    "inset = pd.concat([positive, negative]).to_dict()['weight']\n",
    "# positive = positive.to_dict()['weight']\n",
    "# negative = negative.to_dict()['weight']"
   ]
  },
  {
   "cell_type": "code",
   "execution_count": 12,
   "metadata": {},
   "outputs": [],
   "source": [
    "def sentiment_score(ulasan):\n",
    "    inset_score = 0\n",
    "    for kata in ulasan.split():\n",
    "        try:\n",
    "            inset_score += inset[kata]\n",
    "        except:\n",
    "            inset_score += 0\n",
    "\n",
    "    return inset_score\n",
    "\n",
    "df['sentiment_score'] = df['CaseFolding'].apply(sentiment_score)"
   ]
  },
  {
   "cell_type": "code",
   "execution_count": 13,
   "metadata": {},
   "outputs": [
    {
     "data": {
      "text/html": [
       "<div>\n",
       "<style scoped>\n",
       "    .dataframe tbody tr th:only-of-type {\n",
       "        vertical-align: middle;\n",
       "    }\n",
       "\n",
       "    .dataframe tbody tr th {\n",
       "        vertical-align: top;\n",
       "    }\n",
       "\n",
       "    .dataframe thead th {\n",
       "        text-align: right;\n",
       "    }\n",
       "</style>\n",
       "<table border=\"1\" class=\"dataframe\">\n",
       "  <thead>\n",
       "    <tr style=\"text-align: right;\">\n",
       "      <th></th>\n",
       "      <th>userName</th>\n",
       "      <th>score</th>\n",
       "      <th>at</th>\n",
       "      <th>content</th>\n",
       "      <th>Formalisasi</th>\n",
       "      <th>sentiment_score</th>\n",
       "    </tr>\n",
       "  </thead>\n",
       "  <tbody>\n",
       "    <tr>\n",
       "      <th>0</th>\n",
       "      <td>cool_ _id</td>\n",
       "      <td>1</td>\n",
       "      <td>2022-09-11 15:04:14</td>\n",
       "      <td>Aplikasi ini sangat menyusahkan, baik dari cus...</td>\n",
       "      <td>aplikasi ini sangat menyusahkan baik dari cust...</td>\n",
       "      <td>-54</td>\n",
       "    </tr>\n",
       "    <tr>\n",
       "      <th>1</th>\n",
       "      <td>Akun Gmail</td>\n",
       "      <td>1</td>\n",
       "      <td>2022-09-22 16:19:19</td>\n",
       "      <td>dari segi grafik sudah mantep di grafik tinggi...</td>\n",
       "      <td>dari segi grafik sudah mantap di grafik tinggi...</td>\n",
       "      <td>-57</td>\n",
       "    </tr>\n",
       "    <tr>\n",
       "      <th>2</th>\n",
       "      <td>Ris Mawardi</td>\n",
       "      <td>1</td>\n",
       "      <td>2022-09-13 07:20:28</td>\n",
       "      <td>Sudah daftar dan sudah isi data lengkap. Katan...</td>\n",
       "      <td>sudah daftar dan sudah isi data lengkap katany...</td>\n",
       "      <td>-31</td>\n",
       "    </tr>\n",
       "    <tr>\n",
       "      <th>3</th>\n",
       "      <td>Ali Ms</td>\n",
       "      <td>1</td>\n",
       "      <td>2022-08-31 22:56:00</td>\n",
       "      <td>Sebaiknya bagi yg darah tinggi tidak mendaftar...</td>\n",
       "      <td>sebaiknya bagi yang darah tinggi tidak mendaft...</td>\n",
       "      <td>-37</td>\n",
       "    </tr>\n",
       "    <tr>\n",
       "      <th>4</th>\n",
       "      <td>rudy tedjo</td>\n",
       "      <td>1</td>\n",
       "      <td>2022-07-28 18:11:45</td>\n",
       "      <td>Aplikasi tidak membantu, klik back langsung da...</td>\n",
       "      <td>aplikasi tidak membantu klik back langsung dat...</td>\n",
       "      <td>-27</td>\n",
       "    </tr>\n",
       "    <tr>\n",
       "      <th>...</th>\n",
       "      <td>...</td>\n",
       "      <td>...</td>\n",
       "      <td>...</td>\n",
       "      <td>...</td>\n",
       "      <td>...</td>\n",
       "      <td>...</td>\n",
       "    </tr>\n",
       "    <tr>\n",
       "      <th>29995</th>\n",
       "      <td>Fahrul Ardiansyah</td>\n",
       "      <td>1</td>\n",
       "      <td>2022-07-03 19:53:33</td>\n",
       "      <td>Mau dibayar buat riview baguspun gw ogah sih, ...</td>\n",
       "      <td>mau dibayar buat riview baguspun saya tidak ma...</td>\n",
       "      <td>-5</td>\n",
       "    </tr>\n",
       "    <tr>\n",
       "      <th>29996</th>\n",
       "      <td>Maulana NR</td>\n",
       "      <td>1</td>\n",
       "      <td>2022-07-03 19:54:37</td>\n",
       "      <td>at least kalo mau bikin aplikasi yg masuk akal...</td>\n",
       "      <td>at least kalau mau bikin aplikasi yang masuk a...</td>\n",
       "      <td>-8</td>\n",
       "    </tr>\n",
       "    <tr>\n",
       "      <th>29997</th>\n",
       "      <td>Mediy Cbr</td>\n",
       "      <td>1</td>\n",
       "      <td>2022-06-30 09:24:46</td>\n",
       "      <td>aplilasih ga ada berguna nya klo pake aplikasi...</td>\n",
       "      <td>aplilasih ga ada berguna nya kalau pakai aplik...</td>\n",
       "      <td>-12</td>\n",
       "    </tr>\n",
       "    <tr>\n",
       "      <th>29998</th>\n",
       "      <td>Musa Aljamilツ</td>\n",
       "      <td>1</td>\n",
       "      <td>2022-07-04 11:36:17</td>\n",
       "      <td>Aku suka banget game fri fayer 🤗 tapi sayang a...</td>\n",
       "      <td>aku suka banget game fri fayer tapi sayang aku...</td>\n",
       "      <td>-17</td>\n",
       "    </tr>\n",
       "    <tr>\n",
       "      <th>29999</th>\n",
       "      <td>Muhammad Alfariji</td>\n",
       "      <td>1</td>\n",
       "      <td>2022-06-30 22:42:32</td>\n",
       "      <td>Game bagus ramah Lingkungan menghasilkan uang,...</td>\n",
       "      <td>game bagus ramah lingkungan menghasilkan uang ...</td>\n",
       "      <td>-13</td>\n",
       "    </tr>\n",
       "  </tbody>\n",
       "</table>\n",
       "<p>30000 rows × 6 columns</p>\n",
       "</div>"
      ],
      "text/plain": [
       "                userName  score                  at  \\\n",
       "0              cool_ _id      1 2022-09-11 15:04:14   \n",
       "1             Akun Gmail      1 2022-09-22 16:19:19   \n",
       "2            Ris Mawardi      1 2022-09-13 07:20:28   \n",
       "3                 Ali Ms      1 2022-08-31 22:56:00   \n",
       "4             rudy tedjo      1 2022-07-28 18:11:45   \n",
       "...                  ...    ...                 ...   \n",
       "29995  Fahrul Ardiansyah      1 2022-07-03 19:53:33   \n",
       "29996         Maulana NR      1 2022-07-03 19:54:37   \n",
       "29997          Mediy Cbr      1 2022-06-30 09:24:46   \n",
       "29998      Musa Aljamilツ      1 2022-07-04 11:36:17   \n",
       "29999  Muhammad Alfariji      1 2022-06-30 22:42:32   \n",
       "\n",
       "                                                 content  \\\n",
       "0      Aplikasi ini sangat menyusahkan, baik dari cus...   \n",
       "1      dari segi grafik sudah mantep di grafik tinggi...   \n",
       "2      Sudah daftar dan sudah isi data lengkap. Katan...   \n",
       "3      Sebaiknya bagi yg darah tinggi tidak mendaftar...   \n",
       "4      Aplikasi tidak membantu, klik back langsung da...   \n",
       "...                                                  ...   \n",
       "29995  Mau dibayar buat riview baguspun gw ogah sih, ...   \n",
       "29996  at least kalo mau bikin aplikasi yg masuk akal...   \n",
       "29997  aplilasih ga ada berguna nya klo pake aplikasi...   \n",
       "29998  Aku suka banget game fri fayer 🤗 tapi sayang a...   \n",
       "29999  Game bagus ramah Lingkungan menghasilkan uang,...   \n",
       "\n",
       "                                             Formalisasi  sentiment_score  \n",
       "0      aplikasi ini sangat menyusahkan baik dari cust...              -54  \n",
       "1      dari segi grafik sudah mantap di grafik tinggi...              -57  \n",
       "2      sudah daftar dan sudah isi data lengkap katany...              -31  \n",
       "3      sebaiknya bagi yang darah tinggi tidak mendaft...              -37  \n",
       "4      aplikasi tidak membantu klik back langsung dat...              -27  \n",
       "...                                                  ...              ...  \n",
       "29995  mau dibayar buat riview baguspun saya tidak ma...               -5  \n",
       "29996  at least kalau mau bikin aplikasi yang masuk a...               -8  \n",
       "29997  aplilasih ga ada berguna nya kalau pakai aplik...              -12  \n",
       "29998  aku suka banget game fri fayer tapi sayang aku...              -17  \n",
       "29999  game bagus ramah lingkungan menghasilkan uang ...              -13  \n",
       "\n",
       "[30000 rows x 6 columns]"
      ]
     },
     "execution_count": 13,
     "metadata": {},
     "output_type": "execute_result"
    }
   ],
   "source": [
    "df = df[['userName', 'score','at', 'content', 'Formalisasi', 'sentiment_score']]\n",
    "df"
   ]
  },
  {
   "cell_type": "code",
   "execution_count": 14,
   "metadata": {},
   "outputs": [],
   "source": [
    "df.to_csv('review_mypertamina.csv', index=False)"
   ]
  },
  {
   "cell_type": "code",
   "execution_count": 15,
   "metadata": {},
   "outputs": [],
   "source": [
    "labels = pd.read_csv('label_keyword.csv',sep=';')\n",
    "labels['keywords'] = labels['keywords'].apply(lambda x: x.lower().split(' '))\n",
    "labels['number_of_keywords'] = labels['keywords'].apply(lambda row: len(row))"
   ]
  },
  {
   "cell_type": "code",
   "execution_count": 16,
   "metadata": {},
   "outputs": [
    {
     "data": {
      "text/html": [
       "<div>\n",
       "<style scoped>\n",
       "    .dataframe tbody tr th:only-of-type {\n",
       "        vertical-align: middle;\n",
       "    }\n",
       "\n",
       "    .dataframe tbody tr th {\n",
       "        vertical-align: top;\n",
       "    }\n",
       "\n",
       "    .dataframe thead th {\n",
       "        text-align: right;\n",
       "    }\n",
       "</style>\n",
       "<table border=\"1\" class=\"dataframe\">\n",
       "  <thead>\n",
       "    <tr style=\"text-align: right;\">\n",
       "      <th></th>\n",
       "      <th>class_index</th>\n",
       "      <th>class_name</th>\n",
       "      <th>keywords</th>\n",
       "      <th>number_of_keywords</th>\n",
       "    </tr>\n",
       "  </thead>\n",
       "  <tbody>\n",
       "    <tr>\n",
       "      <th>0</th>\n",
       "      <td>1</td>\n",
       "      <td>user_experience</td>\n",
       "      <td>[menyusahkan, susah, sulit, mempersulit, belum...</td>\n",
       "      <td>13</td>\n",
       "    </tr>\n",
       "    <tr>\n",
       "      <th>1</th>\n",
       "      <td>2</td>\n",
       "      <td>jaringan_dan_koneksi</td>\n",
       "      <td>[sinyal, stabil, wifi, loading, gangguan, jari...</td>\n",
       "      <td>7</td>\n",
       "    </tr>\n",
       "    <tr>\n",
       "      <th>2</th>\n",
       "      <td>3</td>\n",
       "      <td>payment</td>\n",
       "      <td>[pembayaran, payment, linkaja, transfer, bank,...</td>\n",
       "      <td>9</td>\n",
       "    </tr>\n",
       "    <tr>\n",
       "      <th>3</th>\n",
       "      <td>4</td>\n",
       "      <td>security</td>\n",
       "      <td>[data, pribadi, sistem, retas]</td>\n",
       "      <td>4</td>\n",
       "    </tr>\n",
       "    <tr>\n",
       "      <th>4</th>\n",
       "      <td>5</td>\n",
       "      <td>invalid_troll</td>\n",
       "      <td>[war, player, pemain, game, gameplay, lvl, sen...</td>\n",
       "      <td>16</td>\n",
       "    </tr>\n",
       "  </tbody>\n",
       "</table>\n",
       "</div>"
      ],
      "text/plain": [
       "   class_index            class_name  \\\n",
       "0            1       user_experience   \n",
       "1            2  jaringan_dan_koneksi   \n",
       "2            3               payment   \n",
       "3            4              security   \n",
       "4            5         invalid_troll   \n",
       "\n",
       "                                            keywords  number_of_keywords  \n",
       "0  [menyusahkan, susah, sulit, mempersulit, belum...                  13  \n",
       "1  [sinyal, stabil, wifi, loading, gangguan, jari...                   7  \n",
       "2  [pembayaran, payment, linkaja, transfer, bank,...                   9  \n",
       "3                     [data, pribadi, sistem, retas]                   4  \n",
       "4  [war, player, pemain, game, gameplay, lvl, sen...                  16  "
      ]
     },
     "execution_count": 16,
     "metadata": {},
     "output_type": "execute_result"
    }
   ],
   "source": [
    "labels"
   ]
  },
  {
   "cell_type": "code",
   "execution_count": 17,
   "metadata": {},
   "outputs": [],
   "source": [
    "def tokenize(doc):\n",
    "    return simple_preprocess(strip_tags(doc), deacc=True, min_len=2, max_len=15)"
   ]
  },
  {
   "cell_type": "code",
   "execution_count": 18,
   "metadata": {},
   "outputs": [
    {
     "data": {
      "text/html": [
       "<div>\n",
       "<style scoped>\n",
       "    .dataframe tbody tr th:only-of-type {\n",
       "        vertical-align: middle;\n",
       "    }\n",
       "\n",
       "    .dataframe tbody tr th {\n",
       "        vertical-align: top;\n",
       "    }\n",
       "\n",
       "    .dataframe thead th {\n",
       "        text-align: right;\n",
       "    }\n",
       "</style>\n",
       "<table border=\"1\" class=\"dataframe\">\n",
       "  <thead>\n",
       "    <tr style=\"text-align: right;\">\n",
       "      <th></th>\n",
       "      <th>userName</th>\n",
       "      <th>score</th>\n",
       "      <th>at</th>\n",
       "      <th>content</th>\n",
       "      <th>Formalisasi</th>\n",
       "      <th>sentiment_score</th>\n",
       "    </tr>\n",
       "  </thead>\n",
       "  <tbody>\n",
       "    <tr>\n",
       "      <th>0</th>\n",
       "      <td>cool_ _id</td>\n",
       "      <td>1</td>\n",
       "      <td>2022-09-11 15:04:14</td>\n",
       "      <td>Aplikasi ini sangat menyusahkan, baik dari cus...</td>\n",
       "      <td>aplikasi ini sangat menyusahkan baik dari cust...</td>\n",
       "      <td>-54</td>\n",
       "    </tr>\n",
       "    <tr>\n",
       "      <th>1</th>\n",
       "      <td>Akun Gmail</td>\n",
       "      <td>1</td>\n",
       "      <td>2022-09-22 16:19:19</td>\n",
       "      <td>dari segi grafik sudah mantep di grafik tinggi...</td>\n",
       "      <td>dari segi grafik sudah mantap di grafik tinggi...</td>\n",
       "      <td>-57</td>\n",
       "    </tr>\n",
       "    <tr>\n",
       "      <th>2</th>\n",
       "      <td>Ris Mawardi</td>\n",
       "      <td>1</td>\n",
       "      <td>2022-09-13 07:20:28</td>\n",
       "      <td>Sudah daftar dan sudah isi data lengkap. Katan...</td>\n",
       "      <td>sudah daftar dan sudah isi data lengkap katany...</td>\n",
       "      <td>-31</td>\n",
       "    </tr>\n",
       "    <tr>\n",
       "      <th>3</th>\n",
       "      <td>Ali Ms</td>\n",
       "      <td>1</td>\n",
       "      <td>2022-08-31 22:56:00</td>\n",
       "      <td>Sebaiknya bagi yg darah tinggi tidak mendaftar...</td>\n",
       "      <td>sebaiknya bagi yang darah tinggi tidak mendaft...</td>\n",
       "      <td>-37</td>\n",
       "    </tr>\n",
       "    <tr>\n",
       "      <th>4</th>\n",
       "      <td>rudy tedjo</td>\n",
       "      <td>1</td>\n",
       "      <td>2022-07-28 18:11:45</td>\n",
       "      <td>Aplikasi tidak membantu, klik back langsung da...</td>\n",
       "      <td>aplikasi tidak membantu klik back langsung dat...</td>\n",
       "      <td>-27</td>\n",
       "    </tr>\n",
       "  </tbody>\n",
       "</table>\n",
       "</div>"
      ],
      "text/plain": [
       "      userName  score                  at  \\\n",
       "0    cool_ _id      1 2022-09-11 15:04:14   \n",
       "1   Akun Gmail      1 2022-09-22 16:19:19   \n",
       "2  Ris Mawardi      1 2022-09-13 07:20:28   \n",
       "3       Ali Ms      1 2022-08-31 22:56:00   \n",
       "4   rudy tedjo      1 2022-07-28 18:11:45   \n",
       "\n",
       "                                             content  \\\n",
       "0  Aplikasi ini sangat menyusahkan, baik dari cus...   \n",
       "1  dari segi grafik sudah mantep di grafik tinggi...   \n",
       "2  Sudah daftar dan sudah isi data lengkap. Katan...   \n",
       "3  Sebaiknya bagi yg darah tinggi tidak mendaftar...   \n",
       "4  Aplikasi tidak membantu, klik back langsung da...   \n",
       "\n",
       "                                         Formalisasi  sentiment_score  \n",
       "0  aplikasi ini sangat menyusahkan baik dari cust...              -54  \n",
       "1  dari segi grafik sudah mantap di grafik tinggi...              -57  \n",
       "2  sudah daftar dan sudah isi data lengkap katany...              -31  \n",
       "3  sebaiknya bagi yang darah tinggi tidak mendaft...              -37  \n",
       "4  aplikasi tidak membantu klik back langsung dat...              -27  "
      ]
     },
     "execution_count": 18,
     "metadata": {},
     "output_type": "execute_result"
    }
   ],
   "source": [
    "df.head()"
   ]
  },
  {
   "cell_type": "code",
   "execution_count": 19,
   "metadata": {},
   "outputs": [],
   "source": [
    "df['tagged_docs'] = df.apply(lambda row: TaggedDocument(tokenize(row['Formalisasi']), [str(row.name)]), axis=1)"
   ]
  },
  {
   "cell_type": "code",
   "execution_count": 20,
   "metadata": {},
   "outputs": [
    {
     "data": {
      "text/html": [
       "<div>\n",
       "<style scoped>\n",
       "    .dataframe tbody tr th:only-of-type {\n",
       "        vertical-align: middle;\n",
       "    }\n",
       "\n",
       "    .dataframe tbody tr th {\n",
       "        vertical-align: top;\n",
       "    }\n",
       "\n",
       "    .dataframe thead th {\n",
       "        text-align: right;\n",
       "    }\n",
       "</style>\n",
       "<table border=\"1\" class=\"dataframe\">\n",
       "  <thead>\n",
       "    <tr style=\"text-align: right;\">\n",
       "      <th></th>\n",
       "      <th>userName</th>\n",
       "      <th>score</th>\n",
       "      <th>at</th>\n",
       "      <th>content</th>\n",
       "      <th>Formalisasi</th>\n",
       "      <th>sentiment_score</th>\n",
       "      <th>tagged_docs</th>\n",
       "    </tr>\n",
       "  </thead>\n",
       "  <tbody>\n",
       "    <tr>\n",
       "      <th>0</th>\n",
       "      <td>cool_ _id</td>\n",
       "      <td>1</td>\n",
       "      <td>2022-09-11 15:04:14</td>\n",
       "      <td>Aplikasi ini sangat menyusahkan, baik dari cus...</td>\n",
       "      <td>aplikasi ini sangat menyusahkan baik dari cust...</td>\n",
       "      <td>-54</td>\n",
       "      <td>([aplikasi, ini, sangat, menyusahkan, baik, da...</td>\n",
       "    </tr>\n",
       "    <tr>\n",
       "      <th>1</th>\n",
       "      <td>Akun Gmail</td>\n",
       "      <td>1</td>\n",
       "      <td>2022-09-22 16:19:19</td>\n",
       "      <td>dari segi grafik sudah mantep di grafik tinggi...</td>\n",
       "      <td>dari segi grafik sudah mantap di grafik tinggi...</td>\n",
       "      <td>-57</td>\n",
       "      <td>([dari, segi, grafik, sudah, mantap, di, grafi...</td>\n",
       "    </tr>\n",
       "    <tr>\n",
       "      <th>2</th>\n",
       "      <td>Ris Mawardi</td>\n",
       "      <td>1</td>\n",
       "      <td>2022-09-13 07:20:28</td>\n",
       "      <td>Sudah daftar dan sudah isi data lengkap. Katan...</td>\n",
       "      <td>sudah daftar dan sudah isi data lengkap katany...</td>\n",
       "      <td>-31</td>\n",
       "      <td>([sudah, daftar, dan, sudah, isi, data, lengka...</td>\n",
       "    </tr>\n",
       "    <tr>\n",
       "      <th>3</th>\n",
       "      <td>Ali Ms</td>\n",
       "      <td>1</td>\n",
       "      <td>2022-08-31 22:56:00</td>\n",
       "      <td>Sebaiknya bagi yg darah tinggi tidak mendaftar...</td>\n",
       "      <td>sebaiknya bagi yang darah tinggi tidak mendaft...</td>\n",
       "      <td>-37</td>\n",
       "      <td>([sebaiknya, bagi, yang, darah, tinggi, tidak,...</td>\n",
       "    </tr>\n",
       "    <tr>\n",
       "      <th>4</th>\n",
       "      <td>rudy tedjo</td>\n",
       "      <td>1</td>\n",
       "      <td>2022-07-28 18:11:45</td>\n",
       "      <td>Aplikasi tidak membantu, klik back langsung da...</td>\n",
       "      <td>aplikasi tidak membantu klik back langsung dat...</td>\n",
       "      <td>-27</td>\n",
       "      <td>([aplikasi, tidak, membantu, klik, back, langs...</td>\n",
       "    </tr>\n",
       "  </tbody>\n",
       "</table>\n",
       "</div>"
      ],
      "text/plain": [
       "      userName  score                  at  \\\n",
       "0    cool_ _id      1 2022-09-11 15:04:14   \n",
       "1   Akun Gmail      1 2022-09-22 16:19:19   \n",
       "2  Ris Mawardi      1 2022-09-13 07:20:28   \n",
       "3       Ali Ms      1 2022-08-31 22:56:00   \n",
       "4   rudy tedjo      1 2022-07-28 18:11:45   \n",
       "\n",
       "                                             content  \\\n",
       "0  Aplikasi ini sangat menyusahkan, baik dari cus...   \n",
       "1  dari segi grafik sudah mantep di grafik tinggi...   \n",
       "2  Sudah daftar dan sudah isi data lengkap. Katan...   \n",
       "3  Sebaiknya bagi yg darah tinggi tidak mendaftar...   \n",
       "4  Aplikasi tidak membantu, klik back langsung da...   \n",
       "\n",
       "                                         Formalisasi  sentiment_score  \\\n",
       "0  aplikasi ini sangat menyusahkan baik dari cust...              -54   \n",
       "1  dari segi grafik sudah mantap di grafik tinggi...              -57   \n",
       "2  sudah daftar dan sudah isi data lengkap katany...              -31   \n",
       "3  sebaiknya bagi yang darah tinggi tidak mendaft...              -37   \n",
       "4  aplikasi tidak membantu klik back langsung dat...              -27   \n",
       "\n",
       "                                         tagged_docs  \n",
       "0  ([aplikasi, ini, sangat, menyusahkan, baik, da...  \n",
       "1  ([dari, segi, grafik, sudah, mantap, di, grafi...  \n",
       "2  ([sudah, daftar, dan, sudah, isi, data, lengka...  \n",
       "3  ([sebaiknya, bagi, yang, darah, tinggi, tidak,...  \n",
       "4  ([aplikasi, tidak, membantu, klik, back, langs...  "
      ]
     },
     "execution_count": 20,
     "metadata": {},
     "output_type": "execute_result"
    }
   ],
   "source": [
    "df.head()"
   ]
  },
  {
   "cell_type": "code",
   "execution_count": 21,
   "metadata": {},
   "outputs": [],
   "source": [
    "df['doc_key'] = df.index.astype(str)"
   ]
  },
  {
   "cell_type": "code",
   "execution_count": 22,
   "metadata": {},
   "outputs": [
    {
     "data": {
      "text/html": [
       "<div>\n",
       "<style scoped>\n",
       "    .dataframe tbody tr th:only-of-type {\n",
       "        vertical-align: middle;\n",
       "    }\n",
       "\n",
       "    .dataframe tbody tr th {\n",
       "        vertical-align: top;\n",
       "    }\n",
       "\n",
       "    .dataframe thead th {\n",
       "        text-align: right;\n",
       "    }\n",
       "</style>\n",
       "<table border=\"1\" class=\"dataframe\">\n",
       "  <thead>\n",
       "    <tr style=\"text-align: right;\">\n",
       "      <th></th>\n",
       "      <th>userName</th>\n",
       "      <th>score</th>\n",
       "      <th>at</th>\n",
       "      <th>content</th>\n",
       "      <th>Formalisasi</th>\n",
       "      <th>sentiment_score</th>\n",
       "      <th>tagged_docs</th>\n",
       "      <th>doc_key</th>\n",
       "    </tr>\n",
       "  </thead>\n",
       "  <tbody>\n",
       "    <tr>\n",
       "      <th>0</th>\n",
       "      <td>cool_ _id</td>\n",
       "      <td>1</td>\n",
       "      <td>2022-09-11 15:04:14</td>\n",
       "      <td>Aplikasi ini sangat menyusahkan, baik dari cus...</td>\n",
       "      <td>aplikasi ini sangat menyusahkan baik dari cust...</td>\n",
       "      <td>-54</td>\n",
       "      <td>([aplikasi, ini, sangat, menyusahkan, baik, da...</td>\n",
       "      <td>0</td>\n",
       "    </tr>\n",
       "    <tr>\n",
       "      <th>1</th>\n",
       "      <td>Akun Gmail</td>\n",
       "      <td>1</td>\n",
       "      <td>2022-09-22 16:19:19</td>\n",
       "      <td>dari segi grafik sudah mantep di grafik tinggi...</td>\n",
       "      <td>dari segi grafik sudah mantap di grafik tinggi...</td>\n",
       "      <td>-57</td>\n",
       "      <td>([dari, segi, grafik, sudah, mantap, di, grafi...</td>\n",
       "      <td>1</td>\n",
       "    </tr>\n",
       "    <tr>\n",
       "      <th>2</th>\n",
       "      <td>Ris Mawardi</td>\n",
       "      <td>1</td>\n",
       "      <td>2022-09-13 07:20:28</td>\n",
       "      <td>Sudah daftar dan sudah isi data lengkap. Katan...</td>\n",
       "      <td>sudah daftar dan sudah isi data lengkap katany...</td>\n",
       "      <td>-31</td>\n",
       "      <td>([sudah, daftar, dan, sudah, isi, data, lengka...</td>\n",
       "      <td>2</td>\n",
       "    </tr>\n",
       "    <tr>\n",
       "      <th>3</th>\n",
       "      <td>Ali Ms</td>\n",
       "      <td>1</td>\n",
       "      <td>2022-08-31 22:56:00</td>\n",
       "      <td>Sebaiknya bagi yg darah tinggi tidak mendaftar...</td>\n",
       "      <td>sebaiknya bagi yang darah tinggi tidak mendaft...</td>\n",
       "      <td>-37</td>\n",
       "      <td>([sebaiknya, bagi, yang, darah, tinggi, tidak,...</td>\n",
       "      <td>3</td>\n",
       "    </tr>\n",
       "    <tr>\n",
       "      <th>4</th>\n",
       "      <td>rudy tedjo</td>\n",
       "      <td>1</td>\n",
       "      <td>2022-07-28 18:11:45</td>\n",
       "      <td>Aplikasi tidak membantu, klik back langsung da...</td>\n",
       "      <td>aplikasi tidak membantu klik back langsung dat...</td>\n",
       "      <td>-27</td>\n",
       "      <td>([aplikasi, tidak, membantu, klik, back, langs...</td>\n",
       "      <td>4</td>\n",
       "    </tr>\n",
       "  </tbody>\n",
       "</table>\n",
       "</div>"
      ],
      "text/plain": [
       "      userName  score                  at  \\\n",
       "0    cool_ _id      1 2022-09-11 15:04:14   \n",
       "1   Akun Gmail      1 2022-09-22 16:19:19   \n",
       "2  Ris Mawardi      1 2022-09-13 07:20:28   \n",
       "3       Ali Ms      1 2022-08-31 22:56:00   \n",
       "4   rudy tedjo      1 2022-07-28 18:11:45   \n",
       "\n",
       "                                             content  \\\n",
       "0  Aplikasi ini sangat menyusahkan, baik dari cus...   \n",
       "1  dari segi grafik sudah mantep di grafik tinggi...   \n",
       "2  Sudah daftar dan sudah isi data lengkap. Katan...   \n",
       "3  Sebaiknya bagi yg darah tinggi tidak mendaftar...   \n",
       "4  Aplikasi tidak membantu, klik back langsung da...   \n",
       "\n",
       "                                         Formalisasi  sentiment_score  \\\n",
       "0  aplikasi ini sangat menyusahkan baik dari cust...              -54   \n",
       "1  dari segi grafik sudah mantap di grafik tinggi...              -57   \n",
       "2  sudah daftar dan sudah isi data lengkap katany...              -31   \n",
       "3  sebaiknya bagi yang darah tinggi tidak mendaft...              -37   \n",
       "4  aplikasi tidak membantu klik back langsung dat...              -27   \n",
       "\n",
       "                                         tagged_docs doc_key  \n",
       "0  ([aplikasi, ini, sangat, menyusahkan, baik, da...       0  \n",
       "1  ([dari, segi, grafik, sudah, mantap, di, grafi...       1  \n",
       "2  ([sudah, daftar, dan, sudah, isi, data, lengka...       2  \n",
       "3  ([sebaiknya, bagi, yang, darah, tinggi, tidak,...       3  \n",
       "4  ([aplikasi, tidak, membantu, klik, back, langs...       4  "
      ]
     },
     "execution_count": 22,
     "metadata": {},
     "output_type": "execute_result"
    }
   ],
   "source": [
    "df.head()"
   ]
  },
  {
   "cell_type": "code",
   "execution_count": 23,
   "metadata": {},
   "outputs": [],
   "source": [
    "doc2vec_model = Doc2Vec(documents=df['tagged_docs'], dbow_words=1, dm=1)"
   ]
  },
  {
   "cell_type": "code",
   "execution_count": 24,
   "metadata": {},
   "outputs": [
    {
     "name": "stderr",
     "output_type": "stream",
     "text": [
      "2022-10-06 07:40:50,409 - Lbl2Vec - INFO - Load document and word embeddings\n",
      "2022-10-06 07:40:50,419 - Lbl2Vec - INFO - Train label embeddings\n",
      "2022-10-06 07:40:51,155 - Lbl2Vec - WARNING - The following keywords from the 'keywords_list' are unknown to the Doc2Vec model and therefore not used to train the model: e-wallet\n"
     ]
    }
   ],
   "source": [
    "Lbl2Vec_model = Lbl2Vec(keywords_list=list(labels.keywords),  doc2vec_model=doc2vec_model, label_names=list(labels.class_name), similarity_threshold=0.43, min_num_docs=100, epochs=10)\n",
    "\n",
    "Lbl2Vec_model.fit()"
   ]
  },
  {
   "cell_type": "code",
   "execution_count": 25,
   "metadata": {},
   "outputs": [
    {
     "name": "stderr",
     "output_type": "stream",
     "text": [
      "2022-10-06 07:40:52,828 - Lbl2Vec - INFO - Get document embeddings from model\n",
      "2022-10-06 07:40:52,879 - Lbl2Vec - INFO - Calculate document<->label similarities\n"
     ]
    }
   ],
   "source": [
    "model_docs_lbl_similarities = Lbl2Vec_model.predict_model_docs()"
   ]
  },
  {
   "cell_type": "code",
   "execution_count": 35,
   "metadata": {},
   "outputs": [],
   "source": [
    "model_docs_lbl_similarities = model_docs_lbl_similarities.merge(df, left_on='doc_key', right_on='doc_key')#[['content','most_similar_label']]"
   ]
  },
  {
   "cell_type": "code",
   "execution_count": 28,
   "metadata": {},
   "outputs": [
    {
     "data": {
      "text/plain": [
       "<AxesSubplot:>"
      ]
     },
     "execution_count": 28,
     "metadata": {},
     "output_type": "execute_result"
    },
    {
     "data": {
      "image/png": "[encoded data removed]",
      "text/plain": [
       "<Figure size 640x480 with 1 Axes>"
      ]
     },
     "metadata": {},
     "output_type": "display_data"
    }
   ],
   "source": [
    "model_docs_lbl_similarities['most_similar_label'].value_counts().plot(kind='bar')"
   ]
  },
  {
   "cell_type": "code",
   "execution_count": 50,
   "metadata": {},
   "outputs": [],
   "source": [
    "sentiment_dict = {}\n",
    "for i in model_docs_lbl_similarities.iterrows():\n",
    "    sentiment_dict[i[1]['most_similar_label']] = sentiment_dict.get(i[1]['most_similar_label'], 0) + i[1]['sentiment_score']\n",
    "    # break"
   ]
  },
  {
   "cell_type": "code",
   "execution_count": 61,
   "metadata": {},
   "outputs": [
    {
     "data": {
      "text/plain": [
       "{'user_experience': -88314,\n",
       " 'invalid_troll': -274340,\n",
       " 'security': -60450,\n",
       " 'jaringan_dan_koneksi': -33857,\n",
       " 'payment': -64244}"
      ]
     },
     "execution_count": 61,
     "metadata": {},
     "output_type": "execute_result"
    }
   ],
   "source": [
    "sentiment_dict"
   ]
  },
  {
   "cell_type": "code",
   "execution_count": 60,
   "metadata": {},
   "outputs": [
    {
     "data": {
      "text/plain": [
       "([0, 1, 2, 3, 4],\n",
       " [Text(0, 0, ''),\n",
       "  Text(0, 0, ''),\n",
       "  Text(0, 0, ''),\n",
       "  Text(0, 0, ''),\n",
       "  Text(0, 0, '')])"
      ]
     },
     "execution_count": 60,
     "metadata": {},
     "output_type": "execute_result"
    },
    {
     "data": {
      "image/png": "[encoded data removed]",
      "text/plain": [
       "<Figure size 640x480 with 1 Axes>"
      ]
     },
     "metadata": {},
     "output_type": "display_data"
    }
   ],
   "source": [
    "import matplotlib.pyplot as plt\n",
    "\n",
    "plt.bar(sentiment_dict.keys(), sentiment_dict.values(), )\n",
    "plt.xticks(rotation=-45)"
   ]
  },
  {
   "cell_type": "code",
   "execution_count": null,
   "metadata": {},
   "outputs": [],
   "source": []
  }
 ],
 "metadata": {
  "kernelspec": {
   "display_name": "Python 3.7.9 ('.venv': venv)",
   "language": "python",
   "name": "python3"
  },
  "language_info": {
   "codemirror_mode": {
    "name": "ipython",
    "version": 3
   },
   "file_extension": ".py",
   "mimetype": "text/x-python",
   "name": "python",
   "nbconvert_exporter": "python",
   "pygments_lexer": "ipython3",
   "version": "3.7.9"
  },
  "orig_nbformat": 4,
  "vscode": {
   "interpreter": {
    "hash": "d3760f00dc84a561d1b0937ee5b78e6d76c755235379a04e757565e20c39e883"
   }
  }
 },
 "nbformat": 4,
 "nbformat_minor": 2
}
