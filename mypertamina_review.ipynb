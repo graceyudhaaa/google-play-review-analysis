{
 "cells": [
  {
   "cell_type": "markdown",
   "metadata": {},
   "source": [
    "# Rekomendasi Unsupervised Lbl2vec"
   ]
  },
  {
   "cell_type": "code",
   "execution_count": 1,
   "metadata": {},
   "outputs": [],
   "source": [
    "from google_play_scraper import app\n",
    "from google_play_scraper import Sort, reviews\n",
    "import pandas as pd\n",
    "import numpy as np\n",
    "import matplotlib.pyplot as plt\n",
    "\n",
    "from lbl2vec import Lbl2Vec\n",
    "from gensim.utils import simple_preprocess\n",
    "from gensim.models.doc2vec import TaggedDocument, Doc2Vec\n",
    "from gensim.parsing.preprocessing import strip_tags\n",
    "from sklearn.metrics import f1_score\n",
    "from tqdm import tqdm\n",
    "\n",
    "tqdm.pandas()"
   ]
  },
  {
   "cell_type": "code",
   "execution_count": 3,
   "metadata": {},
   "outputs": [],
   "source": [
    "result, continuation_token = reviews(\n",
    "    'com.dafturn.mypertamina',\n",
    "    lang='id', \n",
    "    country='id', \n",
    "    sort=Sort.MOST_RELEVANT, \n",
    "    count=114904, \n",
    "    filter_score_with=None\n",
    ")"
   ]
  },
  {
   "cell_type": "code",
   "execution_count": 7,
   "metadata": {},
   "outputs": [],
   "source": [
    "df = pd.DataFrame.from_dict(result)\n",
    "df = df[['userName', 'score','at', 'content']]"
   ]
  },
  {
   "cell_type": "code",
   "execution_count": 8,
   "metadata": {},
   "outputs": [],
   "source": [
    "import re\n",
    "def cleaningulasan(ulasan):\n",
    "  ulasan = re.sub(r'@[A-Za-a0-9]+',' ',ulasan)\n",
    "  ulasan = re.sub(r'#[A-Za-z0-9]+',' ',ulasan)\n",
    "  ulasan = re.sub(r\"http\\S+\",' ',ulasan)\n",
    "  ulasan = re.sub(r'[0-9]+',' ',ulasan)\n",
    "  ulasan = re.sub(r\"[-()\\\"#/@;:<>{}'+=~|.!?,_]\", \" \", ulasan)\n",
    "  ulasan = ulasan.strip(' ')\n",
    "  return ulasan\n",
    "\n",
    "def clearEmoji(ulasan):\n",
    "    return ulasan.encode('ascii', 'ignore').decode('ascii')\n",
    "\n",
    "def replaceTOM(ulasan):\n",
    "    pola = re.compile(r'(.)\\1{2,}', re.DOTALL)\n",
    "    return pola.sub(r'\\1', ulasan)\n",
    "\n",
    "def casefoldingText(ulasan):\n",
    "  ulasan = ulasan.lower()\n",
    "  return ulasan"
   ]
  },
  {
   "cell_type": "code",
   "execution_count": 9,
   "metadata": {},
   "outputs": [],
   "source": [
    "df['Cleaning']= df['content'].apply(cleaningulasan)\n",
    "df['HapusEmoji']= df['Cleaning'].apply(clearEmoji)\n",
    "df['3/Lebih']= df['HapusEmoji'].apply(replaceTOM)\n",
    "df['CaseFolding']= df['3/Lebih'].apply(casefoldingText)"
   ]
  },
  {
   "cell_type": "code",
   "execution_count": 10,
   "metadata": {},
   "outputs": [],
   "source": [
    "def convertToSlangword(ulasan):\n",
    "    kamusSlang = eval(open(\"NLP_bahasa_resources\\combined_slang_words.txt\").read())\n",
    "    content = []\n",
    "    for kata in ulasan.split():\n",
    "        try:\n",
    "            content.append(kamusSlang[kata])\n",
    "        except:\n",
    "            content.append(kata)\n",
    "    ulasan = ' '.join(content)\n",
    "    return ulasan\n",
    "\n",
    "df['Formalisasi'] = df['CaseFolding'].apply(convertToSlangword)"
   ]
  },
  {
   "cell_type": "code",
   "execution_count": 2,
   "metadata": {},
   "outputs": [],
   "source": [
    "df = pd.read_csv('review_mobile_jkn_processed.csv')"
   ]
  },
  {
   "cell_type": "code",
   "execution_count": 21,
   "metadata": {},
   "outputs": [],
   "source": [
    "positive = pd.read_csv('InSet\\positive.tsv', sep='\\t', index_col='word')\n",
    "negative = pd.read_csv('InSet\\\\negative.tsv', sep='\\t', index_col='word')\n",
    "\n",
    "# inset = pd.concat([positive, negative]).to_dict()['weight']\n",
    "positive = positive.to_dict()['weight']\n",
    "negative = negative.to_dict()['weight']"
   ]
  },
  {
   "cell_type": "code",
   "execution_count": 22,
   "metadata": {},
   "outputs": [
    {
     "name": "stderr",
     "output_type": "stream",
     "text": [
      "100%|██████████| 114904/114904 [00:02<00:00, 44064.64it/s] \n"
     ]
    }
   ],
   "source": [
    "def sentiment_score(ulasan):\n",
    "    inset_positive_score = 0\n",
    "    inset_negative_score = 0\n",
    "\n",
    "    for kata in str(ulasan).split():\n",
    "        try:\n",
    "            inset_positive_score += positive[kata]\n",
    "        except:\n",
    "            inset_positive_score += 0\n",
    "        \n",
    "        try:\n",
    "            inset_negative_score += negative[kata]\n",
    "        except:\n",
    "            inset_negative_score += 0\n",
    "\n",
    "    return inset_positive_score + inset_negative_score\n",
    "\n",
    "df['sentiment_score'] = df['CaseFolding'].progress_apply(sentiment_score)"
   ]
  },
  {
   "cell_type": "code",
   "execution_count": 3,
   "metadata": {},
   "outputs": [
    {
     "data": {
      "text/html": [
       "<div>\n",
       "<style scoped>\n",
       "    .dataframe tbody tr th:only-of-type {\n",
       "        vertical-align: middle;\n",
       "    }\n",
       "\n",
       "    .dataframe tbody tr th {\n",
       "        vertical-align: top;\n",
       "    }\n",
       "\n",
       "    .dataframe thead th {\n",
       "        text-align: right;\n",
       "    }\n",
       "</style>\n",
       "<table border=\"1\" class=\"dataframe\">\n",
       "  <thead>\n",
       "    <tr style=\"text-align: right;\">\n",
       "      <th></th>\n",
       "      <th>userName</th>\n",
       "      <th>score</th>\n",
       "      <th>at</th>\n",
       "      <th>content</th>\n",
       "      <th>Formalisasi</th>\n",
       "      <th>sentiment_score</th>\n",
       "    </tr>\n",
       "  </thead>\n",
       "  <tbody>\n",
       "    <tr>\n",
       "      <th>0</th>\n",
       "      <td>Setiawan Jodi</td>\n",
       "      <td>1</td>\n",
       "      <td>2022-10-03 05:19:36</td>\n",
       "      <td>Saat login kode capchta tidak muncul jaringan ...</td>\n",
       "      <td>saat login kode capchta tidak muncul jaringan ...</td>\n",
       "      <td>-23</td>\n",
       "    </tr>\n",
       "    <tr>\n",
       "      <th>1</th>\n",
       "      <td>Sri Astuti</td>\n",
       "      <td>1</td>\n",
       "      <td>2022-09-27 04:34:32</td>\n",
       "      <td>Aplikasi yg gak jelas, hal yg mudah dibuat jd ...</td>\n",
       "      <td>aplikasi yang gak jelas hal yang mudah dibuat ...</td>\n",
       "      <td>0</td>\n",
       "    </tr>\n",
       "    <tr>\n",
       "      <th>2</th>\n",
       "      <td>Pratiwi R</td>\n",
       "      <td>2</td>\n",
       "      <td>2022-10-03 07:16:04</td>\n",
       "      <td>Aplikasi nya kurang bagus versi sekarang... Ma...</td>\n",
       "      <td>aplikasi nya kurang bagus versi sekarang mau l...</td>\n",
       "      <td>-10</td>\n",
       "    </tr>\n",
       "    <tr>\n",
       "      <th>3</th>\n",
       "      <td>adnan maulana</td>\n",
       "      <td>5</td>\n",
       "      <td>2022-10-03 00:47:33</td>\n",
       "      <td>Kekurangannya, tidak seluruh Bank tersedia unt...</td>\n",
       "      <td>kekurangannya tidak seluruh bank tersedia untu...</td>\n",
       "      <td>12</td>\n",
       "    </tr>\n",
       "    <tr>\n",
       "      <th>4</th>\n",
       "      <td>Indria Mandala Putri</td>\n",
       "      <td>1</td>\n",
       "      <td>2022-10-03 09:50:28</td>\n",
       "      <td>Di satu sisi aplikasi ini bagus dan memudahkan...</td>\n",
       "      <td>di satu sisi aplikasi ini bagus dan memudahkan...</td>\n",
       "      <td>-17</td>\n",
       "    </tr>\n",
       "    <tr>\n",
       "      <th>...</th>\n",
       "      <td>...</td>\n",
       "      <td>...</td>\n",
       "      <td>...</td>\n",
       "      <td>...</td>\n",
       "      <td>...</td>\n",
       "      <td>...</td>\n",
       "    </tr>\n",
       "    <tr>\n",
       "      <th>124592</th>\n",
       "      <td>Pengguna Google</td>\n",
       "      <td>5</td>\n",
       "      <td>2016-10-28 11:48:57</td>\n",
       "      <td>Ok</td>\n",
       "      <td>ok</td>\n",
       "      <td>4</td>\n",
       "    </tr>\n",
       "    <tr>\n",
       "      <th>124593</th>\n",
       "      <td>Suprapto Rtku</td>\n",
       "      <td>5</td>\n",
       "      <td>2022-06-08 04:17:08</td>\n",
       "      <td>Setiyasih Setiyasih</td>\n",
       "      <td>setiyasih setiyasih</td>\n",
       "      <td>0</td>\n",
       "    </tr>\n",
       "    <tr>\n",
       "      <th>124594</th>\n",
       "      <td>Pengguna Google</td>\n",
       "      <td>5</td>\n",
       "      <td>2016-07-29 14:12:34</td>\n",
       "      <td>Good</td>\n",
       "      <td>good</td>\n",
       "      <td>5</td>\n",
       "    </tr>\n",
       "    <tr>\n",
       "      <th>124595</th>\n",
       "      <td>Pengguna Google</td>\n",
       "      <td>5</td>\n",
       "      <td>2016-10-27 12:12:42</td>\n",
       "      <td>Good</td>\n",
       "      <td>good</td>\n",
       "      <td>5</td>\n",
       "    </tr>\n",
       "    <tr>\n",
       "      <th>124596</th>\n",
       "      <td>Ratih Sukma</td>\n",
       "      <td>5</td>\n",
       "      <td>2022-10-12 10:09:56</td>\n",
       "      <td>Data Langsung terubah secara real time (pindah...</td>\n",
       "      <td>data langsung terubah secara real time pindah ...</td>\n",
       "      <td>6</td>\n",
       "    </tr>\n",
       "  </tbody>\n",
       "</table>\n",
       "<p>124597 rows × 6 columns</p>\n",
       "</div>"
      ],
      "text/plain": [
       "                    userName  score                   at  \\\n",
       "0              Setiawan Jodi      1  2022-10-03 05:19:36   \n",
       "1                 Sri Astuti      1  2022-09-27 04:34:32   \n",
       "2                  Pratiwi R      2  2022-10-03 07:16:04   \n",
       "3              adnan maulana      5  2022-10-03 00:47:33   \n",
       "4       Indria Mandala Putri      1  2022-10-03 09:50:28   \n",
       "...                      ...    ...                  ...   \n",
       "124592       Pengguna Google      5  2016-10-28 11:48:57   \n",
       "124593         Suprapto Rtku      5  2022-06-08 04:17:08   \n",
       "124594       Pengguna Google      5  2016-07-29 14:12:34   \n",
       "124595       Pengguna Google      5  2016-10-27 12:12:42   \n",
       "124596           Ratih Sukma      5  2022-10-12 10:09:56   \n",
       "\n",
       "                                                  content  \\\n",
       "0       Saat login kode capchta tidak muncul jaringan ...   \n",
       "1       Aplikasi yg gak jelas, hal yg mudah dibuat jd ...   \n",
       "2       Aplikasi nya kurang bagus versi sekarang... Ma...   \n",
       "3       Kekurangannya, tidak seluruh Bank tersedia unt...   \n",
       "4       Di satu sisi aplikasi ini bagus dan memudahkan...   \n",
       "...                                                   ...   \n",
       "124592                                                 Ok   \n",
       "124593                                Setiyasih Setiyasih   \n",
       "124594                                               Good   \n",
       "124595                                               Good   \n",
       "124596  Data Langsung terubah secara real time (pindah...   \n",
       "\n",
       "                                              Formalisasi  sentiment_score  \n",
       "0       saat login kode capchta tidak muncul jaringan ...              -23  \n",
       "1       aplikasi yang gak jelas hal yang mudah dibuat ...                0  \n",
       "2       aplikasi nya kurang bagus versi sekarang mau l...              -10  \n",
       "3       kekurangannya tidak seluruh bank tersedia untu...               12  \n",
       "4       di satu sisi aplikasi ini bagus dan memudahkan...              -17  \n",
       "...                                                   ...              ...  \n",
       "124592                                                 ok                4  \n",
       "124593                                setiyasih setiyasih                0  \n",
       "124594                                               good                5  \n",
       "124595                                               good                5  \n",
       "124596  data langsung terubah secara real time pindah ...                6  \n",
       "\n",
       "[124597 rows x 6 columns]"
      ]
     },
     "execution_count": 3,
     "metadata": {},
     "output_type": "execute_result"
    }
   ],
   "source": [
    "df = df[['userName', 'score','at', 'content', 'Formalisasi', 'sentiment_score']]\n",
    "df"
   ]
  },
  {
   "cell_type": "markdown",
   "metadata": {},
   "source": [
    "## Value Count by Score"
   ]
  },
  {
   "cell_type": "code",
   "execution_count": 4,
   "metadata": {},
   "outputs": [
    {
     "data": {
      "image/png": "[encoded data removed]",
      "text/plain": [
       "<Figure size 640x480 with 1 Axes>"
      ]
     },
     "metadata": {},
     "output_type": "display_data"
    }
   ],
   "source": [
    "ax = df['score'].value_counts().sort_index().plot(kind='barh')\n",
    "ax.bar_label(ax.containers[0], padding=5)\n",
    "ax.set_xlim(right=70000)\n",
    "\n",
    "plt.show()"
   ]
  },
  {
   "cell_type": "code",
   "execution_count": 24,
   "metadata": {},
   "outputs": [],
   "source": [
    "# df.to_csv('review_mypertamina.csv', index=False)"
   ]
  },
  {
   "cell_type": "code",
   "execution_count": 25,
   "metadata": {},
   "outputs": [],
   "source": [
    "# df = pd.read_csv('review_mypertamina.csv')"
   ]
  },
  {
   "cell_type": "code",
   "execution_count": 62,
   "metadata": {},
   "outputs": [],
   "source": [
    "labels = pd.read_csv('label_keyword_jkn.csv',sep=';')\n",
    "labels['keywords'] = labels['keywords'].apply(lambda x: x.lower().split(' '))\n",
    "labels['number_of_keywords'] = labels['keywords'].apply(lambda row: len(row))"
   ]
  },
  {
   "cell_type": "code",
   "execution_count": 63,
   "metadata": {},
   "outputs": [
    {
     "data": {
      "text/html": [
       "<div>\n",
       "<style scoped>\n",
       "    .dataframe tbody tr th:only-of-type {\n",
       "        vertical-align: middle;\n",
       "    }\n",
       "\n",
       "    .dataframe tbody tr th {\n",
       "        vertical-align: top;\n",
       "    }\n",
       "\n",
       "    .dataframe thead th {\n",
       "        text-align: right;\n",
       "    }\n",
       "</style>\n",
       "<table border=\"1\" class=\"dataframe\">\n",
       "  <thead>\n",
       "    <tr style=\"text-align: right;\">\n",
       "      <th></th>\n",
       "      <th>class_index</th>\n",
       "      <th>class_name</th>\n",
       "      <th>keywords</th>\n",
       "      <th>number_of_keywords</th>\n",
       "    </tr>\n",
       "  </thead>\n",
       "  <tbody>\n",
       "    <tr>\n",
       "      <th>0</th>\n",
       "      <td>1</td>\n",
       "      <td>user_experience</td>\n",
       "      <td>[ribet, good, baik, memudahkan, best, mempermu...</td>\n",
       "      <td>25</td>\n",
       "    </tr>\n",
       "    <tr>\n",
       "      <th>1</th>\n",
       "      <td>2</td>\n",
       "      <td>server</td>\n",
       "      <td>[server, operation, time, out, loading, ganggu...</td>\n",
       "      <td>7</td>\n",
       "    </tr>\n",
       "    <tr>\n",
       "      <th>2</th>\n",
       "      <td>3</td>\n",
       "      <td>payment</td>\n",
       "      <td>[bank, banking, pembayaran, bayar, auto, debit...</td>\n",
       "      <td>9</td>\n",
       "    </tr>\n",
       "    <tr>\n",
       "      <th>3</th>\n",
       "      <td>5</td>\n",
       "      <td>authentication</td>\n",
       "      <td>[login, email, masuk, terdaftar, daftar, regis...</td>\n",
       "      <td>15</td>\n",
       "    </tr>\n",
       "    <tr>\n",
       "      <th>4</th>\n",
       "      <td>6</td>\n",
       "      <td>account</td>\n",
       "      <td>[edit, profile, password, logout]</td>\n",
       "      <td>4</td>\n",
       "    </tr>\n",
       "    <tr>\n",
       "      <th>5</th>\n",
       "      <td>7</td>\n",
       "      <td>family_members</td>\n",
       "      <td>[penambahan, data, keluarga, anggota, peserta,...</td>\n",
       "      <td>10</td>\n",
       "    </tr>\n",
       "  </tbody>\n",
       "</table>\n",
       "</div>"
      ],
      "text/plain": [
       "   class_index       class_name  \\\n",
       "0            1  user_experience   \n",
       "1            2           server   \n",
       "2            3          payment   \n",
       "3            5   authentication   \n",
       "4            6          account   \n",
       "5            7   family_members   \n",
       "\n",
       "                                            keywords  number_of_keywords  \n",
       "0  [ribet, good, baik, memudahkan, best, mempermu...                  25  \n",
       "1  [server, operation, time, out, loading, ganggu...                   7  \n",
       "2  [bank, banking, pembayaran, bayar, auto, debit...                   9  \n",
       "3  [login, email, masuk, terdaftar, daftar, regis...                  15  \n",
       "4                  [edit, profile, password, logout]                   4  \n",
       "5  [penambahan, data, keluarga, anggota, peserta,...                  10  "
      ]
     },
     "execution_count": 63,
     "metadata": {},
     "output_type": "execute_result"
    }
   ],
   "source": [
    "labels"
   ]
  },
  {
   "cell_type": "code",
   "execution_count": 32,
   "metadata": {},
   "outputs": [],
   "source": [
    "def tokenize(doc):\n",
    "    return simple_preprocess(strip_tags(doc), deacc=True, min_len=2, max_len=15)"
   ]
  },
  {
   "cell_type": "code",
   "execution_count": 33,
   "metadata": {},
   "outputs": [
    {
     "data": {
      "text/html": [
       "<div>\n",
       "<style scoped>\n",
       "    .dataframe tbody tr th:only-of-type {\n",
       "        vertical-align: middle;\n",
       "    }\n",
       "\n",
       "    .dataframe tbody tr th {\n",
       "        vertical-align: top;\n",
       "    }\n",
       "\n",
       "    .dataframe thead th {\n",
       "        text-align: right;\n",
       "    }\n",
       "</style>\n",
       "<table border=\"1\" class=\"dataframe\">\n",
       "  <thead>\n",
       "    <tr style=\"text-align: right;\">\n",
       "      <th></th>\n",
       "      <th>userName</th>\n",
       "      <th>score</th>\n",
       "      <th>at</th>\n",
       "      <th>content</th>\n",
       "      <th>Formalisasi</th>\n",
       "      <th>sentiment_score</th>\n",
       "      <th>tagged_docs</th>\n",
       "      <th>doc_key</th>\n",
       "    </tr>\n",
       "  </thead>\n",
       "  <tbody>\n",
       "    <tr>\n",
       "      <th>0</th>\n",
       "      <td>Setiawan Jodi</td>\n",
       "      <td>1</td>\n",
       "      <td>2022-10-03 05:19:36</td>\n",
       "      <td>Saat login kode capchta tidak muncul jaringan ...</td>\n",
       "      <td>saat login kode capchta tidak muncul jaringan ...</td>\n",
       "      <td>-23</td>\n",
       "      <td>([saat, login, kode, capchta, tidak, muncul, j...</td>\n",
       "      <td>0</td>\n",
       "    </tr>\n",
       "    <tr>\n",
       "      <th>1</th>\n",
       "      <td>Sri Astuti</td>\n",
       "      <td>1</td>\n",
       "      <td>2022-09-27 04:34:32</td>\n",
       "      <td>Aplikasi yg gak jelas, hal yg mudah dibuat jd ...</td>\n",
       "      <td>aplikasi yang gak jelas hal yang mudah dibuat ...</td>\n",
       "      <td>0</td>\n",
       "      <td>([aplikasi, yang, gak, jelas, hal, yang, mudah...</td>\n",
       "      <td>1</td>\n",
       "    </tr>\n",
       "    <tr>\n",
       "      <th>2</th>\n",
       "      <td>Pratiwi R</td>\n",
       "      <td>2</td>\n",
       "      <td>2022-10-03 07:16:04</td>\n",
       "      <td>Aplikasi nya kurang bagus versi sekarang... Ma...</td>\n",
       "      <td>aplikasi nya kurang bagus versi sekarang mau l...</td>\n",
       "      <td>-10</td>\n",
       "      <td>([aplikasi, nya, kurang, bagus, versi, sekaran...</td>\n",
       "      <td>2</td>\n",
       "    </tr>\n",
       "    <tr>\n",
       "      <th>3</th>\n",
       "      <td>adnan maulana</td>\n",
       "      <td>5</td>\n",
       "      <td>2022-10-03 00:47:33</td>\n",
       "      <td>Kekurangannya, tidak seluruh Bank tersedia unt...</td>\n",
       "      <td>kekurangannya tidak seluruh bank tersedia untu...</td>\n",
       "      <td>12</td>\n",
       "      <td>([kekurangannya, tidak, seluruh, bank, tersedi...</td>\n",
       "      <td>3</td>\n",
       "    </tr>\n",
       "    <tr>\n",
       "      <th>4</th>\n",
       "      <td>Indria Mandala Putri</td>\n",
       "      <td>1</td>\n",
       "      <td>2022-10-03 09:50:28</td>\n",
       "      <td>Di satu sisi aplikasi ini bagus dan memudahkan...</td>\n",
       "      <td>di satu sisi aplikasi ini bagus dan memudahkan...</td>\n",
       "      <td>-17</td>\n",
       "      <td>([di, satu, sisi, aplikasi, ini, bagus, dan, m...</td>\n",
       "      <td>4</td>\n",
       "    </tr>\n",
       "  </tbody>\n",
       "</table>\n",
       "</div>"
      ],
      "text/plain": [
       "               userName  score                   at  \\\n",
       "0         Setiawan Jodi      1  2022-10-03 05:19:36   \n",
       "1            Sri Astuti      1  2022-09-27 04:34:32   \n",
       "2             Pratiwi R      2  2022-10-03 07:16:04   \n",
       "3         adnan maulana      5  2022-10-03 00:47:33   \n",
       "4  Indria Mandala Putri      1  2022-10-03 09:50:28   \n",
       "\n",
       "                                             content  \\\n",
       "0  Saat login kode capchta tidak muncul jaringan ...   \n",
       "1  Aplikasi yg gak jelas, hal yg mudah dibuat jd ...   \n",
       "2  Aplikasi nya kurang bagus versi sekarang... Ma...   \n",
       "3  Kekurangannya, tidak seluruh Bank tersedia unt...   \n",
       "4  Di satu sisi aplikasi ini bagus dan memudahkan...   \n",
       "\n",
       "                                         Formalisasi  sentiment_score  \\\n",
       "0  saat login kode capchta tidak muncul jaringan ...              -23   \n",
       "1  aplikasi yang gak jelas hal yang mudah dibuat ...                0   \n",
       "2  aplikasi nya kurang bagus versi sekarang mau l...              -10   \n",
       "3  kekurangannya tidak seluruh bank tersedia untu...               12   \n",
       "4  di satu sisi aplikasi ini bagus dan memudahkan...              -17   \n",
       "\n",
       "                                         tagged_docs doc_key  \n",
       "0  ([saat, login, kode, capchta, tidak, muncul, j...       0  \n",
       "1  ([aplikasi, yang, gak, jelas, hal, yang, mudah...       1  \n",
       "2  ([aplikasi, nya, kurang, bagus, versi, sekaran...       2  \n",
       "3  ([kekurangannya, tidak, seluruh, bank, tersedi...       3  \n",
       "4  ([di, satu, sisi, aplikasi, ini, bagus, dan, m...       4  "
      ]
     },
     "execution_count": 33,
     "metadata": {},
     "output_type": "execute_result"
    }
   ],
   "source": [
    "df.head()"
   ]
  },
  {
   "cell_type": "code",
   "execution_count": 34,
   "metadata": {},
   "outputs": [],
   "source": [
    "# sum(df['Formalisasi'].isna())"
   ]
  },
  {
   "cell_type": "code",
   "execution_count": 35,
   "metadata": {},
   "outputs": [
    {
     "name": "stderr",
     "output_type": "stream",
     "text": [
      "100%|██████████| 124597/124597 [00:12<00:00, 9918.98it/s] \n"
     ]
    }
   ],
   "source": [
    "df['Formalisasi'] = df['Formalisasi'].fillna('').astype(str)\n",
    "df['tagged_docs'] = df.progress_apply(lambda row: TaggedDocument(tokenize(row['Formalisasi']), [str(row.name)]), axis=1)"
   ]
  },
  {
   "cell_type": "code",
   "execution_count": 36,
   "metadata": {},
   "outputs": [
    {
     "data": {
      "text/html": [
       "<div>\n",
       "<style scoped>\n",
       "    .dataframe tbody tr th:only-of-type {\n",
       "        vertical-align: middle;\n",
       "    }\n",
       "\n",
       "    .dataframe tbody tr th {\n",
       "        vertical-align: top;\n",
       "    }\n",
       "\n",
       "    .dataframe thead th {\n",
       "        text-align: right;\n",
       "    }\n",
       "</style>\n",
       "<table border=\"1\" class=\"dataframe\">\n",
       "  <thead>\n",
       "    <tr style=\"text-align: right;\">\n",
       "      <th></th>\n",
       "      <th>userName</th>\n",
       "      <th>score</th>\n",
       "      <th>at</th>\n",
       "      <th>content</th>\n",
       "      <th>Formalisasi</th>\n",
       "      <th>sentiment_score</th>\n",
       "      <th>tagged_docs</th>\n",
       "      <th>doc_key</th>\n",
       "    </tr>\n",
       "  </thead>\n",
       "  <tbody>\n",
       "    <tr>\n",
       "      <th>0</th>\n",
       "      <td>Setiawan Jodi</td>\n",
       "      <td>1</td>\n",
       "      <td>2022-10-03 05:19:36</td>\n",
       "      <td>Saat login kode capchta tidak muncul jaringan ...</td>\n",
       "      <td>saat login kode capchta tidak muncul jaringan ...</td>\n",
       "      <td>-23</td>\n",
       "      <td>([saat, login, kode, capchta, tidak, muncul, j...</td>\n",
       "      <td>0</td>\n",
       "    </tr>\n",
       "    <tr>\n",
       "      <th>1</th>\n",
       "      <td>Sri Astuti</td>\n",
       "      <td>1</td>\n",
       "      <td>2022-09-27 04:34:32</td>\n",
       "      <td>Aplikasi yg gak jelas, hal yg mudah dibuat jd ...</td>\n",
       "      <td>aplikasi yang gak jelas hal yang mudah dibuat ...</td>\n",
       "      <td>0</td>\n",
       "      <td>([aplikasi, yang, gak, jelas, hal, yang, mudah...</td>\n",
       "      <td>1</td>\n",
       "    </tr>\n",
       "    <tr>\n",
       "      <th>2</th>\n",
       "      <td>Pratiwi R</td>\n",
       "      <td>2</td>\n",
       "      <td>2022-10-03 07:16:04</td>\n",
       "      <td>Aplikasi nya kurang bagus versi sekarang... Ma...</td>\n",
       "      <td>aplikasi nya kurang bagus versi sekarang mau l...</td>\n",
       "      <td>-10</td>\n",
       "      <td>([aplikasi, nya, kurang, bagus, versi, sekaran...</td>\n",
       "      <td>2</td>\n",
       "    </tr>\n",
       "    <tr>\n",
       "      <th>3</th>\n",
       "      <td>adnan maulana</td>\n",
       "      <td>5</td>\n",
       "      <td>2022-10-03 00:47:33</td>\n",
       "      <td>Kekurangannya, tidak seluruh Bank tersedia unt...</td>\n",
       "      <td>kekurangannya tidak seluruh bank tersedia untu...</td>\n",
       "      <td>12</td>\n",
       "      <td>([kekurangannya, tidak, seluruh, bank, tersedi...</td>\n",
       "      <td>3</td>\n",
       "    </tr>\n",
       "    <tr>\n",
       "      <th>4</th>\n",
       "      <td>Indria Mandala Putri</td>\n",
       "      <td>1</td>\n",
       "      <td>2022-10-03 09:50:28</td>\n",
       "      <td>Di satu sisi aplikasi ini bagus dan memudahkan...</td>\n",
       "      <td>di satu sisi aplikasi ini bagus dan memudahkan...</td>\n",
       "      <td>-17</td>\n",
       "      <td>([di, satu, sisi, aplikasi, ini, bagus, dan, m...</td>\n",
       "      <td>4</td>\n",
       "    </tr>\n",
       "  </tbody>\n",
       "</table>\n",
       "</div>"
      ],
      "text/plain": [
       "               userName  score                   at  \\\n",
       "0         Setiawan Jodi      1  2022-10-03 05:19:36   \n",
       "1            Sri Astuti      1  2022-09-27 04:34:32   \n",
       "2             Pratiwi R      2  2022-10-03 07:16:04   \n",
       "3         adnan maulana      5  2022-10-03 00:47:33   \n",
       "4  Indria Mandala Putri      1  2022-10-03 09:50:28   \n",
       "\n",
       "                                             content  \\\n",
       "0  Saat login kode capchta tidak muncul jaringan ...   \n",
       "1  Aplikasi yg gak jelas, hal yg mudah dibuat jd ...   \n",
       "2  Aplikasi nya kurang bagus versi sekarang... Ma...   \n",
       "3  Kekurangannya, tidak seluruh Bank tersedia unt...   \n",
       "4  Di satu sisi aplikasi ini bagus dan memudahkan...   \n",
       "\n",
       "                                         Formalisasi  sentiment_score  \\\n",
       "0  saat login kode capchta tidak muncul jaringan ...              -23   \n",
       "1  aplikasi yang gak jelas hal yang mudah dibuat ...                0   \n",
       "2  aplikasi nya kurang bagus versi sekarang mau l...              -10   \n",
       "3  kekurangannya tidak seluruh bank tersedia untu...               12   \n",
       "4  di satu sisi aplikasi ini bagus dan memudahkan...              -17   \n",
       "\n",
       "                                         tagged_docs doc_key  \n",
       "0  ([saat, login, kode, capchta, tidak, muncul, j...       0  \n",
       "1  ([aplikasi, yang, gak, jelas, hal, yang, mudah...       1  \n",
       "2  ([aplikasi, nya, kurang, bagus, versi, sekaran...       2  \n",
       "3  ([kekurangannya, tidak, seluruh, bank, tersedi...       3  \n",
       "4  ([di, satu, sisi, aplikasi, ini, bagus, dan, m...       4  "
      ]
     },
     "execution_count": 36,
     "metadata": {},
     "output_type": "execute_result"
    }
   ],
   "source": [
    "df.head()"
   ]
  },
  {
   "cell_type": "code",
   "execution_count": 37,
   "metadata": {},
   "outputs": [],
   "source": [
    "df['doc_key'] = df.index.astype(str)"
   ]
  },
  {
   "cell_type": "code",
   "execution_count": 45,
   "metadata": {},
   "outputs": [],
   "source": [
    "doc2vec_model = Doc2Vec(documents=df['tagged_docs'], dbow_words=1, dm=1)"
   ]
  },
  {
   "cell_type": "code",
   "execution_count": 46,
   "metadata": {},
   "outputs": [],
   "source": [
    "doc2vec_model.save('doc2vec_mobileJKN_model')"
   ]
  },
  {
   "cell_type": "code",
   "execution_count": 64,
   "metadata": {},
   "outputs": [
    {
     "name": "stderr",
     "output_type": "stream",
     "text": [
      "2022-10-14 19:55:19,707 - Lbl2Vec - INFO - Load document and word embeddings\n",
      "2022-10-14 19:55:19,710 - Lbl2Vec - INFO - Train label embeddings\n",
      "2022-10-14 19:55:20,590 - Lbl2Vec - WARNING - The following keywords from the 'keywords_list' are unknown to the Doc2Vec model and therefore not used to train the model: operation\n"
     ]
    }
   ],
   "source": [
    "Lbl2Vec_model = Lbl2Vec(keywords_list=list(labels.keywords),  doc2vec_model=doc2vec_model, label_names=list(labels.class_name), similarity_threshold=0.43, min_num_docs=100, epochs=50)\n",
    "\n",
    "Lbl2Vec_model.fit()"
   ]
  },
  {
   "cell_type": "code",
   "execution_count": 65,
   "metadata": {},
   "outputs": [
    {
     "name": "stderr",
     "output_type": "stream",
     "text": [
      "2022-10-14 19:55:26,703 - Lbl2Vec - INFO - Get document embeddings from model\n",
      "2022-10-14 19:55:27,006 - Lbl2Vec - INFO - Calculate document<->label similarities\n"
     ]
    }
   ],
   "source": [
    "model_docs_lbl_similarities = Lbl2Vec_model.predict_model_docs()"
   ]
  },
  {
   "cell_type": "code",
   "execution_count": 59,
   "metadata": {},
   "outputs": [],
   "source": [
    "model_docs_lbl_similarities = model_docs_lbl_similarities.merge(df, left_on='doc_key', right_on='doc_key')#[['content','most_similar_label']]"
   ]
  },
  {
   "cell_type": "code",
   "execution_count": 60,
   "metadata": {},
   "outputs": [
    {
     "data": {
      "text/html": [
       "<div>\n",
       "<style scoped>\n",
       "    .dataframe tbody tr th:only-of-type {\n",
       "        vertical-align: middle;\n",
       "    }\n",
       "\n",
       "    .dataframe tbody tr th {\n",
       "        vertical-align: top;\n",
       "    }\n",
       "\n",
       "    .dataframe thead th {\n",
       "        text-align: right;\n",
       "    }\n",
       "</style>\n",
       "<table border=\"1\" class=\"dataframe\">\n",
       "  <thead>\n",
       "    <tr style=\"text-align: right;\">\n",
       "      <th></th>\n",
       "      <th>content</th>\n",
       "      <th>most_similar_label</th>\n",
       "    </tr>\n",
       "  </thead>\n",
       "  <tbody>\n",
       "    <tr>\n",
       "      <th>0</th>\n",
       "      <td>Saat login kode capchta tidak muncul jaringan ...</td>\n",
       "      <td>authentication</td>\n",
       "    </tr>\n",
       "    <tr>\n",
       "      <th>1</th>\n",
       "      <td>Aplikasi yg gak jelas, hal yg mudah dibuat jd ...</td>\n",
       "      <td>security</td>\n",
       "    </tr>\n",
       "    <tr>\n",
       "      <th>2</th>\n",
       "      <td>Aplikasi nya kurang bagus versi sekarang... Ma...</td>\n",
       "      <td>security</td>\n",
       "    </tr>\n",
       "    <tr>\n",
       "      <th>3</th>\n",
       "      <td>Kekurangannya, tidak seluruh Bank tersedia unt...</td>\n",
       "      <td>family_members</td>\n",
       "    </tr>\n",
       "    <tr>\n",
       "      <th>4</th>\n",
       "      <td>Di satu sisi aplikasi ini bagus dan memudahkan...</td>\n",
       "      <td>security</td>\n",
       "    </tr>\n",
       "    <tr>\n",
       "      <th>...</th>\n",
       "      <td>...</td>\n",
       "      <td>...</td>\n",
       "    </tr>\n",
       "    <tr>\n",
       "      <th>124592</th>\n",
       "      <td>Ok</td>\n",
       "      <td>security</td>\n",
       "    </tr>\n",
       "    <tr>\n",
       "      <th>124593</th>\n",
       "      <td>Setiyasih Setiyasih</td>\n",
       "      <td>authentication</td>\n",
       "    </tr>\n",
       "    <tr>\n",
       "      <th>124594</th>\n",
       "      <td>Good</td>\n",
       "      <td>security</td>\n",
       "    </tr>\n",
       "    <tr>\n",
       "      <th>124595</th>\n",
       "      <td>Good</td>\n",
       "      <td>security</td>\n",
       "    </tr>\n",
       "    <tr>\n",
       "      <th>124596</th>\n",
       "      <td>Data Langsung terubah secara real time (pindah...</td>\n",
       "      <td>security</td>\n",
       "    </tr>\n",
       "  </tbody>\n",
       "</table>\n",
       "<p>124597 rows × 2 columns</p>\n",
       "</div>"
      ],
      "text/plain": [
       "                                                  content most_similar_label\n",
       "0       Saat login kode capchta tidak muncul jaringan ...     authentication\n",
       "1       Aplikasi yg gak jelas, hal yg mudah dibuat jd ...           security\n",
       "2       Aplikasi nya kurang bagus versi sekarang... Ma...           security\n",
       "3       Kekurangannya, tidak seluruh Bank tersedia unt...     family_members\n",
       "4       Di satu sisi aplikasi ini bagus dan memudahkan...           security\n",
       "...                                                   ...                ...\n",
       "124592                                                 Ok           security\n",
       "124593                                Setiyasih Setiyasih     authentication\n",
       "124594                                               Good           security\n",
       "124595                                               Good           security\n",
       "124596  Data Langsung terubah secara real time (pindah...           security\n",
       "\n",
       "[124597 rows x 2 columns]"
      ]
     },
     "execution_count": 60,
     "metadata": {},
     "output_type": "execute_result"
    }
   ],
   "source": [
    "model_docs_lbl_similarities[['content', 'most_similar_label']]"
   ]
  },
  {
   "cell_type": "code",
   "execution_count": 54,
   "metadata": {},
   "outputs": [
    {
     "data": {
      "text/html": [
       "<div>\n",
       "<style scoped>\n",
       "    .dataframe tbody tr th:only-of-type {\n",
       "        vertical-align: middle;\n",
       "    }\n",
       "\n",
       "    .dataframe tbody tr th {\n",
       "        vertical-align: top;\n",
       "    }\n",
       "\n",
       "    .dataframe thead th {\n",
       "        text-align: right;\n",
       "    }\n",
       "</style>\n",
       "<table border=\"1\" class=\"dataframe\">\n",
       "  <thead>\n",
       "    <tr style=\"text-align: right;\">\n",
       "      <th></th>\n",
       "      <th>content</th>\n",
       "    </tr>\n",
       "  </thead>\n",
       "  <tbody>\n",
       "    <tr>\n",
       "      <th>2</th>\n",
       "      <td>Aplikasi nya kurang bagus versi sekarang... Ma...</td>\n",
       "    </tr>\n",
       "    <tr>\n",
       "      <th>4</th>\n",
       "      <td>Di satu sisi aplikasi ini bagus dan memudahkan...</td>\n",
       "    </tr>\n",
       "    <tr>\n",
       "      <th>5</th>\n",
       "      <td>Aplikasi teerrrribet, paling sering minta upda...</td>\n",
       "    </tr>\n",
       "    <tr>\n",
       "      <th>9</th>\n",
       "      <td>Aplikasi kurang efektif, terlalu banyak konten...</td>\n",
       "    </tr>\n",
       "    <tr>\n",
       "      <th>12</th>\n",
       "      <td>sudah update lagi..tapi tetep masih ada fitur ...</td>\n",
       "    </tr>\n",
       "    <tr>\n",
       "      <th>...</th>\n",
       "      <td>...</td>\n",
       "    </tr>\n",
       "    <tr>\n",
       "      <th>124589</th>\n",
       "      <td>Tes</td>\n",
       "    </tr>\n",
       "    <tr>\n",
       "      <th>124590</th>\n",
       "      <td>Ok</td>\n",
       "    </tr>\n",
       "    <tr>\n",
       "      <th>124591</th>\n",
       "      <td>Ok</td>\n",
       "    </tr>\n",
       "    <tr>\n",
       "      <th>124592</th>\n",
       "      <td>Ok</td>\n",
       "    </tr>\n",
       "    <tr>\n",
       "      <th>124596</th>\n",
       "      <td>Data Langsung terubah secara real time (pindah...</td>\n",
       "    </tr>\n",
       "  </tbody>\n",
       "</table>\n",
       "<p>86301 rows × 1 columns</p>\n",
       "</div>"
      ],
      "text/plain": [
       "                                                  content\n",
       "2       Aplikasi nya kurang bagus versi sekarang... Ma...\n",
       "4       Di satu sisi aplikasi ini bagus dan memudahkan...\n",
       "5       Aplikasi teerrrribet, paling sering minta upda...\n",
       "9       Aplikasi kurang efektif, terlalu banyak konten...\n",
       "12      sudah update lagi..tapi tetep masih ada fitur ...\n",
       "...                                                   ...\n",
       "124589                                                Tes\n",
       "124590                                                 Ok\n",
       "124591                                                 Ok\n",
       "124592                                                 Ok\n",
       "124596  Data Langsung terubah secara real time (pindah...\n",
       "\n",
       "[86301 rows x 1 columns]"
      ]
     },
     "execution_count": 54,
     "metadata": {},
     "output_type": "execute_result"
    }
   ],
   "source": [
    "model_docs_lbl_similarities[model_docs_lbl_similarities['most_similar_label'] == 'server'][['content']]"
   ]
  },
  {
   "cell_type": "code",
   "execution_count": 61,
   "metadata": {},
   "outputs": [
    {
     "data": {
      "text/plain": [
       "[Text(0, 0, '109275'),\n",
       " Text(0, 0, '3692'),\n",
       " Text(0, 0, '2723'),\n",
       " Text(0, 0, '2702'),\n",
       " Text(0, 0, '2557'),\n",
       " Text(0, 0, '2334'),\n",
       " Text(0, 0, '1314')]"
      ]
     },
     "execution_count": 61,
     "metadata": {},
     "output_type": "execute_result"
    },
    {
     "data": {
      "image/png": "[encoded data removed]",
      "text/plain": [
       "<Figure size 640x480 with 1 Axes>"
      ]
     },
     "metadata": {},
     "output_type": "display_data"
    }
   ],
   "source": [
    "ax = model_docs_lbl_similarities[model_docs_lbl_similarities['most_similar_label'] != 'invalid_troll']['most_similar_label'].value_counts().plot(kind='bar')\n",
    "ax.bar_label((ax.containers[0]))"
   ]
  },
  {
   "cell_type": "code",
   "execution_count": 50,
   "metadata": {},
   "outputs": [],
   "source": [
    "sentiment_dict = {}\n",
    "for i in model_docs_lbl_similarities.iterrows():\n",
    "    sentiment_dict[i[1]['most_similar_label']] = sentiment_dict.get(i[1]['most_similar_label'], 0) + i[1]['sentiment_score']\n",
    "    # break"
   ]
  },
  {
   "cell_type": "code",
   "execution_count": 51,
   "metadata": {},
   "outputs": [],
   "source": [
    "sentiment_df = pd.DataFrame([val for _, val in sentiment_dict.items()], index=sentiment_dict.keys(), columns=['sentiment_score'])"
   ]
  },
  {
   "cell_type": "code",
   "execution_count": 52,
   "metadata": {},
   "outputs": [
    {
     "data": {
      "text/plain": [
       "[Text(0, 0, '48481'),\n",
       " Text(0, 0, '23236'),\n",
       " Text(0, 0, '22680'),\n",
       " Text(0, 0, '18084'),\n",
       " Text(0, 0, '16846'),\n",
       " Text(0, 0, '15633'),\n",
       " Text(0, 0, '9060'),\n",
       " Text(0, 0, '9007')]"
      ]
     },
     "execution_count": 52,
     "metadata": {},
     "output_type": "execute_result"
    },
    {
     "data": {
      "image/png": "[encoded data removed]",
      "text/plain": [
       "<Figure size 640x480 with 1 Axes>"
      ]
     },
     "metadata": {},
     "output_type": "display_data"
    }
   ],
   "source": [
    "ax = np.abs(sentiment_df.sort_values('sentiment_score'))[1:].plot.bar()\n",
    "ax.bar_label((ax.containers[0]))"
   ]
  },
  {
   "cell_type": "code",
   "execution_count": 53,
   "metadata": {},
   "outputs": [],
   "source": [
    "model_docs_lbl_similarities.to_csv('model_docs_lbl_similarities.csv', index=False)"
   ]
  },
  {
   "cell_type": "code",
   "execution_count": 54,
   "metadata": {},
   "outputs": [],
   "source": [
    "Lbl2Vec_model.save('Lbl2Vec_model')"
   ]
  }
 ],
 "metadata": {
  "kernelspec": {
   "display_name": "Python 3.10.7 ('.venv': venv)",
   "language": "python",
   "name": "python3"
  },
  "language_info": {
   "codemirror_mode": {
    "name": "ipython",
    "version": 3
   },
   "file_extension": ".py",
   "mimetype": "text/x-python",
   "name": "python",
   "nbconvert_exporter": "python",
   "pygments_lexer": "ipython3",
   "version": "3.10.7"
  },
  "orig_nbformat": 4,
  "vscode": {
   "interpreter": {
    "hash": "d3760f00dc84a561d1b0937ee5b78e6d76c755235379a04e757565e20c39e883"
   }
  }
 },
 "nbformat": 4,
 "nbformat_minor": 2
}
