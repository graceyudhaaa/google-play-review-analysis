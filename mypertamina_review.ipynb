{
 "cells": [
  {
   "cell_type": "markdown",
   "metadata": {},
   "source": [
    "# Rekomendasi Unsupervised Lbl2vec"
   ]
  },
  {
   "cell_type": "code",
   "execution_count": 2,
   "metadata": {},
   "outputs": [],
   "source": [
    "from google_play_scraper import app\n",
    "from google_play_scraper import Sort, reviews\n",
    "import pandas as pd\n",
    "import numpy as np\n",
    "\n",
    "from lbl2vec import Lbl2Vec\n",
    "from gensim.utils import simple_preprocess\n",
    "from gensim.models.doc2vec import TaggedDocument, Doc2Vec\n",
    "from gensim.parsing.preprocessing import strip_tags\n",
    "from sklearn.metrics import f1_score\n",
    "from tqdm import tqdm\n",
    "\n",
    "tqdm.pandas()"
   ]
  },
  {
   "cell_type": "code",
   "execution_count": 3,
   "metadata": {},
   "outputs": [],
   "source": [
    "result, continuation_token = reviews(\n",
    "    'com.dafturn.mypertamina',\n",
    "    lang='id', \n",
    "    country='id', \n",
    "    sort=Sort.MOST_RELEVANT, \n",
    "    count=114904, \n",
    "    filter_score_with=None\n",
    ")"
   ]
  },
  {
   "cell_type": "code",
   "execution_count": 7,
   "metadata": {},
   "outputs": [],
   "source": [
    "df = pd.DataFrame.from_dict(result)\n",
    "df = df[['userName', 'score','at', 'content']]"
   ]
  },
  {
   "cell_type": "code",
   "execution_count": 8,
   "metadata": {},
   "outputs": [],
   "source": [
    "import re\n",
    "def cleaningulasan(ulasan):\n",
    "  ulasan = re.sub(r'@[A-Za-a0-9]+',' ',ulasan)\n",
    "  ulasan = re.sub(r'#[A-Za-z0-9]+',' ',ulasan)\n",
    "  ulasan = re.sub(r\"http\\S+\",' ',ulasan)\n",
    "  ulasan = re.sub(r'[0-9]+',' ',ulasan)\n",
    "  ulasan = re.sub(r\"[-()\\\"#/@;:<>{}'+=~|.!?,_]\", \" \", ulasan)\n",
    "  ulasan = ulasan.strip(' ')\n",
    "  return ulasan\n",
    "\n",
    "def clearEmoji(ulasan):\n",
    "    return ulasan.encode('ascii', 'ignore').decode('ascii')\n",
    "\n",
    "def replaceTOM(ulasan):\n",
    "    pola = re.compile(r'(.)\\1{2,}', re.DOTALL)\n",
    "    return pola.sub(r'\\1', ulasan)\n",
    "\n",
    "def casefoldingText(ulasan):\n",
    "  ulasan = ulasan.lower()\n",
    "  return ulasan"
   ]
  },
  {
   "cell_type": "code",
   "execution_count": 9,
   "metadata": {},
   "outputs": [],
   "source": [
    "df['Cleaning']= df['content'].apply(cleaningulasan)\n",
    "df['HapusEmoji']= df['Cleaning'].apply(clearEmoji)\n",
    "df['3/Lebih']= df['HapusEmoji'].apply(replaceTOM)\n",
    "df['CaseFolding']= df['3/Lebih'].apply(casefoldingText)"
   ]
  },
  {
   "cell_type": "code",
   "execution_count": 10,
   "metadata": {},
   "outputs": [],
   "source": [
    "def convertToSlangword(ulasan):\n",
    "    kamusSlang = eval(open(\"NLP_bahasa_resources\\combined_slang_words.txt\").read())\n",
    "    content = []\n",
    "    for kata in ulasan.split():\n",
    "        try:\n",
    "            content.append(kamusSlang[kata])\n",
    "        except:\n",
    "            content.append(kata)\n",
    "    ulasan = ' '.join(content)\n",
    "    return ulasan\n",
    "\n",
    "df['Formalisasi'] = df['CaseFolding'].apply(convertToSlangword)"
   ]
  },
  {
   "cell_type": "code",
   "execution_count": 32,
   "metadata": {},
   "outputs": [],
   "source": [
    "df = pd.read_csv('review_mypertamina_processed.csv')"
   ]
  },
  {
   "cell_type": "code",
   "execution_count": 21,
   "metadata": {},
   "outputs": [],
   "source": [
    "positive = pd.read_csv('InSet\\positive.tsv', sep='\\t', index_col='word')\n",
    "negative = pd.read_csv('InSet\\\\negative.tsv', sep='\\t', index_col='word')\n",
    "\n",
    "# inset = pd.concat([positive, negative]).to_dict()['weight']\n",
    "positive = positive.to_dict()['weight']\n",
    "negative = negative.to_dict()['weight']"
   ]
  },
  {
   "cell_type": "code",
   "execution_count": 22,
   "metadata": {},
   "outputs": [
    {
     "name": "stderr",
     "output_type": "stream",
     "text": [
      "100%|██████████| 114904/114904 [00:02<00:00, 44064.64it/s] \n"
     ]
    }
   ],
   "source": [
    "def sentiment_score(ulasan):\n",
    "    inset_positive_score = 0\n",
    "    inset_negative_score = 0\n",
    "\n",
    "    for kata in str(ulasan).split():\n",
    "        try:\n",
    "            inset_positive_score += positive[kata]\n",
    "        except:\n",
    "            inset_positive_score += 0\n",
    "        \n",
    "        try:\n",
    "            inset_negative_score += negative[kata]\n",
    "        except:\n",
    "            inset_negative_score += 0\n",
    "\n",
    "    return inset_positive_score + inset_negative_score\n",
    "\n",
    "df['sentiment_score'] = df['CaseFolding'].progress_apply(sentiment_score)"
   ]
  },
  {
   "cell_type": "code",
   "execution_count": 34,
   "metadata": {},
   "outputs": [
    {
     "data": {
      "text/html": [
       "<div>\n",
       "<style scoped>\n",
       "    .dataframe tbody tr th:only-of-type {\n",
       "        vertical-align: middle;\n",
       "    }\n",
       "\n",
       "    .dataframe tbody tr th {\n",
       "        vertical-align: top;\n",
       "    }\n",
       "\n",
       "    .dataframe thead th {\n",
       "        text-align: right;\n",
       "    }\n",
       "</style>\n",
       "<table border=\"1\" class=\"dataframe\">\n",
       "  <thead>\n",
       "    <tr style=\"text-align: right;\">\n",
       "      <th></th>\n",
       "      <th>userName</th>\n",
       "      <th>score</th>\n",
       "      <th>at</th>\n",
       "      <th>content</th>\n",
       "      <th>Formalisasi</th>\n",
       "      <th>sentiment_score</th>\n",
       "    </tr>\n",
       "  </thead>\n",
       "  <tbody>\n",
       "    <tr>\n",
       "      <th>0</th>\n",
       "      <td>cool_ _id</td>\n",
       "      <td>1</td>\n",
       "      <td>2022-09-11 08:04:14</td>\n",
       "      <td>Aplikasi ini sangat menyusahkan, baik dari cus...</td>\n",
       "      <td>aplikasi ini sangat menyusahkan baik dari cust...</td>\n",
       "      <td>-36</td>\n",
       "    </tr>\n",
       "    <tr>\n",
       "      <th>1</th>\n",
       "      <td>Akun Gmail</td>\n",
       "      <td>1</td>\n",
       "      <td>2022-09-22 09:19:19</td>\n",
       "      <td>dari segi grafik sudah mantep di grafik tinggi...</td>\n",
       "      <td>dari segi grafik sudah mantap di grafik tinggi...</td>\n",
       "      <td>-5</td>\n",
       "    </tr>\n",
       "    <tr>\n",
       "      <th>2</th>\n",
       "      <td>Ris Mawardi</td>\n",
       "      <td>1</td>\n",
       "      <td>2022-09-13 00:20:28</td>\n",
       "      <td>Sudah daftar dan sudah isi data lengkap. Katan...</td>\n",
       "      <td>sudah daftar dan sudah isi data lengkap katany...</td>\n",
       "      <td>-13</td>\n",
       "    </tr>\n",
       "    <tr>\n",
       "      <th>3</th>\n",
       "      <td>Ali Ms</td>\n",
       "      <td>1</td>\n",
       "      <td>2022-08-31 15:56:00</td>\n",
       "      <td>Sebaiknya bagi yg darah tinggi tidak mendaftar...</td>\n",
       "      <td>sebaiknya bagi yang darah tinggi tidak mendaft...</td>\n",
       "      <td>-17</td>\n",
       "    </tr>\n",
       "    <tr>\n",
       "      <th>4</th>\n",
       "      <td>rudy tedjo</td>\n",
       "      <td>1</td>\n",
       "      <td>2022-07-28 11:11:45</td>\n",
       "      <td>Aplikasi tidak membantu, klik back langsung da...</td>\n",
       "      <td>aplikasi tidak membantu klik back langsung dat...</td>\n",
       "      <td>-17</td>\n",
       "    </tr>\n",
       "    <tr>\n",
       "      <th>...</th>\n",
       "      <td>...</td>\n",
       "      <td>...</td>\n",
       "      <td>...</td>\n",
       "      <td>...</td>\n",
       "      <td>...</td>\n",
       "      <td>...</td>\n",
       "    </tr>\n",
       "    <tr>\n",
       "      <th>114899</th>\n",
       "      <td>Putra Nainggolan18</td>\n",
       "      <td>1</td>\n",
       "      <td>2022-07-02 12:48:16</td>\n",
       "      <td>abal abal</td>\n",
       "      <td>abal abal</td>\n",
       "      <td>0</td>\n",
       "    </tr>\n",
       "    <tr>\n",
       "      <th>114900</th>\n",
       "      <td>Ibnu Khoirul</td>\n",
       "      <td>1</td>\n",
       "      <td>2022-06-30 00:30:34</td>\n",
       "      <td>mumet mumet</td>\n",
       "      <td>pusing pusing</td>\n",
       "      <td>-8</td>\n",
       "    </tr>\n",
       "    <tr>\n",
       "      <th>114901</th>\n",
       "      <td>firaz sarw</td>\n",
       "      <td>1</td>\n",
       "      <td>2022-06-30 14:49:17</td>\n",
       "      <td>ruwed ruwed ruwed</td>\n",
       "      <td>ruwed ruwed ruwed</td>\n",
       "      <td>0</td>\n",
       "    </tr>\n",
       "    <tr>\n",
       "      <th>114902</th>\n",
       "      <td>Mumtaz Toba</td>\n",
       "      <td>1</td>\n",
       "      <td>2022-06-30 14:03:10</td>\n",
       "      <td>no no no</td>\n",
       "      <td>no no no</td>\n",
       "      <td>0</td>\n",
       "    </tr>\n",
       "    <tr>\n",
       "      <th>114903</th>\n",
       "      <td>Jeri</td>\n",
       "      <td>1</td>\n",
       "      <td>2022-07-08 04:16:48</td>\n",
       "      <td>BUG BUG BUG</td>\n",
       "      <td>bug bug bug</td>\n",
       "      <td>0</td>\n",
       "    </tr>\n",
       "  </tbody>\n",
       "</table>\n",
       "<p>114904 rows × 6 columns</p>\n",
       "</div>"
      ],
      "text/plain": [
       "                  userName  score                   at  \\\n",
       "0                cool_ _id      1  2022-09-11 08:04:14   \n",
       "1               Akun Gmail      1  2022-09-22 09:19:19   \n",
       "2              Ris Mawardi      1  2022-09-13 00:20:28   \n",
       "3                   Ali Ms      1  2022-08-31 15:56:00   \n",
       "4               rudy tedjo      1  2022-07-28 11:11:45   \n",
       "...                    ...    ...                  ...   \n",
       "114899  Putra Nainggolan18      1  2022-07-02 12:48:16   \n",
       "114900        Ibnu Khoirul      1  2022-06-30 00:30:34   \n",
       "114901          firaz sarw      1  2022-06-30 14:49:17   \n",
       "114902         Mumtaz Toba      1  2022-06-30 14:03:10   \n",
       "114903                Jeri      1  2022-07-08 04:16:48   \n",
       "\n",
       "                                                  content  \\\n",
       "0       Aplikasi ini sangat menyusahkan, baik dari cus...   \n",
       "1       dari segi grafik sudah mantep di grafik tinggi...   \n",
       "2       Sudah daftar dan sudah isi data lengkap. Katan...   \n",
       "3       Sebaiknya bagi yg darah tinggi tidak mendaftar...   \n",
       "4       Aplikasi tidak membantu, klik back langsung da...   \n",
       "...                                                   ...   \n",
       "114899                                          abal abal   \n",
       "114900                                        mumet mumet   \n",
       "114901                                  ruwed ruwed ruwed   \n",
       "114902                                           no no no   \n",
       "114903                                        BUG BUG BUG   \n",
       "\n",
       "                                              Formalisasi  sentiment_score  \n",
       "0       aplikasi ini sangat menyusahkan baik dari cust...              -36  \n",
       "1       dari segi grafik sudah mantap di grafik tinggi...               -5  \n",
       "2       sudah daftar dan sudah isi data lengkap katany...              -13  \n",
       "3       sebaiknya bagi yang darah tinggi tidak mendaft...              -17  \n",
       "4       aplikasi tidak membantu klik back langsung dat...              -17  \n",
       "...                                                   ...              ...  \n",
       "114899                                          abal abal                0  \n",
       "114900                                      pusing pusing               -8  \n",
       "114901                                  ruwed ruwed ruwed                0  \n",
       "114902                                           no no no                0  \n",
       "114903                                        bug bug bug                0  \n",
       "\n",
       "[114904 rows x 6 columns]"
      ]
     },
     "execution_count": 34,
     "metadata": {},
     "output_type": "execute_result"
    }
   ],
   "source": [
    "df = df[['userName', 'score','at', 'content', 'Formalisasi', 'sentiment_score']]\n",
    "df"
   ]
  },
  {
   "cell_type": "code",
   "execution_count": 24,
   "metadata": {},
   "outputs": [],
   "source": [
    "# df.to_csv('review_mypertamina.csv', index=False)"
   ]
  },
  {
   "cell_type": "code",
   "execution_count": 25,
   "metadata": {},
   "outputs": [],
   "source": [
    "# df = pd.read_csv('review_mypertamina.csv')"
   ]
  },
  {
   "cell_type": "code",
   "execution_count": 35,
   "metadata": {},
   "outputs": [],
   "source": [
    "labels = pd.read_csv('label_keyword.csv',sep=';')\n",
    "labels['keywords'] = labels['keywords'].apply(lambda x: x.lower().split(' '))\n",
    "labels['number_of_keywords'] = labels['keywords'].apply(lambda row: len(row))"
   ]
  },
  {
   "cell_type": "code",
   "execution_count": 36,
   "metadata": {},
   "outputs": [
    {
     "data": {
      "text/html": [
       "<div>\n",
       "<style scoped>\n",
       "    .dataframe tbody tr th:only-of-type {\n",
       "        vertical-align: middle;\n",
       "    }\n",
       "\n",
       "    .dataframe tbody tr th {\n",
       "        vertical-align: top;\n",
       "    }\n",
       "\n",
       "    .dataframe thead th {\n",
       "        text-align: right;\n",
       "    }\n",
       "</style>\n",
       "<table border=\"1\" class=\"dataframe\">\n",
       "  <thead>\n",
       "    <tr style=\"text-align: right;\">\n",
       "      <th></th>\n",
       "      <th>class_index</th>\n",
       "      <th>class_name</th>\n",
       "      <th>keywords</th>\n",
       "      <th>number_of_keywords</th>\n",
       "    </tr>\n",
       "  </thead>\n",
       "  <tbody>\n",
       "    <tr>\n",
       "      <th>0</th>\n",
       "      <td>1</td>\n",
       "      <td>user_experience</td>\n",
       "      <td>[menyusahkan, susah, sulit, mempersulit, belum...</td>\n",
       "      <td>11</td>\n",
       "    </tr>\n",
       "    <tr>\n",
       "      <th>1</th>\n",
       "      <td>2</td>\n",
       "      <td>jaringan_dan_koneksi</td>\n",
       "      <td>[sinyal, stabil, wifi, loading, gangguan, jari...</td>\n",
       "      <td>8</td>\n",
       "    </tr>\n",
       "    <tr>\n",
       "      <th>2</th>\n",
       "      <td>3</td>\n",
       "      <td>payment</td>\n",
       "      <td>[pembayaran, payment, linkaja, transfer, bank,...</td>\n",
       "      <td>24</td>\n",
       "    </tr>\n",
       "    <tr>\n",
       "      <th>3</th>\n",
       "      <td>4</td>\n",
       "      <td>security</td>\n",
       "      <td>[data, pribadi, sistem, retas]</td>\n",
       "      <td>4</td>\n",
       "    </tr>\n",
       "    <tr>\n",
       "      <th>4</th>\n",
       "      <td>5</td>\n",
       "      <td>akun</td>\n",
       "      <td>[verifikasi, login, mendaftar, daftar, email, ...</td>\n",
       "      <td>10</td>\n",
       "    </tr>\n",
       "    <tr>\n",
       "      <th>5</th>\n",
       "      <td>6</td>\n",
       "      <td>daftar_subsidi</td>\n",
       "      <td>[subsidi, nik, upload, gagal, perbaiki, memper...</td>\n",
       "      <td>13</td>\n",
       "    </tr>\n",
       "    <tr>\n",
       "      <th>6</th>\n",
       "      <td>6</td>\n",
       "      <td>loyalty</td>\n",
       "      <td>[poin, poinnya, point, pointnya, bonus, vouche...</td>\n",
       "      <td>8</td>\n",
       "    </tr>\n",
       "    <tr>\n",
       "      <th>7</th>\n",
       "      <td>7</td>\n",
       "      <td>server</td>\n",
       "      <td>[server, memori, size, down, ukuran]</td>\n",
       "      <td>5</td>\n",
       "    </tr>\n",
       "    <tr>\n",
       "      <th>8</th>\n",
       "      <td>8</td>\n",
       "      <td>invalid_troll</td>\n",
       "      <td>[war, player, pemain, game, gameplay, lvl, sen...</td>\n",
       "      <td>21</td>\n",
       "    </tr>\n",
       "  </tbody>\n",
       "</table>\n",
       "</div>"
      ],
      "text/plain": [
       "   class_index            class_name  \\\n",
       "0            1       user_experience   \n",
       "1            2  jaringan_dan_koneksi   \n",
       "2            3               payment   \n",
       "3            4              security   \n",
       "4            5                  akun   \n",
       "5            6        daftar_subsidi   \n",
       "6            6               loyalty   \n",
       "7            7                server   \n",
       "8            8         invalid_troll   \n",
       "\n",
       "                                            keywords  number_of_keywords  \n",
       "0  [menyusahkan, susah, sulit, mempersulit, belum...                  11  \n",
       "1  [sinyal, stabil, wifi, loading, gangguan, jari...                   8  \n",
       "2  [pembayaran, payment, linkaja, transfer, bank,...                  24  \n",
       "3                     [data, pribadi, sistem, retas]                   4  \n",
       "4  [verifikasi, login, mendaftar, daftar, email, ...                  10  \n",
       "5  [subsidi, nik, upload, gagal, perbaiki, memper...                  13  \n",
       "6  [poin, poinnya, point, pointnya, bonus, vouche...                   8  \n",
       "7               [server, memori, size, down, ukuran]                   5  \n",
       "8  [war, player, pemain, game, gameplay, lvl, sen...                  21  "
      ]
     },
     "execution_count": 36,
     "metadata": {},
     "output_type": "execute_result"
    }
   ],
   "source": [
    "labels"
   ]
  },
  {
   "cell_type": "code",
   "execution_count": 37,
   "metadata": {},
   "outputs": [],
   "source": [
    "def tokenize(doc):\n",
    "    return simple_preprocess(strip_tags(doc), deacc=True, min_len=2, max_len=15)"
   ]
  },
  {
   "cell_type": "code",
   "execution_count": 29,
   "metadata": {},
   "outputs": [
    {
     "data": {
      "text/html": [
       "<div>\n",
       "<style scoped>\n",
       "    .dataframe tbody tr th:only-of-type {\n",
       "        vertical-align: middle;\n",
       "    }\n",
       "\n",
       "    .dataframe tbody tr th {\n",
       "        vertical-align: top;\n",
       "    }\n",
       "\n",
       "    .dataframe thead th {\n",
       "        text-align: right;\n",
       "    }\n",
       "</style>\n",
       "<table border=\"1\" class=\"dataframe\">\n",
       "  <thead>\n",
       "    <tr style=\"text-align: right;\">\n",
       "      <th></th>\n",
       "      <th>userName</th>\n",
       "      <th>score</th>\n",
       "      <th>at</th>\n",
       "      <th>content</th>\n",
       "      <th>Formalisasi</th>\n",
       "      <th>sentiment_score</th>\n",
       "    </tr>\n",
       "  </thead>\n",
       "  <tbody>\n",
       "    <tr>\n",
       "      <th>0</th>\n",
       "      <td>cool_ _id</td>\n",
       "      <td>1</td>\n",
       "      <td>2022-09-11 08:04:14</td>\n",
       "      <td>Aplikasi ini sangat menyusahkan, baik dari cus...</td>\n",
       "      <td>aplikasi ini sangat menyusahkan baik dari cust...</td>\n",
       "      <td>-54</td>\n",
       "    </tr>\n",
       "    <tr>\n",
       "      <th>1</th>\n",
       "      <td>Akun Gmail</td>\n",
       "      <td>1</td>\n",
       "      <td>2022-09-22 09:19:19</td>\n",
       "      <td>dari segi grafik sudah mantep di grafik tinggi...</td>\n",
       "      <td>dari segi grafik sudah mantap di grafik tinggi...</td>\n",
       "      <td>-57</td>\n",
       "    </tr>\n",
       "    <tr>\n",
       "      <th>2</th>\n",
       "      <td>Ris Mawardi</td>\n",
       "      <td>1</td>\n",
       "      <td>2022-09-13 00:20:28</td>\n",
       "      <td>Sudah daftar dan sudah isi data lengkap. Katan...</td>\n",
       "      <td>sudah daftar dan sudah isi data lengkap katany...</td>\n",
       "      <td>-31</td>\n",
       "    </tr>\n",
       "    <tr>\n",
       "      <th>3</th>\n",
       "      <td>Ali Ms</td>\n",
       "      <td>1</td>\n",
       "      <td>2022-08-31 15:56:00</td>\n",
       "      <td>Sebaiknya bagi yg darah tinggi tidak mendaftar...</td>\n",
       "      <td>sebaiknya bagi yang darah tinggi tidak mendaft...</td>\n",
       "      <td>-37</td>\n",
       "    </tr>\n",
       "    <tr>\n",
       "      <th>4</th>\n",
       "      <td>rudy tedjo</td>\n",
       "      <td>1</td>\n",
       "      <td>2022-07-28 11:11:45</td>\n",
       "      <td>Aplikasi tidak membantu, klik back langsung da...</td>\n",
       "      <td>aplikasi tidak membantu klik back langsung dat...</td>\n",
       "      <td>-27</td>\n",
       "    </tr>\n",
       "  </tbody>\n",
       "</table>\n",
       "</div>"
      ],
      "text/plain": [
       "      userName  score                   at  \\\n",
       "0    cool_ _id      1  2022-09-11 08:04:14   \n",
       "1   Akun Gmail      1  2022-09-22 09:19:19   \n",
       "2  Ris Mawardi      1  2022-09-13 00:20:28   \n",
       "3       Ali Ms      1  2022-08-31 15:56:00   \n",
       "4   rudy tedjo      1  2022-07-28 11:11:45   \n",
       "\n",
       "                                             content  \\\n",
       "0  Aplikasi ini sangat menyusahkan, baik dari cus...   \n",
       "1  dari segi grafik sudah mantep di grafik tinggi...   \n",
       "2  Sudah daftar dan sudah isi data lengkap. Katan...   \n",
       "3  Sebaiknya bagi yg darah tinggi tidak mendaftar...   \n",
       "4  Aplikasi tidak membantu, klik back langsung da...   \n",
       "\n",
       "                                         Formalisasi  sentiment_score  \n",
       "0  aplikasi ini sangat menyusahkan baik dari cust...              -54  \n",
       "1  dari segi grafik sudah mantap di grafik tinggi...              -57  \n",
       "2  sudah daftar dan sudah isi data lengkap katany...              -31  \n",
       "3  sebaiknya bagi yang darah tinggi tidak mendaft...              -37  \n",
       "4  aplikasi tidak membantu klik back langsung dat...              -27  "
      ]
     },
     "execution_count": 29,
     "metadata": {},
     "output_type": "execute_result"
    }
   ],
   "source": [
    "df.head()"
   ]
  },
  {
   "cell_type": "code",
   "execution_count": 30,
   "metadata": {},
   "outputs": [],
   "source": [
    "# sum(df['Formalisasi'].isna())"
   ]
  },
  {
   "cell_type": "code",
   "execution_count": 39,
   "metadata": {},
   "outputs": [
    {
     "name": "stderr",
     "output_type": "stream",
     "text": [
      "C:\\Users\\ACER\\AppData\\Local\\Temp\\ipykernel_11580\\2374836411.py:1: SettingWithCopyWarning: \n",
      "A value is trying to be set on a copy of a slice from a DataFrame.\n",
      "Try using .loc[row_indexer,col_indexer] = value instead\n",
      "\n",
      "See the caveats in the documentation: https://pandas.pydata.org/pandas-docs/stable/user_guide/indexing.html#returning-a-view-versus-a-copy\n",
      "  df['Formalisasi'] = df['Formalisasi'].fillna('').astype(str)\n",
      "100%|██████████| 114904/114904 [00:11<00:00, 9927.85it/s] \n",
      "C:\\Users\\ACER\\AppData\\Local\\Temp\\ipykernel_11580\\2374836411.py:2: SettingWithCopyWarning: \n",
      "A value is trying to be set on a copy of a slice from a DataFrame.\n",
      "Try using .loc[row_indexer,col_indexer] = value instead\n",
      "\n",
      "See the caveats in the documentation: https://pandas.pydata.org/pandas-docs/stable/user_guide/indexing.html#returning-a-view-versus-a-copy\n",
      "  df['tagged_docs'] = df.progress_apply(lambda row: TaggedDocument(tokenize(row['Formalisasi']), [str(row.name)]), axis=1)\n"
     ]
    }
   ],
   "source": [
    "df['Formalisasi'] = df['Formalisasi'].fillna('').astype(str)\n",
    "df['tagged_docs'] = df.progress_apply(lambda row: TaggedDocument(tokenize(row['Formalisasi']), [str(row.name)]), axis=1)"
   ]
  },
  {
   "cell_type": "code",
   "execution_count": 40,
   "metadata": {},
   "outputs": [
    {
     "data": {
      "text/html": [
       "<div>\n",
       "<style scoped>\n",
       "    .dataframe tbody tr th:only-of-type {\n",
       "        vertical-align: middle;\n",
       "    }\n",
       "\n",
       "    .dataframe tbody tr th {\n",
       "        vertical-align: top;\n",
       "    }\n",
       "\n",
       "    .dataframe thead th {\n",
       "        text-align: right;\n",
       "    }\n",
       "</style>\n",
       "<table border=\"1\" class=\"dataframe\">\n",
       "  <thead>\n",
       "    <tr style=\"text-align: right;\">\n",
       "      <th></th>\n",
       "      <th>userName</th>\n",
       "      <th>score</th>\n",
       "      <th>at</th>\n",
       "      <th>content</th>\n",
       "      <th>Formalisasi</th>\n",
       "      <th>sentiment_score</th>\n",
       "      <th>tagged_docs</th>\n",
       "    </tr>\n",
       "  </thead>\n",
       "  <tbody>\n",
       "    <tr>\n",
       "      <th>0</th>\n",
       "      <td>cool_ _id</td>\n",
       "      <td>1</td>\n",
       "      <td>2022-09-11 08:04:14</td>\n",
       "      <td>Aplikasi ini sangat menyusahkan, baik dari cus...</td>\n",
       "      <td>aplikasi ini sangat menyusahkan baik dari cust...</td>\n",
       "      <td>-36</td>\n",
       "      <td>([aplikasi, ini, sangat, menyusahkan, baik, da...</td>\n",
       "    </tr>\n",
       "    <tr>\n",
       "      <th>1</th>\n",
       "      <td>Akun Gmail</td>\n",
       "      <td>1</td>\n",
       "      <td>2022-09-22 09:19:19</td>\n",
       "      <td>dari segi grafik sudah mantep di grafik tinggi...</td>\n",
       "      <td>dari segi grafik sudah mantap di grafik tinggi...</td>\n",
       "      <td>-5</td>\n",
       "      <td>([dari, segi, grafik, sudah, mantap, di, grafi...</td>\n",
       "    </tr>\n",
       "    <tr>\n",
       "      <th>2</th>\n",
       "      <td>Ris Mawardi</td>\n",
       "      <td>1</td>\n",
       "      <td>2022-09-13 00:20:28</td>\n",
       "      <td>Sudah daftar dan sudah isi data lengkap. Katan...</td>\n",
       "      <td>sudah daftar dan sudah isi data lengkap katany...</td>\n",
       "      <td>-13</td>\n",
       "      <td>([sudah, daftar, dan, sudah, isi, data, lengka...</td>\n",
       "    </tr>\n",
       "    <tr>\n",
       "      <th>3</th>\n",
       "      <td>Ali Ms</td>\n",
       "      <td>1</td>\n",
       "      <td>2022-08-31 15:56:00</td>\n",
       "      <td>Sebaiknya bagi yg darah tinggi tidak mendaftar...</td>\n",
       "      <td>sebaiknya bagi yang darah tinggi tidak mendaft...</td>\n",
       "      <td>-17</td>\n",
       "      <td>([sebaiknya, bagi, yang, darah, tinggi, tidak,...</td>\n",
       "    </tr>\n",
       "    <tr>\n",
       "      <th>4</th>\n",
       "      <td>rudy tedjo</td>\n",
       "      <td>1</td>\n",
       "      <td>2022-07-28 11:11:45</td>\n",
       "      <td>Aplikasi tidak membantu, klik back langsung da...</td>\n",
       "      <td>aplikasi tidak membantu klik back langsung dat...</td>\n",
       "      <td>-17</td>\n",
       "      <td>([aplikasi, tidak, membantu, klik, back, langs...</td>\n",
       "    </tr>\n",
       "  </tbody>\n",
       "</table>\n",
       "</div>"
      ],
      "text/plain": [
       "      userName  score                   at  \\\n",
       "0    cool_ _id      1  2022-09-11 08:04:14   \n",
       "1   Akun Gmail      1  2022-09-22 09:19:19   \n",
       "2  Ris Mawardi      1  2022-09-13 00:20:28   \n",
       "3       Ali Ms      1  2022-08-31 15:56:00   \n",
       "4   rudy tedjo      1  2022-07-28 11:11:45   \n",
       "\n",
       "                                             content  \\\n",
       "0  Aplikasi ini sangat menyusahkan, baik dari cus...   \n",
       "1  dari segi grafik sudah mantep di grafik tinggi...   \n",
       "2  Sudah daftar dan sudah isi data lengkap. Katan...   \n",
       "3  Sebaiknya bagi yg darah tinggi tidak mendaftar...   \n",
       "4  Aplikasi tidak membantu, klik back langsung da...   \n",
       "\n",
       "                                         Formalisasi  sentiment_score  \\\n",
       "0  aplikasi ini sangat menyusahkan baik dari cust...              -36   \n",
       "1  dari segi grafik sudah mantap di grafik tinggi...               -5   \n",
       "2  sudah daftar dan sudah isi data lengkap katany...              -13   \n",
       "3  sebaiknya bagi yang darah tinggi tidak mendaft...              -17   \n",
       "4  aplikasi tidak membantu klik back langsung dat...              -17   \n",
       "\n",
       "                                         tagged_docs  \n",
       "0  ([aplikasi, ini, sangat, menyusahkan, baik, da...  \n",
       "1  ([dari, segi, grafik, sudah, mantap, di, grafi...  \n",
       "2  ([sudah, daftar, dan, sudah, isi, data, lengka...  \n",
       "3  ([sebaiknya, bagi, yang, darah, tinggi, tidak,...  \n",
       "4  ([aplikasi, tidak, membantu, klik, back, langs...  "
      ]
     },
     "execution_count": 40,
     "metadata": {},
     "output_type": "execute_result"
    }
   ],
   "source": [
    "df.head()"
   ]
  },
  {
   "cell_type": "code",
   "execution_count": 41,
   "metadata": {},
   "outputs": [
    {
     "name": "stderr",
     "output_type": "stream",
     "text": [
      "C:\\Users\\ACER\\AppData\\Local\\Temp\\ipykernel_11580\\3469394351.py:1: SettingWithCopyWarning: \n",
      "A value is trying to be set on a copy of a slice from a DataFrame.\n",
      "Try using .loc[row_indexer,col_indexer] = value instead\n",
      "\n",
      "See the caveats in the documentation: https://pandas.pydata.org/pandas-docs/stable/user_guide/indexing.html#returning-a-view-versus-a-copy\n",
      "  df['doc_key'] = df.index.astype(str)\n"
     ]
    }
   ],
   "source": [
    "df['doc_key'] = df.index.astype(str)"
   ]
  },
  {
   "cell_type": "code",
   "execution_count": 42,
   "metadata": {},
   "outputs": [
    {
     "data": {
      "text/html": [
       "<div>\n",
       "<style scoped>\n",
       "    .dataframe tbody tr th:only-of-type {\n",
       "        vertical-align: middle;\n",
       "    }\n",
       "\n",
       "    .dataframe tbody tr th {\n",
       "        vertical-align: top;\n",
       "    }\n",
       "\n",
       "    .dataframe thead th {\n",
       "        text-align: right;\n",
       "    }\n",
       "</style>\n",
       "<table border=\"1\" class=\"dataframe\">\n",
       "  <thead>\n",
       "    <tr style=\"text-align: right;\">\n",
       "      <th></th>\n",
       "      <th>userName</th>\n",
       "      <th>score</th>\n",
       "      <th>at</th>\n",
       "      <th>content</th>\n",
       "      <th>Formalisasi</th>\n",
       "      <th>sentiment_score</th>\n",
       "      <th>tagged_docs</th>\n",
       "      <th>doc_key</th>\n",
       "    </tr>\n",
       "  </thead>\n",
       "  <tbody>\n",
       "    <tr>\n",
       "      <th>0</th>\n",
       "      <td>cool_ _id</td>\n",
       "      <td>1</td>\n",
       "      <td>2022-09-11 08:04:14</td>\n",
       "      <td>Aplikasi ini sangat menyusahkan, baik dari cus...</td>\n",
       "      <td>aplikasi ini sangat menyusahkan baik dari cust...</td>\n",
       "      <td>-36</td>\n",
       "      <td>([aplikasi, ini, sangat, menyusahkan, baik, da...</td>\n",
       "      <td>0</td>\n",
       "    </tr>\n",
       "    <tr>\n",
       "      <th>1</th>\n",
       "      <td>Akun Gmail</td>\n",
       "      <td>1</td>\n",
       "      <td>2022-09-22 09:19:19</td>\n",
       "      <td>dari segi grafik sudah mantep di grafik tinggi...</td>\n",
       "      <td>dari segi grafik sudah mantap di grafik tinggi...</td>\n",
       "      <td>-5</td>\n",
       "      <td>([dari, segi, grafik, sudah, mantap, di, grafi...</td>\n",
       "      <td>1</td>\n",
       "    </tr>\n",
       "    <tr>\n",
       "      <th>2</th>\n",
       "      <td>Ris Mawardi</td>\n",
       "      <td>1</td>\n",
       "      <td>2022-09-13 00:20:28</td>\n",
       "      <td>Sudah daftar dan sudah isi data lengkap. Katan...</td>\n",
       "      <td>sudah daftar dan sudah isi data lengkap katany...</td>\n",
       "      <td>-13</td>\n",
       "      <td>([sudah, daftar, dan, sudah, isi, data, lengka...</td>\n",
       "      <td>2</td>\n",
       "    </tr>\n",
       "    <tr>\n",
       "      <th>3</th>\n",
       "      <td>Ali Ms</td>\n",
       "      <td>1</td>\n",
       "      <td>2022-08-31 15:56:00</td>\n",
       "      <td>Sebaiknya bagi yg darah tinggi tidak mendaftar...</td>\n",
       "      <td>sebaiknya bagi yang darah tinggi tidak mendaft...</td>\n",
       "      <td>-17</td>\n",
       "      <td>([sebaiknya, bagi, yang, darah, tinggi, tidak,...</td>\n",
       "      <td>3</td>\n",
       "    </tr>\n",
       "    <tr>\n",
       "      <th>4</th>\n",
       "      <td>rudy tedjo</td>\n",
       "      <td>1</td>\n",
       "      <td>2022-07-28 11:11:45</td>\n",
       "      <td>Aplikasi tidak membantu, klik back langsung da...</td>\n",
       "      <td>aplikasi tidak membantu klik back langsung dat...</td>\n",
       "      <td>-17</td>\n",
       "      <td>([aplikasi, tidak, membantu, klik, back, langs...</td>\n",
       "      <td>4</td>\n",
       "    </tr>\n",
       "  </tbody>\n",
       "</table>\n",
       "</div>"
      ],
      "text/plain": [
       "      userName  score                   at  \\\n",
       "0    cool_ _id      1  2022-09-11 08:04:14   \n",
       "1   Akun Gmail      1  2022-09-22 09:19:19   \n",
       "2  Ris Mawardi      1  2022-09-13 00:20:28   \n",
       "3       Ali Ms      1  2022-08-31 15:56:00   \n",
       "4   rudy tedjo      1  2022-07-28 11:11:45   \n",
       "\n",
       "                                             content  \\\n",
       "0  Aplikasi ini sangat menyusahkan, baik dari cus...   \n",
       "1  dari segi grafik sudah mantep di grafik tinggi...   \n",
       "2  Sudah daftar dan sudah isi data lengkap. Katan...   \n",
       "3  Sebaiknya bagi yg darah tinggi tidak mendaftar...   \n",
       "4  Aplikasi tidak membantu, klik back langsung da...   \n",
       "\n",
       "                                         Formalisasi  sentiment_score  \\\n",
       "0  aplikasi ini sangat menyusahkan baik dari cust...              -36   \n",
       "1  dari segi grafik sudah mantap di grafik tinggi...               -5   \n",
       "2  sudah daftar dan sudah isi data lengkap katany...              -13   \n",
       "3  sebaiknya bagi yang darah tinggi tidak mendaft...              -17   \n",
       "4  aplikasi tidak membantu klik back langsung dat...              -17   \n",
       "\n",
       "                                         tagged_docs doc_key  \n",
       "0  ([aplikasi, ini, sangat, menyusahkan, baik, da...       0  \n",
       "1  ([dari, segi, grafik, sudah, mantap, di, grafi...       1  \n",
       "2  ([sudah, daftar, dan, sudah, isi, data, lengka...       2  \n",
       "3  ([sebaiknya, bagi, yang, darah, tinggi, tidak,...       3  \n",
       "4  ([aplikasi, tidak, membantu, klik, back, langs...       4  "
      ]
     },
     "execution_count": 42,
     "metadata": {},
     "output_type": "execute_result"
    }
   ],
   "source": [
    "df.head()"
   ]
  },
  {
   "cell_type": "code",
   "execution_count": 43,
   "metadata": {},
   "outputs": [],
   "source": [
    "doc2vec_model = Doc2Vec(documents=df['tagged_docs'], dbow_words=1, dm=1)"
   ]
  },
  {
   "cell_type": "code",
   "execution_count": 44,
   "metadata": {},
   "outputs": [],
   "source": [
    "doc2vec_model.save('doc2vec_model')"
   ]
  },
  {
   "cell_type": "code",
   "execution_count": 45,
   "metadata": {},
   "outputs": [
    {
     "name": "stderr",
     "output_type": "stream",
     "text": [
      "2022-10-12 21:46:10,096 - Lbl2Vec - INFO - Load document and word embeddings\n",
      "2022-10-12 21:46:10,101 - Lbl2Vec - INFO - Train label embeddings\n",
      "2022-10-12 21:46:10,996 - Lbl2Vec - WARNING - The following keywords from the 'keywords_list' are unknown to the Doc2Vec model and therefore not used to train the model: e-wallet\n",
      "2022-10-12 21:46:13,319 - Lbl2Vec - WARNING - The following keywords from the 'keywords_list' are unknown to the Doc2Vec model and therefore not used to train the model: item\n"
     ]
    }
   ],
   "source": [
    "Lbl2Vec_model = Lbl2Vec(keywords_list=list(labels.keywords),  doc2vec_model=doc2vec_model, label_names=list(labels.class_name), similarity_threshold=0.43, min_num_docs=100, epochs=10)\n",
    "\n",
    "Lbl2Vec_model.fit()"
   ]
  },
  {
   "cell_type": "code",
   "execution_count": 46,
   "metadata": {},
   "outputs": [
    {
     "name": "stderr",
     "output_type": "stream",
     "text": [
      "2022-10-12 21:46:14,275 - Lbl2Vec - INFO - Get document embeddings from model\n",
      "2022-10-12 21:46:14,519 - Lbl2Vec - INFO - Calculate document<->label similarities\n"
     ]
    }
   ],
   "source": [
    "model_docs_lbl_similarities = Lbl2Vec_model.predict_model_docs()"
   ]
  },
  {
   "cell_type": "code",
   "execution_count": 47,
   "metadata": {},
   "outputs": [],
   "source": [
    "model_docs_lbl_similarities = model_docs_lbl_similarities.merge(df, left_on='doc_key', right_on='doc_key')#[['content','most_similar_label']]"
   ]
  },
  {
   "cell_type": "code",
   "execution_count": 48,
   "metadata": {},
   "outputs": [
    {
     "data": {
      "text/html": [
       "<div>\n",
       "<style scoped>\n",
       "    .dataframe tbody tr th:only-of-type {\n",
       "        vertical-align: middle;\n",
       "    }\n",
       "\n",
       "    .dataframe tbody tr th {\n",
       "        vertical-align: top;\n",
       "    }\n",
       "\n",
       "    .dataframe thead th {\n",
       "        text-align: right;\n",
       "    }\n",
       "</style>\n",
       "<table border=\"1\" class=\"dataframe\">\n",
       "  <thead>\n",
       "    <tr style=\"text-align: right;\">\n",
       "      <th></th>\n",
       "      <th>content</th>\n",
       "      <th>most_similar_label</th>\n",
       "    </tr>\n",
       "  </thead>\n",
       "  <tbody>\n",
       "    <tr>\n",
       "      <th>0</th>\n",
       "      <td>Aplikasi ini sangat menyusahkan, baik dari cus...</td>\n",
       "      <td>user_experience</td>\n",
       "    </tr>\n",
       "    <tr>\n",
       "      <th>1</th>\n",
       "      <td>dari segi grafik sudah mantep di grafik tinggi...</td>\n",
       "      <td>jaringan_dan_koneksi</td>\n",
       "    </tr>\n",
       "    <tr>\n",
       "      <th>2</th>\n",
       "      <td>Sudah daftar dan sudah isi data lengkap. Katan...</td>\n",
       "      <td>security</td>\n",
       "    </tr>\n",
       "    <tr>\n",
       "      <th>3</th>\n",
       "      <td>Sebaiknya bagi yg darah tinggi tidak mendaftar...</td>\n",
       "      <td>security</td>\n",
       "    </tr>\n",
       "    <tr>\n",
       "      <th>4</th>\n",
       "      <td>Aplikasi tidak membantu, klik back langsung da...</td>\n",
       "      <td>payment</td>\n",
       "    </tr>\n",
       "    <tr>\n",
       "      <th>...</th>\n",
       "      <td>...</td>\n",
       "      <td>...</td>\n",
       "    </tr>\n",
       "    <tr>\n",
       "      <th>114899</th>\n",
       "      <td>abal abal</td>\n",
       "      <td>invalid_troll</td>\n",
       "    </tr>\n",
       "    <tr>\n",
       "      <th>114900</th>\n",
       "      <td>mumet mumet</td>\n",
       "      <td>invalid_troll</td>\n",
       "    </tr>\n",
       "    <tr>\n",
       "      <th>114901</th>\n",
       "      <td>ruwed ruwed ruwed</td>\n",
       "      <td>invalid_troll</td>\n",
       "    </tr>\n",
       "    <tr>\n",
       "      <th>114902</th>\n",
       "      <td>no no no</td>\n",
       "      <td>invalid_troll</td>\n",
       "    </tr>\n",
       "    <tr>\n",
       "      <th>114903</th>\n",
       "      <td>BUG BUG BUG</td>\n",
       "      <td>invalid_troll</td>\n",
       "    </tr>\n",
       "  </tbody>\n",
       "</table>\n",
       "<p>114904 rows × 2 columns</p>\n",
       "</div>"
      ],
      "text/plain": [
       "                                                  content  \\\n",
       "0       Aplikasi ini sangat menyusahkan, baik dari cus...   \n",
       "1       dari segi grafik sudah mantep di grafik tinggi...   \n",
       "2       Sudah daftar dan sudah isi data lengkap. Katan...   \n",
       "3       Sebaiknya bagi yg darah tinggi tidak mendaftar...   \n",
       "4       Aplikasi tidak membantu, klik back langsung da...   \n",
       "...                                                   ...   \n",
       "114899                                          abal abal   \n",
       "114900                                        mumet mumet   \n",
       "114901                                  ruwed ruwed ruwed   \n",
       "114902                                           no no no   \n",
       "114903                                        BUG BUG BUG   \n",
       "\n",
       "          most_similar_label  \n",
       "0            user_experience  \n",
       "1       jaringan_dan_koneksi  \n",
       "2                   security  \n",
       "3                   security  \n",
       "4                    payment  \n",
       "...                      ...  \n",
       "114899         invalid_troll  \n",
       "114900         invalid_troll  \n",
       "114901         invalid_troll  \n",
       "114902         invalid_troll  \n",
       "114903         invalid_troll  \n",
       "\n",
       "[114904 rows x 2 columns]"
      ]
     },
     "execution_count": 48,
     "metadata": {},
     "output_type": "execute_result"
    }
   ],
   "source": [
    "model_docs_lbl_similarities[['content', 'most_similar_label']]"
   ]
  },
  {
   "cell_type": "code",
   "execution_count": 49,
   "metadata": {},
   "outputs": [
    {
     "data": {
      "text/plain": [
       "[Text(0, 0, '7060'),\n",
       " Text(0, 0, '4263'),\n",
       " Text(0, 0, '3655'),\n",
       " Text(0, 0, '3230'),\n",
       " Text(0, 0, '2962'),\n",
       " Text(0, 0, '1836'),\n",
       " Text(0, 0, '1790'),\n",
       " Text(0, 0, '1459')]"
      ]
     },
     "execution_count": 49,
     "metadata": {},
     "output_type": "execute_result"
    },
    {
     "data": {
      "image/png": "[encoded data removed]",
      "text/plain": [
       "<Figure size 640x480 with 1 Axes>"
      ]
     },
     "metadata": {},
     "output_type": "display_data"
    }
   ],
   "source": [
    "ax = model_docs_lbl_similarities[model_docs_lbl_similarities['most_similar_label'] != 'invalid_troll']['most_similar_label'].value_counts().plot(kind='bar')\n",
    "ax.bar_label((ax.containers[0]))"
   ]
  },
  {
   "cell_type": "code",
   "execution_count": 50,
   "metadata": {},
   "outputs": [],
   "source": [
    "sentiment_dict = {}\n",
    "for i in model_docs_lbl_similarities.iterrows():\n",
    "    sentiment_dict[i[1]['most_similar_label']] = sentiment_dict.get(i[1]['most_similar_label'], 0) + i[1]['sentiment_score']\n",
    "    # break"
   ]
  },
  {
   "cell_type": "code",
   "execution_count": 51,
   "metadata": {},
   "outputs": [],
   "source": [
    "sentiment_df = pd.DataFrame([val for _, val in sentiment_dict.items()], index=sentiment_dict.keys(), columns=['sentiment_score'])"
   ]
  },
  {
   "cell_type": "code",
   "execution_count": 52,
   "metadata": {},
   "outputs": [
    {
     "data": {
      "text/plain": [
       "[Text(0, 0, '48481'),\n",
       " Text(0, 0, '23236'),\n",
       " Text(0, 0, '22680'),\n",
       " Text(0, 0, '18084'),\n",
       " Text(0, 0, '16846'),\n",
       " Text(0, 0, '15633'),\n",
       " Text(0, 0, '9060'),\n",
       " Text(0, 0, '9007')]"
      ]
     },
     "execution_count": 52,
     "metadata": {},
     "output_type": "execute_result"
    },
    {
     "data": {
      "image/png": "[encoded data removed]",
      "text/plain": [
       "<Figure size 640x480 with 1 Axes>"
      ]
     },
     "metadata": {},
     "output_type": "display_data"
    }
   ],
   "source": [
    "ax = np.abs(sentiment_df.sort_values('sentiment_score'))[1:].plot.bar()\n",
    "ax.bar_label((ax.containers[0]))"
   ]
  },
  {
   "cell_type": "code",
   "execution_count": 53,
   "metadata": {},
   "outputs": [],
   "source": [
    "model_docs_lbl_similarities.to_csv('model_docs_lbl_similarities.csv', index=False)"
   ]
  },
  {
   "cell_type": "code",
   "execution_count": 54,
   "metadata": {},
   "outputs": [],
   "source": [
    "Lbl2Vec_model.save('Lbl2Vec_model')"
   ]
  }
 ],
 "metadata": {
  "kernelspec": {
   "display_name": "Python 3.10.7 ('.venv': venv)",
   "language": "python",
   "name": "python3"
  },
  "language_info": {
   "codemirror_mode": {
    "name": "ipython",
    "version": 3
   },
   "file_extension": ".py",
   "mimetype": "text/x-python",
   "name": "python",
   "nbconvert_exporter": "python",
   "pygments_lexer": "ipython3",
   "version": "3.10.7"
  },
  "orig_nbformat": 4,
  "vscode": {
   "interpreter": {
    "hash": "d3760f00dc84a561d1b0937ee5b78e6d76c755235379a04e757565e20c39e883"
   }
  }
 },
 "nbformat": 4,
 "nbformat_minor": 2
}
